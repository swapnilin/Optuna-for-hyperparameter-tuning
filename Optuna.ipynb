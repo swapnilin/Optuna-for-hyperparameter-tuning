{
  "cells": [
    {
      "cell_type": "markdown",
      "metadata": {
        "id": "F7bEypQWZ8kQ"
      },
      "source": [
        "# Optuna - A hyperparameter optimization framework"
      ]
    },
    {
      "cell_type": "markdown",
      "metadata": {
        "id": "WliF8hkLYjDI"
      },
      "source": [
        "Optuna is a popular hyperparameter optimization library, and it offers several advantages over traditional methods like grid search.\n",
        "\n",
        "| **Aspect**                           | **Grid Search**                                                                                           | **Optuna**                                                                                                                |\n",
        "|--------------------------------------|-----------------------------------------------------------------------------------------------------------|----------------------------------------------------------------------------------------------------------------------------|\n",
        "| **Efficiency**                       | Evaluates every combination of hyperparameters. Can be computationally expensive for large search spaces. | Uses efficient algorithms like TPE. It's more sample-efficient and can find good hyperparameters with fewer trials than grid search.                                                               |\n",
        "| **Dynamic Search Space**             | Requires a fixed search space. You need to define all possible values for each hyperparameter upfront.                                                                            | Allows for dynamic search spaces.                                                                                          |\n",
        "| **Pruning**                          | No inherent mechanism for early stopping. If a particular combination of hyperparameters is unlikely to produce a good result, it will still complete the full evaluation.                                                                 | Supports pruning strategies for early stopping. If during a trial, it becomes clear that the given hyperparameters are not promising, the trial can be stopped early, saving computational resources.                                                                            |\n",
        "| **Integration and Flexibility**      | Integrates well with scikit-learn but may require work with other frameworks.                             | Offers easy integration with various machine learning frameworks like TensorFlow, PyTorch, scikit-learn, LightGBM, and more.                                              |\n",
        "| **Parallelization**                  | Can be parallelized but each worker operates independently.                                               | Supports distributed optimization with coordinated workers.                                                               |\n",
        "| **Visualization**                    | Typically lacks built-in visualization tools.                                                              | Provides a suite of visualization tools to understand the optimization process, relationships between hyperparameters, and more.                                                                                   |\n",
        "| **Flexibility in Objective Functions** | Works with models that return a score.                                                                   | Can optimize any objective function, not just model scores. For example, you can optimize for model inference speed, memory usage, or any custom metric.                                                               |\n"
      ]
    },
    {
      "cell_type": "markdown",
      "metadata": {
        "id": "48lDdSa6bfgG"
      },
      "source": [
        "A simple optimization problem can be understood as:\n",
        "\n",
        "Step 1 - Define objective function to be optimized. Let's minimize (x - 2)^2\n",
        "\n",
        "Step 2 - Suggest hyperparameter values using trial object. Here, a float value of x is suggested from -10 to 10\n",
        "\n",
        "Step 3 - Create a study object and invoke the optimize method over 100 trials"
      ]
    },
    {
      "cell_type": "markdown",
      "metadata": {},
      "source": [
        "### Jargon\n",
        "\n",
        "**Trial:** One trial in Optuna is one run with a set of hyperparameters.\n",
        "\n",
        "**Study:** Many trial together make a study. (i.e. say you ran 10 combinations of hyperparameters and calculated 10 different accuracy scores. That is your study)\n",
        "\n",
        "**Objective function:** The relation between accuracy and the hyperparameter (say `max_depth`). Accuracy is some function of `max_depth`.\n",
        "\n",
        "Optuna uses Bayesian search which helps identify which combination to try next keeping in memory what it has learned from the previous trials. (its like XGboost where the next tree acts and improves on the previous tree, unlike random forest where every tree is acting independantly.) In Grid Search and Random search every trial is independant."
      ]
    },
    {
      "cell_type": "code",
      "execution_count": null,
      "metadata": {
        "id": "QNiHlpQ7EfAA"
      },
      "outputs": [],
      "source": [
        "#Install Optune\n",
        "!pip install optuna"
      ]
    },
    {
      "cell_type": "code",
      "execution_count": 23,
      "metadata": {
        "colab": {
          "base_uri": "https://localhost:8080/"
        },
        "id": "l4TxoRuSbrnX",
        "outputId": "3a5082ab-1587-48af-cdc8-999b87fd60d2"
      },
      "outputs": [
        {
          "data": {
            "text/plain": [
              "{'x': 2.0013284735864136}"
            ]
          },
          "execution_count": 23,
          "metadata": {},
          "output_type": "execute_result"
        }
      ],
      "source": [
        "import optuna\n",
        "\n",
        "def objective(trial):\n",
        "    x = trial.suggest_float('x', -10, 10)\n",
        "    return (x - 2) ** 2\n",
        "\n",
        "study = optuna.create_study()\n",
        "study.optimize(objective, n_trials=100)\n",
        "study.best_params"
      ]
    },
    {
      "cell_type": "markdown",
      "metadata": {
        "id": "m7cZkk6Hb-yr"
      },
      "source": [
        "**We get x = 2.0013284735864136** for which the objective function  (x - 2)^2 is the minimum between the values -10 and 10"
      ]
    },
    {
      "cell_type": "markdown",
      "metadata": {
        "id": "u43QGvJTelzV"
      },
      "source": [
        "  "
      ]
    },
    {
      "cell_type": "markdown",
      "metadata": {
        "id": "xtSUqOAhexJa"
      },
      "source": [
        "## 1. Load the iris dataset"
      ]
    },
    {
      "cell_type": "code",
      "execution_count": 24,
      "metadata": {
        "id": "UnIAqQ20aTW9"
      },
      "outputs": [],
      "source": [
        "import optuna\n",
        "from sklearn.datasets import load_iris\n",
        "from sklearn.ensemble import RandomForestClassifier\n",
        "from sklearn.model_selection import cross_val_score\n"
      ]
    },
    {
      "cell_type": "code",
      "execution_count": 3,
      "metadata": {
        "id": "fuqJsUrSaeSG"
      },
      "outputs": [],
      "source": [
        "# Load Iris dataset\n",
        "data = load_iris()\n",
        "X = data.data\n",
        "y = data.target"
      ]
    },
    {
      "cell_type": "markdown",
      "metadata": {
        "id": "g3djxYjCdHHL"
      },
      "source": [
        "## Iris Dataset Metadata\n",
        "The Iris dataset contains measurements for 150 iris flowers from three different species with four features each (sepal length, sepal width, petal length, and petal width).\n",
        "\n",
        "The three classes in the Iris dataset:\n",
        "1. Iris-setosa (n=50)\n",
        "2. Iris-versicolor (n=50)\n",
        "3. Iris-virginica (n=50)\n",
        "\n",
        "The four features of the Iris dataset:\n",
        "1. Sepal length in cm\n",
        "2. Sepal width in cm\n",
        "3. Petal length in cm\n",
        "4. Petal width in cm\n",
        "\n",
        "Below is the metadata table for the features:\n"
      ]
    },
    {
      "cell_type": "markdown",
      "metadata": {
        "id": "npDvAc0MauCW"
      },
      "source": [
        "  "
      ]
    },
    {
      "cell_type": "code",
      "execution_count": 15,
      "metadata": {
        "colab": {
          "base_uri": "https://localhost:8080/",
          "height": 174
        },
        "id": "RKG29K3CdI78",
        "outputId": "73cec5bd-231d-4e11-9088-da52fe8002fe"
      },
      "outputs": [
        {
          "data": {
            "text/html": [
              "\n",
              "  <div id=\"df-ad103a49-1083-4368-8734-bec963165d2a\" class=\"colab-df-container\">\n",
              "    <div>\n",
              "<style scoped>\n",
              "    .dataframe tbody tr th:only-of-type {\n",
              "        vertical-align: middle;\n",
              "    }\n",
              "\n",
              "    .dataframe tbody tr th {\n",
              "        vertical-align: top;\n",
              "    }\n",
              "\n",
              "    .dataframe thead th {\n",
              "        text-align: right;\n",
              "    }\n",
              "</style>\n",
              "<table border=\"1\" class=\"dataframe\">\n",
              "  <thead>\n",
              "    <tr style=\"text-align: right;\">\n",
              "      <th></th>\n",
              "      <th>Feature Name</th>\n",
              "      <th>Description</th>\n",
              "      <th>Scale</th>\n",
              "      <th>Min Value</th>\n",
              "      <th>Max Value</th>\n",
              "    </tr>\n",
              "  </thead>\n",
              "  <tbody>\n",
              "    <tr>\n",
              "      <th>0</th>\n",
              "      <td>sepal length (cm)</td>\n",
              "      <td>Length of the sepal</td>\n",
              "      <td>Continuous</td>\n",
              "      <td>4.3</td>\n",
              "      <td>7.9</td>\n",
              "    </tr>\n",
              "    <tr>\n",
              "      <th>1</th>\n",
              "      <td>sepal width (cm)</td>\n",
              "      <td>Width of the sepal</td>\n",
              "      <td>Continuous</td>\n",
              "      <td>2.0</td>\n",
              "      <td>4.4</td>\n",
              "    </tr>\n",
              "    <tr>\n",
              "      <th>2</th>\n",
              "      <td>petal length (cm)</td>\n",
              "      <td>Length of the petal</td>\n",
              "      <td>Continuous</td>\n",
              "      <td>1.0</td>\n",
              "      <td>6.9</td>\n",
              "    </tr>\n",
              "    <tr>\n",
              "      <th>3</th>\n",
              "      <td>petal width (cm)</td>\n",
              "      <td>Width of the petal</td>\n",
              "      <td>Continuous</td>\n",
              "      <td>0.1</td>\n",
              "      <td>2.5</td>\n",
              "    </tr>\n",
              "  </tbody>\n",
              "</table>\n",
              "</div>\n",
              "    <div class=\"colab-df-buttons\">\n",
              "\n",
              "  <div class=\"colab-df-container\">\n",
              "    <button class=\"colab-df-convert\" onclick=\"convertToInteractive('df-ad103a49-1083-4368-8734-bec963165d2a')\"\n",
              "            title=\"Convert this dataframe to an interactive table.\"\n",
              "            style=\"display:none;\">\n",
              "\n",
              "  <svg xmlns=\"http://www.w3.org/2000/svg\" height=\"24px\" viewBox=\"0 -960 960 960\">\n",
              "    <path d=\"M120-120v-720h720v720H120Zm60-500h600v-160H180v160Zm220 220h160v-160H400v160Zm0 220h160v-160H400v160ZM180-400h160v-160H180v160Zm440 0h160v-160H620v160ZM180-180h160v-160H180v160Zm440 0h160v-160H620v160Z\"/>\n",
              "  </svg>\n",
              "    </button>\n",
              "\n",
              "  <style>\n",
              "    .colab-df-container {\n",
              "      display:flex;\n",
              "      gap: 12px;\n",
              "    }\n",
              "\n",
              "    .colab-df-convert {\n",
              "      background-color: #E8F0FE;\n",
              "      border: none;\n",
              "      border-radius: 50%;\n",
              "      cursor: pointer;\n",
              "      display: none;\n",
              "      fill: #1967D2;\n",
              "      height: 32px;\n",
              "      padding: 0 0 0 0;\n",
              "      width: 32px;\n",
              "    }\n",
              "\n",
              "    .colab-df-convert:hover {\n",
              "      background-color: #E2EBFA;\n",
              "      box-shadow: 0px 1px 2px rgba(60, 64, 67, 0.3), 0px 1px 3px 1px rgba(60, 64, 67, 0.15);\n",
              "      fill: #174EA6;\n",
              "    }\n",
              "\n",
              "    .colab-df-buttons div {\n",
              "      margin-bottom: 4px;\n",
              "    }\n",
              "\n",
              "    [theme=dark] .colab-df-convert {\n",
              "      background-color: #3B4455;\n",
              "      fill: #D2E3FC;\n",
              "    }\n",
              "\n",
              "    [theme=dark] .colab-df-convert:hover {\n",
              "      background-color: #434B5C;\n",
              "      box-shadow: 0px 1px 3px 1px rgba(0, 0, 0, 0.15);\n",
              "      filter: drop-shadow(0px 1px 2px rgba(0, 0, 0, 0.3));\n",
              "      fill: #FFFFFF;\n",
              "    }\n",
              "  </style>\n",
              "\n",
              "    <script>\n",
              "      const buttonEl =\n",
              "        document.querySelector('#df-ad103a49-1083-4368-8734-bec963165d2a button.colab-df-convert');\n",
              "      buttonEl.style.display =\n",
              "        google.colab.kernel.accessAllowed ? 'block' : 'none';\n",
              "\n",
              "      async function convertToInteractive(key) {\n",
              "        const element = document.querySelector('#df-ad103a49-1083-4368-8734-bec963165d2a');\n",
              "        const dataTable =\n",
              "          await google.colab.kernel.invokeFunction('convertToInteractive',\n",
              "                                                    [key], {});\n",
              "        if (!dataTable) return;\n",
              "\n",
              "        const docLinkHtml = 'Like what you see? Visit the ' +\n",
              "          '<a target=\"_blank\" href=https://colab.research.google.com/notebooks/data_table.ipynb>data table notebook</a>'\n",
              "          + ' to learn more about interactive tables.';\n",
              "        element.innerHTML = '';\n",
              "        dataTable['output_type'] = 'display_data';\n",
              "        await google.colab.output.renderOutput(dataTable, element);\n",
              "        const docLink = document.createElement('div');\n",
              "        docLink.innerHTML = docLinkHtml;\n",
              "        element.appendChild(docLink);\n",
              "      }\n",
              "    </script>\n",
              "  </div>\n",
              "\n",
              "\n",
              "<div id=\"df-e82c6185-47c6-4b4a-9f97-6ae90ab1a238\">\n",
              "  <button class=\"colab-df-quickchart\" onclick=\"quickchart('df-e82c6185-47c6-4b4a-9f97-6ae90ab1a238')\"\n",
              "            title=\"Suggest charts.\"\n",
              "            style=\"display:none;\">\n",
              "\n",
              "<svg xmlns=\"http://www.w3.org/2000/svg\" height=\"24px\"viewBox=\"0 0 24 24\"\n",
              "     width=\"24px\">\n",
              "    <g>\n",
              "        <path d=\"M19 3H5c-1.1 0-2 .9-2 2v14c0 1.1.9 2 2 2h14c1.1 0 2-.9 2-2V5c0-1.1-.9-2-2-2zM9 17H7v-7h2v7zm4 0h-2V7h2v10zm4 0h-2v-4h2v4z\"/>\n",
              "    </g>\n",
              "</svg>\n",
              "  </button>\n",
              "\n",
              "<style>\n",
              "  .colab-df-quickchart {\n",
              "      --bg-color: #E8F0FE;\n",
              "      --fill-color: #1967D2;\n",
              "      --hover-bg-color: #E2EBFA;\n",
              "      --hover-fill-color: #174EA6;\n",
              "      --disabled-fill-color: #AAA;\n",
              "      --disabled-bg-color: #DDD;\n",
              "  }\n",
              "\n",
              "  [theme=dark] .colab-df-quickchart {\n",
              "      --bg-color: #3B4455;\n",
              "      --fill-color: #D2E3FC;\n",
              "      --hover-bg-color: #434B5C;\n",
              "      --hover-fill-color: #FFFFFF;\n",
              "      --disabled-bg-color: #3B4455;\n",
              "      --disabled-fill-color: #666;\n",
              "  }\n",
              "\n",
              "  .colab-df-quickchart {\n",
              "    background-color: var(--bg-color);\n",
              "    border: none;\n",
              "    border-radius: 50%;\n",
              "    cursor: pointer;\n",
              "    display: none;\n",
              "    fill: var(--fill-color);\n",
              "    height: 32px;\n",
              "    padding: 0;\n",
              "    width: 32px;\n",
              "  }\n",
              "\n",
              "  .colab-df-quickchart:hover {\n",
              "    background-color: var(--hover-bg-color);\n",
              "    box-shadow: 0 1px 2px rgba(60, 64, 67, 0.3), 0 1px 3px 1px rgba(60, 64, 67, 0.15);\n",
              "    fill: var(--button-hover-fill-color);\n",
              "  }\n",
              "\n",
              "  .colab-df-quickchart-complete:disabled,\n",
              "  .colab-df-quickchart-complete:disabled:hover {\n",
              "    background-color: var(--disabled-bg-color);\n",
              "    fill: var(--disabled-fill-color);\n",
              "    box-shadow: none;\n",
              "  }\n",
              "\n",
              "  .colab-df-spinner {\n",
              "    border: 2px solid var(--fill-color);\n",
              "    border-color: transparent;\n",
              "    border-bottom-color: var(--fill-color);\n",
              "    animation:\n",
              "      spin 1s steps(1) infinite;\n",
              "  }\n",
              "\n",
              "  @keyframes spin {\n",
              "    0% {\n",
              "      border-color: transparent;\n",
              "      border-bottom-color: var(--fill-color);\n",
              "      border-left-color: var(--fill-color);\n",
              "    }\n",
              "    20% {\n",
              "      border-color: transparent;\n",
              "      border-left-color: var(--fill-color);\n",
              "      border-top-color: var(--fill-color);\n",
              "    }\n",
              "    30% {\n",
              "      border-color: transparent;\n",
              "      border-left-color: var(--fill-color);\n",
              "      border-top-color: var(--fill-color);\n",
              "      border-right-color: var(--fill-color);\n",
              "    }\n",
              "    40% {\n",
              "      border-color: transparent;\n",
              "      border-right-color: var(--fill-color);\n",
              "      border-top-color: var(--fill-color);\n",
              "    }\n",
              "    60% {\n",
              "      border-color: transparent;\n",
              "      border-right-color: var(--fill-color);\n",
              "    }\n",
              "    80% {\n",
              "      border-color: transparent;\n",
              "      border-right-color: var(--fill-color);\n",
              "      border-bottom-color: var(--fill-color);\n",
              "    }\n",
              "    90% {\n",
              "      border-color: transparent;\n",
              "      border-bottom-color: var(--fill-color);\n",
              "    }\n",
              "  }\n",
              "</style>\n",
              "\n",
              "  <script>\n",
              "    async function quickchart(key) {\n",
              "      const quickchartButtonEl =\n",
              "        document.querySelector('#' + key + ' button');\n",
              "      quickchartButtonEl.disabled = true;  // To prevent multiple clicks.\n",
              "      quickchartButtonEl.classList.add('colab-df-spinner');\n",
              "      try {\n",
              "        const charts = await google.colab.kernel.invokeFunction(\n",
              "            'suggestCharts', [key], {});\n",
              "      } catch (error) {\n",
              "        console.error('Error during call to suggestCharts:', error);\n",
              "      }\n",
              "      quickchartButtonEl.classList.remove('colab-df-spinner');\n",
              "      quickchartButtonEl.classList.add('colab-df-quickchart-complete');\n",
              "    }\n",
              "    (() => {\n",
              "      let quickchartButtonEl =\n",
              "        document.querySelector('#df-e82c6185-47c6-4b4a-9f97-6ae90ab1a238 button');\n",
              "      quickchartButtonEl.style.display =\n",
              "        google.colab.kernel.accessAllowed ? 'block' : 'none';\n",
              "    })();\n",
              "  </script>\n",
              "</div>\n",
              "    </div>\n",
              "  </div>\n"
            ],
            "text/plain": [
              "        Feature Name          Description       Scale  Min Value  Max Value\n",
              "0  sepal length (cm)  Length of the sepal  Continuous        4.3        7.9\n",
              "1   sepal width (cm)   Width of the sepal  Continuous        2.0        4.4\n",
              "2  petal length (cm)  Length of the petal  Continuous        1.0        6.9\n",
              "3   petal width (cm)   Width of the petal  Continuous        0.1        2.5"
            ]
          },
          "execution_count": 15,
          "metadata": {},
          "output_type": "execute_result"
        }
      ],
      "source": [
        "import pandas as pd\n",
        "\n",
        "# Metadata for Iris dataset\n",
        "data = {\n",
        "    'Feature Name': ['sepal length (cm)', 'sepal width (cm)', 'petal length (cm)', 'petal width (cm)'],\n",
        "    'Description': ['Length of the sepal', 'Width of the sepal', 'Length of the petal', 'Width of the petal'],\n",
        "    'Scale': ['Continuous', 'Continuous', 'Continuous', 'Continuous'],\n",
        "    'Min Value': [4.3, 2.0, 1.0, 0.1],\n",
        "    'Max Value': [7.9, 4.4, 6.9, 2.5]\n",
        "}\n",
        "\n",
        "df_metadata = pd.DataFrame(data)\n",
        "df_metadata\n"
      ]
    },
    {
      "cell_type": "markdown",
      "metadata": {
        "id": "B9k-wCykdVWn"
      },
      "source": [
        " The target variable, y, represents the species of each flower (setosa, versicolor, or virginica).\n",
        "\n",
        "0: Iris-setosa\n",
        "\n",
        "1: Iris-versicolor\n",
        "\n",
        "2: Iris-virginica"
      ]
    },
    {
      "cell_type": "markdown",
      "metadata": {
        "id": "J6s01sICe0dJ"
      },
      "source": [
        "  "
      ]
    },
    {
      "cell_type": "markdown",
      "metadata": {
        "id": "AtXYRiXCerd8"
      },
      "source": [
        "## 2. Define the objective function\n",
        "\n",
        "The objective function is the heart of the optimization process. It defines the model, its hyperparameters, how it's trained, and what metric is returned for Optuna to optimize."
      ]
    },
    {
      "cell_type": "markdown",
      "metadata": {
        "id": "MPWyIVVMe5bX"
      },
      "source": [
        "  "
      ]
    },
    {
      "cell_type": "code",
      "execution_count": 25,
      "metadata": {
        "id": "Qj352ZOtagn_"
      },
      "outputs": [],
      "source": [
        "# Define the object function\n",
        "\"\"\" \n",
        "In a objective funtion you define:\n",
        "1. the hyperparameters to tune and the range for each hyperparameter.\n",
        "2. create an object of the model class\n",
        "3. and evaluation metric. (accuracy in this case)\n",
        "\"\"\"\n",
        "\n",
        "def objective(trial):\n",
        "\n",
        "    # Define range of hyperparameters\n",
        "    n_estimators = trial.suggest_int('n_estimators', 2, 150)\n",
        "    max_depth = trial.suggest_int('max_depth', 1, 32, log=True)\n",
        "    min_samples_split = trial.suggest_float('min_samples_split', 0.1, 1)\n",
        "    min_samples_leaf = trial.suggest_float('min_samples_leaf', 0.1, 0.5)\n",
        "    max_features = trial.suggest_categorical('max_features', ['auto', 'sqrt', 'log2'])\n",
        "\n",
        "    clf = RandomForestClassifier(\n",
        "        n_estimators=n_estimators,\n",
        "        max_depth=max_depth,\n",
        "        min_samples_split=min_samples_split,\n",
        "        min_samples_leaf=min_samples_leaf,\n",
        "        max_features=max_features\n",
        "    )\n",
        "    # perform 3-fold cross validation and calculate accuracy.\n",
        "    # why mean? read here https://medium.com/analytics-vidhya/regularization-and-cross-validation-how-to-choose-the-penalty-value-lambda-1217fa4351e5\n",
        "    score = cross_val_score(clf, X, y, n_jobs=-1, cv=3, scoring='accuracy').mean()\n",
        "    \n",
        "    return score\n"
      ]
    },
    {
      "cell_type": "markdown",
      "metadata": {
        "id": "8J8HM--KfKPV"
      },
      "source": [
        "Inside this function:\n",
        "\n",
        "**trial:** This is an object provided by Optuna, which is used to suggest values for the hyperparameters during each iteration.\n",
        "For the hyperparameters of the Random Forest:\n",
        "\n",
        "`n_estimators`: The number of trees in the forest.\n",
        "\n",
        "`max_depth`: The maximum depth of the tree.\n",
        "\n",
        "`min_samples_split`: The minimum number of samples required to split an internal node.\n",
        "\n",
        "`min_samples_leaf`: The minimum number of samples required to be at a leaf node.\n",
        "\n",
        "`max_features`: The number of features to consider when looking for the best split.\n",
        "\n",
        "The `trial.suggest_...` methods are used to suggest a value for a hyperparameter. For instance, `trial.suggest_int('n_estimators', 2, 150)` will suggest an integer between 2 and 150 for the n_estimators hyperparameter.\n",
        "\n",
        "After defining the hyperparameters, we train the Random Forest classifier using the current hyperparameters and evaluate it using 3-fold cross-validation. The mean of these scores is then returned."
      ]
    },
    {
      "cell_type": "code",
      "execution_count": 26,
      "metadata": {
        "colab": {
          "base_uri": "https://localhost:8080/"
        },
        "id": "48A7mYgYe_EY",
        "outputId": "e27aaddd-1493-4fa2-b6c7-3273108fdc9c"
      },
      "outputs": [
        {
          "name": "stdout",
          "output_type": "stream",
          "text": [
            "Number of finished trials:  100\n",
            "Best trial:\n",
            "Value:  0.9666666666666667\n",
            "Params: \n",
            "    n_estimators: 130\n",
            "    max_depth: 27\n",
            "    min_samples_split: 0.5732436401151582\n",
            "    min_samples_leaf: 0.19455512594274585\n",
            "    max_features: auto\n"
          ]
        }
      ],
      "source": [
        "# Initiate the study object\n",
        "# maximize because we are after accuracy. And we would always want maximum accuracy.\n",
        "# there is a default sampler (TPE) argument that uses the bayesian search\n",
        "study = optuna.create_study(direction='maximize')\n",
        "\n",
        "# optimize the objective function.\n",
        "study.optimize(objective, n_trials=100)\n",
        "\n",
        "# Results\n",
        "print('Number of finished trials: ', len(study.trials))"
      ]
    },
    {
      "cell_type": "code",
      "execution_count": null,
      "metadata": {},
      "outputs": [],
      "source": [
        "#return the best trial value\n",
        "trial = study.best_trial\n",
        "print('Best trial value: ', trial.value)\n",
        "\n",
        "#return a dictionary of the best hyperparameters found\n",
        "print('Params: ')\n",
        "for key, value in trial.params.items():\n",
        "    print(f'    {key}: {value}')"
      ]
    },
    {
      "cell_type": "markdown",
      "metadata": {
        "id": "0_wJhZfLgc-r"
      },
      "source": [
        "* The `create_study` method initializes a new study. The `direction` parameter tells **Optuna** whether it should try to **maximize** or minimize the returned value from the objective function. In our case, we want to **maximize the cross-validation score.**\n",
        "\n",
        "* `study.optimize` tells Optuna to start the optimization. The objective function is passed as the first argument, and `n_trials` determines how many iterations Optuna should perform."
      ]
    },
    {
      "cell_type": "markdown",
      "metadata": {
        "id": "95ZG9lmx2kEC"
      },
      "source": [
        "  "
      ]
    },
    {
      "cell_type": "markdown",
      "metadata": {
        "id": "X2sFSPtXHBQa"
      },
      "source": [
        "#PLOTTING THE STUDY CREATED BY OPTUNA"
      ]
    },
    {
      "cell_type": "markdown",
      "metadata": {
        "id": "gwbyThS5HVDM"
      },
      "source": [
        "Plotting the optimization history of the study."
      ]
    },
    {
      "cell_type": "code",
      "execution_count": 27,
      "metadata": {
        "colab": {
          "base_uri": "https://localhost:8080/",
          "height": 542
        },
        "id": "kKycA2HsGpAE",
        "outputId": "231f172a-4f0f-4a25-8401-fbb7b452359b"
      },
      "outputs": [
        {
          "data": {
            "text/html": [
              "<html>\n",
              "<head><meta charset=\"utf-8\" /></head>\n",
              "<body>\n",
              "    <div>            <script src=\"https://cdnjs.cloudflare.com/ajax/libs/mathjax/2.7.5/MathJax.js?config=TeX-AMS-MML_SVG\"></script><script type=\"text/javascript\">if (window.MathJax && window.MathJax.Hub && window.MathJax.Hub.Config) {window.MathJax.Hub.Config({SVG: {font: \"STIX-Web\"}});}</script>                <script type=\"text/javascript\">window.PlotlyConfig = {MathJaxConfig: 'local'};</script>\n",
              "        <script charset=\"utf-8\" src=\"https://cdn.plot.ly/plotly-2.24.1.min.js\"></script>                <div id=\"28eceee2-3650-45cc-b047-5d02498f08a2\" class=\"plotly-graph-div\" style=\"height:525px; width:100%;\"></div>            <script type=\"text/javascript\">                                    window.PLOTLYENV=window.PLOTLYENV || {};                                    if (document.getElementById(\"28eceee2-3650-45cc-b047-5d02498f08a2\")) {                    Plotly.newPlot(                        \"28eceee2-3650-45cc-b047-5d02498f08a2\",                        [{\"mode\":\"markers\",\"name\":\"Objective Value\",\"x\":[0,1,2,3,4,5,6,7,8,9,10,11,12,13,14,15,16,17,18,19,20,21,22,23,24,25,26,27,28,29,30,31,32,33,34,35,36,37,38,39,40,41,42,43,44,45,46,47,48,49,50,51,52,53,54,55,56,57,58,59,60,61,62,63,64,65,66,67,68,69,70,71,72,73,74,75,76,77,78,79,80,81,82,83,84,85,86,87,88,89,90,91,92,93,94,95,96,97,98,99],\"y\":[0.34,0.32666666666666666,0.32666666666666666,0.32,0.68,0.7333333333333333,0.32666666666666666,0.32,0.32,0.82,0.7200000000000001,0.94,0.9333333333333332,0.8933333333333334,0.92,0.9466666666666667,0.9533333333333333,0.9533333333333333,0.96,0.9466666666666667,0.94,0.94,0.9466666666666667,0.94,0.9466666666666667,0.9466666666666667,0.9533333333333333,0.32666666666666666,0.94,0.9466666666666667,0.94,0.9533333333333333,0.9466666666666667,0.9466666666666667,0.9533333333333333,0.9466666666666667,0.3333333333333333,0.96,0.9533333333333333,0.8266666666666667,0.96,0.96,0.9466666666666667,0.8333333333333334,0.8533333333333334,0.7466666666666667,0.9666666666666667,0.9333333333333332,0.32666666666666666,0.9666666666666667,0.8933333333333334,0.96,0.9466666666666667,0.9533333333333333,0.9666666666666667,0.9466666666666667,0.96,0.9133333333333334,0.9533333333333333,0.7399999999999999,0.9466666666666667,0.9333333333333332,0.9666666666666667,0.9533333333333333,0.9533333333333333,0.9666666666666667,0.9466666666666667,0.9466666666666667,0.96,0.9533333333333333,0.9533333333333333,0.96,0.9466666666666667,0.9666666666666667,0.9533333333333333,0.9533333333333333,0.9466666666666667,0.96,0.94,0.8466666666666667,0.9466666666666667,0.9533333333333333,0.9533333333333333,0.96,0.96,0.9466666666666667,0.96,0.94,0.96,0.9533333333333333,0.9066666666666666,0.9533333333333333,0.9533333333333333,0.7266666666666667,0.96,0.94,0.8666666666666667,0.9333333333333332,0.9666666666666667,0.9533333333333333],\"type\":\"scatter\"},{\"mode\":\"lines\",\"name\":\"Best Value\",\"x\":[0,1,2,3,4,5,6,7,8,9,10,11,12,13,14,15,16,17,18,19,20,21,22,23,24,25,26,27,28,29,30,31,32,33,34,35,36,37,38,39,40,41,42,43,44,45,46,47,48,49,50,51,52,53,54,55,56,57,58,59,60,61,62,63,64,65,66,67,68,69,70,71,72,73,74,75,76,77,78,79,80,81,82,83,84,85,86,87,88,89,90,91,92,93,94,95,96,97,98,99],\"y\":[0.34,0.34,0.34,0.34,0.68,0.7333333333333333,0.7333333333333333,0.7333333333333333,0.7333333333333333,0.82,0.82,0.94,0.94,0.94,0.94,0.9466666666666667,0.9533333333333333,0.9533333333333333,0.96,0.96,0.96,0.96,0.96,0.96,0.96,0.96,0.96,0.96,0.96,0.96,0.96,0.96,0.96,0.96,0.96,0.96,0.96,0.96,0.96,0.96,0.96,0.96,0.96,0.96,0.96,0.96,0.9666666666666667,0.9666666666666667,0.9666666666666667,0.9666666666666667,0.9666666666666667,0.9666666666666667,0.9666666666666667,0.9666666666666667,0.9666666666666667,0.9666666666666667,0.9666666666666667,0.9666666666666667,0.9666666666666667,0.9666666666666667,0.9666666666666667,0.9666666666666667,0.9666666666666667,0.9666666666666667,0.9666666666666667,0.9666666666666667,0.9666666666666667,0.9666666666666667,0.9666666666666667,0.9666666666666667,0.9666666666666667,0.9666666666666667,0.9666666666666667,0.9666666666666667,0.9666666666666667,0.9666666666666667,0.9666666666666667,0.9666666666666667,0.9666666666666667,0.9666666666666667,0.9666666666666667,0.9666666666666667,0.9666666666666667,0.9666666666666667,0.9666666666666667,0.9666666666666667,0.9666666666666667,0.9666666666666667,0.9666666666666667,0.9666666666666667,0.9666666666666667,0.9666666666666667,0.9666666666666667,0.9666666666666667,0.9666666666666667,0.9666666666666667,0.9666666666666667,0.9666666666666667,0.9666666666666667,0.9666666666666667],\"type\":\"scatter\"},{\"marker\":{\"color\":\"#cccccc\"},\"mode\":\"markers\",\"name\":\"Infeasible Trial\",\"showlegend\":false,\"x\":[],\"y\":[],\"type\":\"scatter\"}],                        {\"title\":{\"text\":\"Optimization History Plot\"},\"xaxis\":{\"title\":{\"text\":\"Trial\"}},\"yaxis\":{\"title\":{\"text\":\"Objective Value\"}},\"template\":{\"data\":{\"histogram2dcontour\":[{\"type\":\"histogram2dcontour\",\"colorbar\":{\"outlinewidth\":0,\"ticks\":\"\"},\"colorscale\":[[0.0,\"#0d0887\"],[0.1111111111111111,\"#46039f\"],[0.2222222222222222,\"#7201a8\"],[0.3333333333333333,\"#9c179e\"],[0.4444444444444444,\"#bd3786\"],[0.5555555555555556,\"#d8576b\"],[0.6666666666666666,\"#ed7953\"],[0.7777777777777778,\"#fb9f3a\"],[0.8888888888888888,\"#fdca26\"],[1.0,\"#f0f921\"]]}],\"choropleth\":[{\"type\":\"choropleth\",\"colorbar\":{\"outlinewidth\":0,\"ticks\":\"\"}}],\"histogram2d\":[{\"type\":\"histogram2d\",\"colorbar\":{\"outlinewidth\":0,\"ticks\":\"\"},\"colorscale\":[[0.0,\"#0d0887\"],[0.1111111111111111,\"#46039f\"],[0.2222222222222222,\"#7201a8\"],[0.3333333333333333,\"#9c179e\"],[0.4444444444444444,\"#bd3786\"],[0.5555555555555556,\"#d8576b\"],[0.6666666666666666,\"#ed7953\"],[0.7777777777777778,\"#fb9f3a\"],[0.8888888888888888,\"#fdca26\"],[1.0,\"#f0f921\"]]}],\"heatmap\":[{\"type\":\"heatmap\",\"colorbar\":{\"outlinewidth\":0,\"ticks\":\"\"},\"colorscale\":[[0.0,\"#0d0887\"],[0.1111111111111111,\"#46039f\"],[0.2222222222222222,\"#7201a8\"],[0.3333333333333333,\"#9c179e\"],[0.4444444444444444,\"#bd3786\"],[0.5555555555555556,\"#d8576b\"],[0.6666666666666666,\"#ed7953\"],[0.7777777777777778,\"#fb9f3a\"],[0.8888888888888888,\"#fdca26\"],[1.0,\"#f0f921\"]]}],\"heatmapgl\":[{\"type\":\"heatmapgl\",\"colorbar\":{\"outlinewidth\":0,\"ticks\":\"\"},\"colorscale\":[[0.0,\"#0d0887\"],[0.1111111111111111,\"#46039f\"],[0.2222222222222222,\"#7201a8\"],[0.3333333333333333,\"#9c179e\"],[0.4444444444444444,\"#bd3786\"],[0.5555555555555556,\"#d8576b\"],[0.6666666666666666,\"#ed7953\"],[0.7777777777777778,\"#fb9f3a\"],[0.8888888888888888,\"#fdca26\"],[1.0,\"#f0f921\"]]}],\"contourcarpet\":[{\"type\":\"contourcarpet\",\"colorbar\":{\"outlinewidth\":0,\"ticks\":\"\"}}],\"contour\":[{\"type\":\"contour\",\"colorbar\":{\"outlinewidth\":0,\"ticks\":\"\"},\"colorscale\":[[0.0,\"#0d0887\"],[0.1111111111111111,\"#46039f\"],[0.2222222222222222,\"#7201a8\"],[0.3333333333333333,\"#9c179e\"],[0.4444444444444444,\"#bd3786\"],[0.5555555555555556,\"#d8576b\"],[0.6666666666666666,\"#ed7953\"],[0.7777777777777778,\"#fb9f3a\"],[0.8888888888888888,\"#fdca26\"],[1.0,\"#f0f921\"]]}],\"surface\":[{\"type\":\"surface\",\"colorbar\":{\"outlinewidth\":0,\"ticks\":\"\"},\"colorscale\":[[0.0,\"#0d0887\"],[0.1111111111111111,\"#46039f\"],[0.2222222222222222,\"#7201a8\"],[0.3333333333333333,\"#9c179e\"],[0.4444444444444444,\"#bd3786\"],[0.5555555555555556,\"#d8576b\"],[0.6666666666666666,\"#ed7953\"],[0.7777777777777778,\"#fb9f3a\"],[0.8888888888888888,\"#fdca26\"],[1.0,\"#f0f921\"]]}],\"mesh3d\":[{\"type\":\"mesh3d\",\"colorbar\":{\"outlinewidth\":0,\"ticks\":\"\"}}],\"scatter\":[{\"fillpattern\":{\"fillmode\":\"overlay\",\"size\":10,\"solidity\":0.2},\"type\":\"scatter\"}],\"parcoords\":[{\"type\":\"parcoords\",\"line\":{\"colorbar\":{\"outlinewidth\":0,\"ticks\":\"\"}}}],\"scatterpolargl\":[{\"type\":\"scatterpolargl\",\"marker\":{\"colorbar\":{\"outlinewidth\":0,\"ticks\":\"\"}}}],\"bar\":[{\"error_x\":{\"color\":\"#2a3f5f\"},\"error_y\":{\"color\":\"#2a3f5f\"},\"marker\":{\"line\":{\"color\":\"#E5ECF6\",\"width\":0.5},\"pattern\":{\"fillmode\":\"overlay\",\"size\":10,\"solidity\":0.2}},\"type\":\"bar\"}],\"scattergeo\":[{\"type\":\"scattergeo\",\"marker\":{\"colorbar\":{\"outlinewidth\":0,\"ticks\":\"\"}}}],\"scatterpolar\":[{\"type\":\"scatterpolar\",\"marker\":{\"colorbar\":{\"outlinewidth\":0,\"ticks\":\"\"}}}],\"histogram\":[{\"marker\":{\"pattern\":{\"fillmode\":\"overlay\",\"size\":10,\"solidity\":0.2}},\"type\":\"histogram\"}],\"scattergl\":[{\"type\":\"scattergl\",\"marker\":{\"colorbar\":{\"outlinewidth\":0,\"ticks\":\"\"}}}],\"scatter3d\":[{\"type\":\"scatter3d\",\"line\":{\"colorbar\":{\"outlinewidth\":0,\"ticks\":\"\"}},\"marker\":{\"colorbar\":{\"outlinewidth\":0,\"ticks\":\"\"}}}],\"scattermapbox\":[{\"type\":\"scattermapbox\",\"marker\":{\"colorbar\":{\"outlinewidth\":0,\"ticks\":\"\"}}}],\"scatterternary\":[{\"type\":\"scatterternary\",\"marker\":{\"colorbar\":{\"outlinewidth\":0,\"ticks\":\"\"}}}],\"scattercarpet\":[{\"type\":\"scattercarpet\",\"marker\":{\"colorbar\":{\"outlinewidth\":0,\"ticks\":\"\"}}}],\"carpet\":[{\"aaxis\":{\"endlinecolor\":\"#2a3f5f\",\"gridcolor\":\"white\",\"linecolor\":\"white\",\"minorgridcolor\":\"white\",\"startlinecolor\":\"#2a3f5f\"},\"baxis\":{\"endlinecolor\":\"#2a3f5f\",\"gridcolor\":\"white\",\"linecolor\":\"white\",\"minorgridcolor\":\"white\",\"startlinecolor\":\"#2a3f5f\"},\"type\":\"carpet\"}],\"table\":[{\"cells\":{\"fill\":{\"color\":\"#EBF0F8\"},\"line\":{\"color\":\"white\"}},\"header\":{\"fill\":{\"color\":\"#C8D4E3\"},\"line\":{\"color\":\"white\"}},\"type\":\"table\"}],\"barpolar\":[{\"marker\":{\"line\":{\"color\":\"#E5ECF6\",\"width\":0.5},\"pattern\":{\"fillmode\":\"overlay\",\"size\":10,\"solidity\":0.2}},\"type\":\"barpolar\"}],\"pie\":[{\"automargin\":true,\"type\":\"pie\"}]},\"layout\":{\"autotypenumbers\":\"strict\",\"colorway\":[\"#636efa\",\"#EF553B\",\"#00cc96\",\"#ab63fa\",\"#FFA15A\",\"#19d3f3\",\"#FF6692\",\"#B6E880\",\"#FF97FF\",\"#FECB52\"],\"font\":{\"color\":\"#2a3f5f\"},\"hovermode\":\"closest\",\"hoverlabel\":{\"align\":\"left\"},\"paper_bgcolor\":\"white\",\"plot_bgcolor\":\"#E5ECF6\",\"polar\":{\"bgcolor\":\"#E5ECF6\",\"angularaxis\":{\"gridcolor\":\"white\",\"linecolor\":\"white\",\"ticks\":\"\"},\"radialaxis\":{\"gridcolor\":\"white\",\"linecolor\":\"white\",\"ticks\":\"\"}},\"ternary\":{\"bgcolor\":\"#E5ECF6\",\"aaxis\":{\"gridcolor\":\"white\",\"linecolor\":\"white\",\"ticks\":\"\"},\"baxis\":{\"gridcolor\":\"white\",\"linecolor\":\"white\",\"ticks\":\"\"},\"caxis\":{\"gridcolor\":\"white\",\"linecolor\":\"white\",\"ticks\":\"\"}},\"coloraxis\":{\"colorbar\":{\"outlinewidth\":0,\"ticks\":\"\"}},\"colorscale\":{\"sequential\":[[0.0,\"#0d0887\"],[0.1111111111111111,\"#46039f\"],[0.2222222222222222,\"#7201a8\"],[0.3333333333333333,\"#9c179e\"],[0.4444444444444444,\"#bd3786\"],[0.5555555555555556,\"#d8576b\"],[0.6666666666666666,\"#ed7953\"],[0.7777777777777778,\"#fb9f3a\"],[0.8888888888888888,\"#fdca26\"],[1.0,\"#f0f921\"]],\"sequentialminus\":[[0.0,\"#0d0887\"],[0.1111111111111111,\"#46039f\"],[0.2222222222222222,\"#7201a8\"],[0.3333333333333333,\"#9c179e\"],[0.4444444444444444,\"#bd3786\"],[0.5555555555555556,\"#d8576b\"],[0.6666666666666666,\"#ed7953\"],[0.7777777777777778,\"#fb9f3a\"],[0.8888888888888888,\"#fdca26\"],[1.0,\"#f0f921\"]],\"diverging\":[[0,\"#8e0152\"],[0.1,\"#c51b7d\"],[0.2,\"#de77ae\"],[0.3,\"#f1b6da\"],[0.4,\"#fde0ef\"],[0.5,\"#f7f7f7\"],[0.6,\"#e6f5d0\"],[0.7,\"#b8e186\"],[0.8,\"#7fbc41\"],[0.9,\"#4d9221\"],[1,\"#276419\"]]},\"xaxis\":{\"gridcolor\":\"white\",\"linecolor\":\"white\",\"ticks\":\"\",\"title\":{\"standoff\":15},\"zerolinecolor\":\"white\",\"automargin\":true,\"zerolinewidth\":2},\"yaxis\":{\"gridcolor\":\"white\",\"linecolor\":\"white\",\"ticks\":\"\",\"title\":{\"standoff\":15},\"zerolinecolor\":\"white\",\"automargin\":true,\"zerolinewidth\":2},\"scene\":{\"xaxis\":{\"backgroundcolor\":\"#E5ECF6\",\"gridcolor\":\"white\",\"linecolor\":\"white\",\"showbackground\":true,\"ticks\":\"\",\"zerolinecolor\":\"white\",\"gridwidth\":2},\"yaxis\":{\"backgroundcolor\":\"#E5ECF6\",\"gridcolor\":\"white\",\"linecolor\":\"white\",\"showbackground\":true,\"ticks\":\"\",\"zerolinecolor\":\"white\",\"gridwidth\":2},\"zaxis\":{\"backgroundcolor\":\"#E5ECF6\",\"gridcolor\":\"white\",\"linecolor\":\"white\",\"showbackground\":true,\"ticks\":\"\",\"zerolinecolor\":\"white\",\"gridwidth\":2}},\"shapedefaults\":{\"line\":{\"color\":\"#2a3f5f\"}},\"annotationdefaults\":{\"arrowcolor\":\"#2a3f5f\",\"arrowhead\":0,\"arrowwidth\":1},\"geo\":{\"bgcolor\":\"white\",\"landcolor\":\"#E5ECF6\",\"subunitcolor\":\"white\",\"showland\":true,\"showlakes\":true,\"lakecolor\":\"white\"},\"title\":{\"x\":0.05},\"mapbox\":{\"style\":\"light\"}}}},                        {\"responsive\": true}                    ).then(function(){\n",
              "                            \n",
              "var gd = document.getElementById('28eceee2-3650-45cc-b047-5d02498f08a2');\n",
              "var x = new MutationObserver(function (mutations, observer) {{\n",
              "        var display = window.getComputedStyle(gd).display;\n",
              "        if (!display || display === 'none') {{\n",
              "            console.log([gd, 'removed!']);\n",
              "            Plotly.purge(gd);\n",
              "            observer.disconnect();\n",
              "        }}\n",
              "}});\n",
              "\n",
              "// Listen for the removal of the full notebook cells\n",
              "var notebookContainer = gd.closest('#notebook-container');\n",
              "if (notebookContainer) {{\n",
              "    x.observe(notebookContainer, {childList: true});\n",
              "}}\n",
              "\n",
              "// Listen for the clearing of the current output cell\n",
              "var outputEl = gd.closest('.output');\n",
              "if (outputEl) {{\n",
              "    x.observe(outputEl, {childList: true});\n",
              "}}\n",
              "\n",
              "                        })                };                            </script>        </div>\n",
              "</body>\n",
              "</html>"
            ]
          },
          "metadata": {},
          "output_type": "display_data"
        }
      ],
      "source": [
        "# For visulaization\n",
        "from optuna.visualization import plot_optimization_history, plot_parallel_coordinate, plot_slice, plot_contour, plot_param_importance"
      ]
    },
    {
      "cell_type": "markdown",
      "metadata": {
        "id": "0agcCLswHbhR"
      },
      "source": [
        "Plotting the accuracies for each hyperparameter for each trial."
      ]
    },
    {
      "cell_type": "code",
      "execution_count": 28,
      "metadata": {
        "colab": {
          "base_uri": "https://localhost:8080/",
          "height": 562
        },
        "id": "helT9sgJHLht",
        "outputId": "82f2134f-9352-4278-8456-636d666cd0c0"
      },
      "outputs": [
        {
          "data": {
            "text/html": [
              "<html>\n",
              "<head><meta charset=\"utf-8\" /></head>\n",
              "<body>\n",
              "    <div>            <script src=\"https://cdnjs.cloudflare.com/ajax/libs/mathjax/2.7.5/MathJax.js?config=TeX-AMS-MML_SVG\"></script><script type=\"text/javascript\">if (window.MathJax && window.MathJax.Hub && window.MathJax.Hub.Config) {window.MathJax.Hub.Config({SVG: {font: \"STIX-Web\"}});}</script>                <script type=\"text/javascript\">window.PlotlyConfig = {MathJaxConfig: 'local'};</script>\n",
              "        <script charset=\"utf-8\" src=\"https://cdn.plot.ly/plotly-2.24.1.min.js\"></script>                <div id=\"6863f317-e7e1-4f9f-b750-4dbf00e32b99\" class=\"plotly-graph-div\" style=\"height:525px; width:1500px;\"></div>            <script type=\"text/javascript\">                                    window.PLOTLYENV=window.PLOTLYENV || {};                                    if (document.getElementById(\"6863f317-e7e1-4f9f-b750-4dbf00e32b99\")) {                    Plotly.newPlot(                        \"6863f317-e7e1-4f9f-b750-4dbf00e32b99\",                        [{\"marker\":{\"color\":[0,1,2,3,4,5,6,7,8,9,10,11,12,13,14,15,16,17,18,19,20,21,22,23,24,25,26,27,28,29,30,31,32,33,34,35,36,37,38,39,40,41,42,43,44,45,46,47,48,49,50,51,52,53,54,55,56,57,58,59,60,61,62,63,64,65,66,67,68,69,70,71,72,73,74,75,76,77,78,79,80,81,82,83,84,85,86,87,88,89,90,91,92,93,94,95,96,97,98,99],\"colorbar\":{\"title\":{\"text\":\"Trial\"},\"x\":1.0,\"xpad\":40},\"colorscale\":[[0.0,\"rgb(247,251,255)\"],[0.125,\"rgb(222,235,247)\"],[0.25,\"rgb(198,219,239)\"],[0.375,\"rgb(158,202,225)\"],[0.5,\"rgb(107,174,214)\"],[0.625,\"rgb(66,146,198)\"],[0.75,\"rgb(33,113,181)\"],[0.875,\"rgb(8,81,156)\"],[1.0,\"rgb(8,48,107)\"]],\"line\":{\"color\":\"Grey\",\"width\":0.5},\"showscale\":true},\"mode\":\"markers\",\"showlegend\":false,\"x\":[23,5,17,2,7,10,2,2,1,2,1,6,4,4,11,30,32,32,32,17,15,31,32,22,22,13,23,9,17,24,13,24,32,19,21,26,26,19,18,14,27,28,19,24,26,16,27,20,26,11,12,17,15,28,20,20,10,15,20,11,22,29,27,28,17,22,22,32,18,14,24,28,22,25,20,24,18,30,16,32,25,27,21,24,29,26,22,19,30,26,23,32,28,20,26,23,28,19,21,16],\"y\":[0.34,0.32666666666666666,0.32666666666666666,0.32,0.68,0.7333333333333333,0.32666666666666666,0.32,0.32,0.82,0.7200000000000001,0.94,0.9333333333333332,0.8933333333333334,0.92,0.9466666666666667,0.9533333333333333,0.9533333333333333,0.96,0.9466666666666667,0.94,0.94,0.9466666666666667,0.94,0.9466666666666667,0.9466666666666667,0.9533333333333333,0.32666666666666666,0.94,0.9466666666666667,0.94,0.9533333333333333,0.9466666666666667,0.9466666666666667,0.9533333333333333,0.9466666666666667,0.3333333333333333,0.96,0.9533333333333333,0.8266666666666667,0.96,0.96,0.9466666666666667,0.8333333333333334,0.8533333333333334,0.7466666666666667,0.9666666666666667,0.9333333333333332,0.32666666666666666,0.9666666666666667,0.8933333333333334,0.96,0.9466666666666667,0.9533333333333333,0.9666666666666667,0.9466666666666667,0.96,0.9133333333333334,0.9533333333333333,0.7399999999999999,0.9466666666666667,0.9333333333333332,0.9666666666666667,0.9533333333333333,0.9533333333333333,0.9666666666666667,0.9466666666666667,0.9466666666666667,0.96,0.9533333333333333,0.9533333333333333,0.96,0.9466666666666667,0.9666666666666667,0.9533333333333333,0.9533333333333333,0.9466666666666667,0.96,0.94,0.8466666666666667,0.9466666666666667,0.9533333333333333,0.9533333333333333,0.96,0.96,0.9466666666666667,0.96,0.94,0.96,0.9533333333333333,0.9066666666666666,0.9533333333333333,0.9533333333333333,0.7266666666666667,0.96,0.94,0.8666666666666667,0.9333333333333332,0.9666666666666667,0.9533333333333333],\"type\":\"scatter\",\"xaxis\":\"x\",\"yaxis\":\"y\"},{\"marker\":{\"color\":[0,1,2,3,4,5,6,7,8,9,10,11,12,13,14,15,16,17,18,19,20,21,22,23,24,25,26,27,28,29,30,31,32,33,34,35,36,37,38,39,40,41,42,43,44,45,46,47,48,49,50,51,52,53,54,55,56,57,58,59,60,61,62,63,64,65,66,67,68,69,70,71,72,73,74,75,76,77,78,79,80,81,82,83,84,85,86,87,88,89,90,91,92,93,94,95,96,97,98,99],\"colorbar\":{\"title\":{\"text\":\"Trial\"},\"x\":1.0,\"xpad\":40},\"colorscale\":[[0.0,\"rgb(247,251,255)\"],[0.125,\"rgb(222,235,247)\"],[0.25,\"rgb(198,219,239)\"],[0.375,\"rgb(158,202,225)\"],[0.5,\"rgb(107,174,214)\"],[0.625,\"rgb(66,146,198)\"],[0.75,\"rgb(33,113,181)\"],[0.875,\"rgb(8,81,156)\"],[1.0,\"rgb(8,48,107)\"]],\"line\":{\"color\":\"Grey\",\"width\":0.5},\"showscale\":false},\"mode\":\"markers\",\"showlegend\":false,\"x\":[\"sqrt\",\"auto\",\"log2\",\"sqrt\",\"log2\",\"log2\",\"log2\",\"log2\",\"sqrt\",\"auto\",\"auto\",\"auto\",\"auto\",\"auto\",\"auto\",\"auto\",\"auto\",\"auto\",\"auto\",\"auto\",\"sqrt\",\"auto\",\"auto\",\"auto\",\"auto\",\"auto\",\"auto\",\"auto\",\"sqrt\",\"auto\",\"sqrt\",\"auto\",\"auto\",\"auto\",\"auto\",\"auto\",\"log2\",\"auto\",\"log2\",\"sqrt\",\"auto\",\"auto\",\"auto\",\"auto\",\"log2\",\"auto\",\"auto\",\"auto\",\"auto\",\"log2\",\"log2\",\"log2\",\"log2\",\"log2\",\"log2\",\"log2\",\"log2\",\"log2\",\"log2\",\"log2\",\"sqrt\",\"auto\",\"auto\",\"auto\",\"auto\",\"auto\",\"auto\",\"log2\",\"auto\",\"sqrt\",\"auto\",\"auto\",\"auto\",\"auto\",\"auto\",\"auto\",\"auto\",\"auto\",\"auto\",\"log2\",\"auto\",\"auto\",\"auto\",\"auto\",\"auto\",\"auto\",\"sqrt\",\"auto\",\"log2\",\"auto\",\"auto\",\"auto\",\"auto\",\"auto\",\"auto\",\"log2\",\"auto\",\"auto\",\"log2\",\"log2\"],\"y\":[0.34,0.32666666666666666,0.32666666666666666,0.32,0.68,0.7333333333333333,0.32666666666666666,0.32,0.32,0.82,0.7200000000000001,0.94,0.9333333333333332,0.8933333333333334,0.92,0.9466666666666667,0.9533333333333333,0.9533333333333333,0.96,0.9466666666666667,0.94,0.94,0.9466666666666667,0.94,0.9466666666666667,0.9466666666666667,0.9533333333333333,0.32666666666666666,0.94,0.9466666666666667,0.94,0.9533333333333333,0.9466666666666667,0.9466666666666667,0.9533333333333333,0.9466666666666667,0.3333333333333333,0.96,0.9533333333333333,0.8266666666666667,0.96,0.96,0.9466666666666667,0.8333333333333334,0.8533333333333334,0.7466666666666667,0.9666666666666667,0.9333333333333332,0.32666666666666666,0.9666666666666667,0.8933333333333334,0.96,0.9466666666666667,0.9533333333333333,0.9666666666666667,0.9466666666666667,0.96,0.9133333333333334,0.9533333333333333,0.7399999999999999,0.9466666666666667,0.9333333333333332,0.9666666666666667,0.9533333333333333,0.9533333333333333,0.9666666666666667,0.9466666666666667,0.9466666666666667,0.96,0.9533333333333333,0.9533333333333333,0.96,0.9466666666666667,0.9666666666666667,0.9533333333333333,0.9533333333333333,0.9466666666666667,0.96,0.94,0.8466666666666667,0.9466666666666667,0.9533333333333333,0.9533333333333333,0.96,0.96,0.9466666666666667,0.96,0.94,0.96,0.9533333333333333,0.9066666666666666,0.9533333333333333,0.9533333333333333,0.7266666666666667,0.96,0.94,0.8666666666666667,0.9333333333333332,0.9666666666666667,0.9533333333333333],\"type\":\"scatter\",\"xaxis\":\"x2\",\"yaxis\":\"y2\"},{\"marker\":{\"color\":[0,1,2,3,4,5,6,7,8,9,10,11,12,13,14,15,16,17,18,19,20,21,22,23,24,25,26,27,28,29,30,31,32,33,34,35,36,37,38,39,40,41,42,43,44,45,46,47,48,49,50,51,52,53,54,55,56,57,58,59,60,61,62,63,64,65,66,67,68,69,70,71,72,73,74,75,76,77,78,79,80,81,82,83,84,85,86,87,88,89,90,91,92,93,94,95,96,97,98,99],\"colorbar\":{\"title\":{\"text\":\"Trial\"},\"x\":1.0,\"xpad\":40},\"colorscale\":[[0.0,\"rgb(247,251,255)\"],[0.125,\"rgb(222,235,247)\"],[0.25,\"rgb(198,219,239)\"],[0.375,\"rgb(158,202,225)\"],[0.5,\"rgb(107,174,214)\"],[0.625,\"rgb(66,146,198)\"],[0.75,\"rgb(33,113,181)\"],[0.875,\"rgb(8,81,156)\"],[1.0,\"rgb(8,48,107)\"]],\"line\":{\"color\":\"Grey\",\"width\":0.5},\"showscale\":false},\"mode\":\"markers\",\"showlegend\":false,\"x\":[0.3854513530693635,0.3151699299731588,0.15762002079433715,0.4444044575272593,0.3093691149953506,0.2800026930460532,0.4053068285144448,0.42367338166493107,0.3823421999289326,0.20721611530312312,0.10694846704066324,0.21156005811061682,0.21352678078965576,0.22583382851756725,0.21760819010686483,0.1594820032350991,0.10659534483389409,0.10379588969562782,0.1032718571765204,0.13830703886347928,0.10707256829672171,0.10501475619276772,0.14594085522733713,0.17326735886676148,0.10016754627701277,0.13433279236468637,0.17544668620495768,0.49235836070146655,0.12814271755360707,0.18334877342568193,0.12897468707603854,0.17423176517418512,0.13175668483490072,0.10126661804177206,0.15612253334027032,0.18589445519295192,0.1244874475821051,0.15553718992724191,0.1536974734146148,0.2462456777190088,0.12018427544797022,0.11813304670226604,0.12433500748689219,0.15831669223144176,0.11983472479365075,0.14381560519119163,0.19455512594274585,0.19792368257077997,0.15848348140200041,0.19398500093898216,0.2389319993373825,0.1945380787921975,0.16814862650970072,0.14620830273593455,0.19593168585986173,0.20157245706768356,0.19231419888939907,0.22593087093305003,0.1686903142613367,0.27530011694524936,0.14098659039127917,0.11602828297599058,0.11704215953807955,0.1817501671958644,0.1405632789602382,0.11384329070596487,0.16503036772233778,0.11036527448795239,0.20748319311233412,0.133170797607911,0.1827419453684037,0.1175290190092109,0.14920868134240803,0.1121838056307905,0.10445398607212478,0.14028724846922436,0.12831783923023785,0.11033894338510272,0.15322091787062686,0.165194947220141,0.10179890524286833,0.11920757305798631,0.1316158030762991,0.11449913374479612,0.1268686758093242,0.14914268861657248,0.13757005345087975,0.1752462518457752,0.12250310787373897,0.1111191484729468,0.15960217612788802,0.10041274326280464,0.11713229614338776,0.1354480565666361,0.12401960546878313,0.11148929472181038,0.14619272876555597,0.1321260077730384,0.15089723088972512,0.15375481825302117],\"y\":[0.34,0.32666666666666666,0.32666666666666666,0.32,0.68,0.7333333333333333,0.32666666666666666,0.32,0.32,0.82,0.7200000000000001,0.94,0.9333333333333332,0.8933333333333334,0.92,0.9466666666666667,0.9533333333333333,0.9533333333333333,0.96,0.9466666666666667,0.94,0.94,0.9466666666666667,0.94,0.9466666666666667,0.9466666666666667,0.9533333333333333,0.32666666666666666,0.94,0.9466666666666667,0.94,0.9533333333333333,0.9466666666666667,0.9466666666666667,0.9533333333333333,0.9466666666666667,0.3333333333333333,0.96,0.9533333333333333,0.8266666666666667,0.96,0.96,0.9466666666666667,0.8333333333333334,0.8533333333333334,0.7466666666666667,0.9666666666666667,0.9333333333333332,0.32666666666666666,0.9666666666666667,0.8933333333333334,0.96,0.9466666666666667,0.9533333333333333,0.9666666666666667,0.9466666666666667,0.96,0.9133333333333334,0.9533333333333333,0.7399999999999999,0.9466666666666667,0.9333333333333332,0.9666666666666667,0.9533333333333333,0.9533333333333333,0.9666666666666667,0.9466666666666667,0.9466666666666667,0.96,0.9533333333333333,0.9533333333333333,0.96,0.9466666666666667,0.9666666666666667,0.9533333333333333,0.9533333333333333,0.9466666666666667,0.96,0.94,0.8466666666666667,0.9466666666666667,0.9533333333333333,0.9533333333333333,0.96,0.96,0.9466666666666667,0.96,0.94,0.96,0.9533333333333333,0.9066666666666666,0.9533333333333333,0.9533333333333333,0.7266666666666667,0.96,0.94,0.8666666666666667,0.9333333333333332,0.9666666666666667,0.9533333333333333],\"type\":\"scatter\",\"xaxis\":\"x3\",\"yaxis\":\"y3\"},{\"marker\":{\"color\":[0,1,2,3,4,5,6,7,8,9,10,11,12,13,14,15,16,17,18,19,20,21,22,23,24,25,26,27,28,29,30,31,32,33,34,35,36,37,38,39,40,41,42,43,44,45,46,47,48,49,50,51,52,53,54,55,56,57,58,59,60,61,62,63,64,65,66,67,68,69,70,71,72,73,74,75,76,77,78,79,80,81,82,83,84,85,86,87,88,89,90,91,92,93,94,95,96,97,98,99],\"colorbar\":{\"title\":{\"text\":\"Trial\"},\"x\":1.0,\"xpad\":40},\"colorscale\":[[0.0,\"rgb(247,251,255)\"],[0.125,\"rgb(222,235,247)\"],[0.25,\"rgb(198,219,239)\"],[0.375,\"rgb(158,202,225)\"],[0.5,\"rgb(107,174,214)\"],[0.625,\"rgb(66,146,198)\"],[0.75,\"rgb(33,113,181)\"],[0.875,\"rgb(8,81,156)\"],[1.0,\"rgb(8,48,107)\"]],\"line\":{\"color\":\"Grey\",\"width\":0.5},\"showscale\":false},\"mode\":\"markers\",\"showlegend\":false,\"x\":[0.9373540997716217,0.8118087828874618,0.7811984488009938,0.6413565613636837,0.2864608121721747,0.20128492985763574,0.1714970959706475,0.7584155278527495,0.5087278429231825,0.5735354161066737,0.4725190021646266,0.10874617494415906,0.3607663721827854,0.10424010517581835,0.3437538092754636,0.33265930999179194,0.24551313052400986,0.4151662922899866,0.4594011696084628,0.24485962178589485,0.4349108427996358,0.4233672164330072,0.4098666157246875,0.5498537485003357,0.2828553752542624,0.37331608687506124,0.30002633624248365,0.4640944304702068,0.22673712052580983,0.39524201548945154,0.5234036130916296,0.32412137734935637,0.28095008368645713,0.18257660724471997,0.38251686393301104,0.3038395520638463,0.9451813047131196,0.26589236375745084,0.23670201687975473,0.16578856270422637,0.6001549489346708,0.6120992093657112,0.6099878303312474,0.6469680920657388,0.6684836742857552,0.6844186966511069,0.5732436401151582,0.5824019870066097,0.7236038788788144,0.5031256563287713,0.5004867587187064,0.6021151349348354,0.5524136482479586,0.4749839862135691,0.5293724649865649,0.5374197664402932,0.49422652233753395,0.5653025544602435,0.5176239271533625,0.46090377231719426,0.4431740083166466,0.5808579793777288,0.6182611835954296,0.5173013835929691,0.5439688420286679,0.4795045863625047,0.4003928996623947,0.4477751737825949,0.48293269489436,0.4268154085265924,0.48588996161119324,0.5280559557185638,0.35881197533848436,0.5519123982461588,0.5746270926199742,0.5031810150787078,0.5510616645184611,0.4706405684971665,0.4232352466803492,0.6317761661329853,0.3863172041348967,0.5991049452741803,0.5663247717255342,0.5292830838408797,0.5044890895027796,0.6354089415998552,0.5926282093243401,0.6155386867403609,0.5528043640423072,0.45291197930231314,0.5850765543504199,0.611170656663228,0.5656803009893101,0.6593423454926588,0.6232763393553677,0.5241618302715182,0.6446100272875885,0.6002531345964944,0.4832834389802131,0.468125894360301],\"y\":[0.34,0.32666666666666666,0.32666666666666666,0.32,0.68,0.7333333333333333,0.32666666666666666,0.32,0.32,0.82,0.7200000000000001,0.94,0.9333333333333332,0.8933333333333334,0.92,0.9466666666666667,0.9533333333333333,0.9533333333333333,0.96,0.9466666666666667,0.94,0.94,0.9466666666666667,0.94,0.9466666666666667,0.9466666666666667,0.9533333333333333,0.32666666666666666,0.94,0.9466666666666667,0.94,0.9533333333333333,0.9466666666666667,0.9466666666666667,0.9533333333333333,0.9466666666666667,0.3333333333333333,0.96,0.9533333333333333,0.8266666666666667,0.96,0.96,0.9466666666666667,0.8333333333333334,0.8533333333333334,0.7466666666666667,0.9666666666666667,0.9333333333333332,0.32666666666666666,0.9666666666666667,0.8933333333333334,0.96,0.9466666666666667,0.9533333333333333,0.9666666666666667,0.9466666666666667,0.96,0.9133333333333334,0.9533333333333333,0.7399999999999999,0.9466666666666667,0.9333333333333332,0.9666666666666667,0.9533333333333333,0.9533333333333333,0.9666666666666667,0.9466666666666667,0.9466666666666667,0.96,0.9533333333333333,0.9533333333333333,0.96,0.9466666666666667,0.9666666666666667,0.9533333333333333,0.9533333333333333,0.9466666666666667,0.96,0.94,0.8466666666666667,0.9466666666666667,0.9533333333333333,0.9533333333333333,0.96,0.96,0.9466666666666667,0.96,0.94,0.96,0.9533333333333333,0.9066666666666666,0.9533333333333333,0.9533333333333333,0.7266666666666667,0.96,0.94,0.8666666666666667,0.9333333333333332,0.9666666666666667,0.9533333333333333],\"type\":\"scatter\",\"xaxis\":\"x4\",\"yaxis\":\"y4\"},{\"marker\":{\"color\":[0,1,2,3,4,5,6,7,8,9,10,11,12,13,14,15,16,17,18,19,20,21,22,23,24,25,26,27,28,29,30,31,32,33,34,35,36,37,38,39,40,41,42,43,44,45,46,47,48,49,50,51,52,53,54,55,56,57,58,59,60,61,62,63,64,65,66,67,68,69,70,71,72,73,74,75,76,77,78,79,80,81,82,83,84,85,86,87,88,89,90,91,92,93,94,95,96,97,98,99],\"colorbar\":{\"title\":{\"text\":\"Trial\"},\"x\":1.0,\"xpad\":40},\"colorscale\":[[0.0,\"rgb(247,251,255)\"],[0.125,\"rgb(222,235,247)\"],[0.25,\"rgb(198,219,239)\"],[0.375,\"rgb(158,202,225)\"],[0.5,\"rgb(107,174,214)\"],[0.625,\"rgb(66,146,198)\"],[0.75,\"rgb(33,113,181)\"],[0.875,\"rgb(8,81,156)\"],[1.0,\"rgb(8,48,107)\"]],\"line\":{\"color\":\"Grey\",\"width\":0.5},\"showscale\":false},\"mode\":\"markers\",\"showlegend\":false,\"x\":[71,116,69,120,50,86,34,90,101,5,2,149,150,150,149,129,127,123,107,107,134,128,105,91,116,136,102,80,122,66,136,98,110,112,124,96,76,118,140,62,113,115,118,112,86,41,130,140,15,116,92,117,107,131,120,122,143,129,103,143,125,113,116,108,118,98,134,98,86,95,104,125,120,110,100,108,131,110,119,128,81,115,112,123,105,115,121,101,94,109,58,114,126,118,132,105,113,116,138,143],\"y\":[0.34,0.32666666666666666,0.32666666666666666,0.32,0.68,0.7333333333333333,0.32666666666666666,0.32,0.32,0.82,0.7200000000000001,0.94,0.9333333333333332,0.8933333333333334,0.92,0.9466666666666667,0.9533333333333333,0.9533333333333333,0.96,0.9466666666666667,0.94,0.94,0.9466666666666667,0.94,0.9466666666666667,0.9466666666666667,0.9533333333333333,0.32666666666666666,0.94,0.9466666666666667,0.94,0.9533333333333333,0.9466666666666667,0.9466666666666667,0.9533333333333333,0.9466666666666667,0.3333333333333333,0.96,0.9533333333333333,0.8266666666666667,0.96,0.96,0.9466666666666667,0.8333333333333334,0.8533333333333334,0.7466666666666667,0.9666666666666667,0.9333333333333332,0.32666666666666666,0.9666666666666667,0.8933333333333334,0.96,0.9466666666666667,0.9533333333333333,0.9666666666666667,0.9466666666666667,0.96,0.9133333333333334,0.9533333333333333,0.7399999999999999,0.9466666666666667,0.9333333333333332,0.9666666666666667,0.9533333333333333,0.9533333333333333,0.9666666666666667,0.9466666666666667,0.9466666666666667,0.96,0.9533333333333333,0.9533333333333333,0.96,0.9466666666666667,0.9666666666666667,0.9533333333333333,0.9533333333333333,0.9466666666666667,0.96,0.94,0.8466666666666667,0.9466666666666667,0.9533333333333333,0.9533333333333333,0.96,0.96,0.9466666666666667,0.96,0.94,0.96,0.9533333333333333,0.9066666666666666,0.9533333333333333,0.9533333333333333,0.7266666666666667,0.96,0.94,0.8666666666666667,0.9333333333333332,0.9666666666666667,0.9533333333333333],\"type\":\"scatter\",\"xaxis\":\"x5\",\"yaxis\":\"y5\"}],                        {\"template\":{\"data\":{\"histogram2dcontour\":[{\"type\":\"histogram2dcontour\",\"colorbar\":{\"outlinewidth\":0,\"ticks\":\"\"},\"colorscale\":[[0.0,\"#0d0887\"],[0.1111111111111111,\"#46039f\"],[0.2222222222222222,\"#7201a8\"],[0.3333333333333333,\"#9c179e\"],[0.4444444444444444,\"#bd3786\"],[0.5555555555555556,\"#d8576b\"],[0.6666666666666666,\"#ed7953\"],[0.7777777777777778,\"#fb9f3a\"],[0.8888888888888888,\"#fdca26\"],[1.0,\"#f0f921\"]]}],\"choropleth\":[{\"type\":\"choropleth\",\"colorbar\":{\"outlinewidth\":0,\"ticks\":\"\"}}],\"histogram2d\":[{\"type\":\"histogram2d\",\"colorbar\":{\"outlinewidth\":0,\"ticks\":\"\"},\"colorscale\":[[0.0,\"#0d0887\"],[0.1111111111111111,\"#46039f\"],[0.2222222222222222,\"#7201a8\"],[0.3333333333333333,\"#9c179e\"],[0.4444444444444444,\"#bd3786\"],[0.5555555555555556,\"#d8576b\"],[0.6666666666666666,\"#ed7953\"],[0.7777777777777778,\"#fb9f3a\"],[0.8888888888888888,\"#fdca26\"],[1.0,\"#f0f921\"]]}],\"heatmap\":[{\"type\":\"heatmap\",\"colorbar\":{\"outlinewidth\":0,\"ticks\":\"\"},\"colorscale\":[[0.0,\"#0d0887\"],[0.1111111111111111,\"#46039f\"],[0.2222222222222222,\"#7201a8\"],[0.3333333333333333,\"#9c179e\"],[0.4444444444444444,\"#bd3786\"],[0.5555555555555556,\"#d8576b\"],[0.6666666666666666,\"#ed7953\"],[0.7777777777777778,\"#fb9f3a\"],[0.8888888888888888,\"#fdca26\"],[1.0,\"#f0f921\"]]}],\"heatmapgl\":[{\"type\":\"heatmapgl\",\"colorbar\":{\"outlinewidth\":0,\"ticks\":\"\"},\"colorscale\":[[0.0,\"#0d0887\"],[0.1111111111111111,\"#46039f\"],[0.2222222222222222,\"#7201a8\"],[0.3333333333333333,\"#9c179e\"],[0.4444444444444444,\"#bd3786\"],[0.5555555555555556,\"#d8576b\"],[0.6666666666666666,\"#ed7953\"],[0.7777777777777778,\"#fb9f3a\"],[0.8888888888888888,\"#fdca26\"],[1.0,\"#f0f921\"]]}],\"contourcarpet\":[{\"type\":\"contourcarpet\",\"colorbar\":{\"outlinewidth\":0,\"ticks\":\"\"}}],\"contour\":[{\"type\":\"contour\",\"colorbar\":{\"outlinewidth\":0,\"ticks\":\"\"},\"colorscale\":[[0.0,\"#0d0887\"],[0.1111111111111111,\"#46039f\"],[0.2222222222222222,\"#7201a8\"],[0.3333333333333333,\"#9c179e\"],[0.4444444444444444,\"#bd3786\"],[0.5555555555555556,\"#d8576b\"],[0.6666666666666666,\"#ed7953\"],[0.7777777777777778,\"#fb9f3a\"],[0.8888888888888888,\"#fdca26\"],[1.0,\"#f0f921\"]]}],\"surface\":[{\"type\":\"surface\",\"colorbar\":{\"outlinewidth\":0,\"ticks\":\"\"},\"colorscale\":[[0.0,\"#0d0887\"],[0.1111111111111111,\"#46039f\"],[0.2222222222222222,\"#7201a8\"],[0.3333333333333333,\"#9c179e\"],[0.4444444444444444,\"#bd3786\"],[0.5555555555555556,\"#d8576b\"],[0.6666666666666666,\"#ed7953\"],[0.7777777777777778,\"#fb9f3a\"],[0.8888888888888888,\"#fdca26\"],[1.0,\"#f0f921\"]]}],\"mesh3d\":[{\"type\":\"mesh3d\",\"colorbar\":{\"outlinewidth\":0,\"ticks\":\"\"}}],\"scatter\":[{\"fillpattern\":{\"fillmode\":\"overlay\",\"size\":10,\"solidity\":0.2},\"type\":\"scatter\"}],\"parcoords\":[{\"type\":\"parcoords\",\"line\":{\"colorbar\":{\"outlinewidth\":0,\"ticks\":\"\"}}}],\"scatterpolargl\":[{\"type\":\"scatterpolargl\",\"marker\":{\"colorbar\":{\"outlinewidth\":0,\"ticks\":\"\"}}}],\"bar\":[{\"error_x\":{\"color\":\"#2a3f5f\"},\"error_y\":{\"color\":\"#2a3f5f\"},\"marker\":{\"line\":{\"color\":\"#E5ECF6\",\"width\":0.5},\"pattern\":{\"fillmode\":\"overlay\",\"size\":10,\"solidity\":0.2}},\"type\":\"bar\"}],\"scattergeo\":[{\"type\":\"scattergeo\",\"marker\":{\"colorbar\":{\"outlinewidth\":0,\"ticks\":\"\"}}}],\"scatterpolar\":[{\"type\":\"scatterpolar\",\"marker\":{\"colorbar\":{\"outlinewidth\":0,\"ticks\":\"\"}}}],\"histogram\":[{\"marker\":{\"pattern\":{\"fillmode\":\"overlay\",\"size\":10,\"solidity\":0.2}},\"type\":\"histogram\"}],\"scattergl\":[{\"type\":\"scattergl\",\"marker\":{\"colorbar\":{\"outlinewidth\":0,\"ticks\":\"\"}}}],\"scatter3d\":[{\"type\":\"scatter3d\",\"line\":{\"colorbar\":{\"outlinewidth\":0,\"ticks\":\"\"}},\"marker\":{\"colorbar\":{\"outlinewidth\":0,\"ticks\":\"\"}}}],\"scattermapbox\":[{\"type\":\"scattermapbox\",\"marker\":{\"colorbar\":{\"outlinewidth\":0,\"ticks\":\"\"}}}],\"scatterternary\":[{\"type\":\"scatterternary\",\"marker\":{\"colorbar\":{\"outlinewidth\":0,\"ticks\":\"\"}}}],\"scattercarpet\":[{\"type\":\"scattercarpet\",\"marker\":{\"colorbar\":{\"outlinewidth\":0,\"ticks\":\"\"}}}],\"carpet\":[{\"aaxis\":{\"endlinecolor\":\"#2a3f5f\",\"gridcolor\":\"white\",\"linecolor\":\"white\",\"minorgridcolor\":\"white\",\"startlinecolor\":\"#2a3f5f\"},\"baxis\":{\"endlinecolor\":\"#2a3f5f\",\"gridcolor\":\"white\",\"linecolor\":\"white\",\"minorgridcolor\":\"white\",\"startlinecolor\":\"#2a3f5f\"},\"type\":\"carpet\"}],\"table\":[{\"cells\":{\"fill\":{\"color\":\"#EBF0F8\"},\"line\":{\"color\":\"white\"}},\"header\":{\"fill\":{\"color\":\"#C8D4E3\"},\"line\":{\"color\":\"white\"}},\"type\":\"table\"}],\"barpolar\":[{\"marker\":{\"line\":{\"color\":\"#E5ECF6\",\"width\":0.5},\"pattern\":{\"fillmode\":\"overlay\",\"size\":10,\"solidity\":0.2}},\"type\":\"barpolar\"}],\"pie\":[{\"automargin\":true,\"type\":\"pie\"}]},\"layout\":{\"autotypenumbers\":\"strict\",\"colorway\":[\"#636efa\",\"#EF553B\",\"#00cc96\",\"#ab63fa\",\"#FFA15A\",\"#19d3f3\",\"#FF6692\",\"#B6E880\",\"#FF97FF\",\"#FECB52\"],\"font\":{\"color\":\"#2a3f5f\"},\"hovermode\":\"closest\",\"hoverlabel\":{\"align\":\"left\"},\"paper_bgcolor\":\"white\",\"plot_bgcolor\":\"#E5ECF6\",\"polar\":{\"bgcolor\":\"#E5ECF6\",\"angularaxis\":{\"gridcolor\":\"white\",\"linecolor\":\"white\",\"ticks\":\"\"},\"radialaxis\":{\"gridcolor\":\"white\",\"linecolor\":\"white\",\"ticks\":\"\"}},\"ternary\":{\"bgcolor\":\"#E5ECF6\",\"aaxis\":{\"gridcolor\":\"white\",\"linecolor\":\"white\",\"ticks\":\"\"},\"baxis\":{\"gridcolor\":\"white\",\"linecolor\":\"white\",\"ticks\":\"\"},\"caxis\":{\"gridcolor\":\"white\",\"linecolor\":\"white\",\"ticks\":\"\"}},\"coloraxis\":{\"colorbar\":{\"outlinewidth\":0,\"ticks\":\"\"}},\"colorscale\":{\"sequential\":[[0.0,\"#0d0887\"],[0.1111111111111111,\"#46039f\"],[0.2222222222222222,\"#7201a8\"],[0.3333333333333333,\"#9c179e\"],[0.4444444444444444,\"#bd3786\"],[0.5555555555555556,\"#d8576b\"],[0.6666666666666666,\"#ed7953\"],[0.7777777777777778,\"#fb9f3a\"],[0.8888888888888888,\"#fdca26\"],[1.0,\"#f0f921\"]],\"sequentialminus\":[[0.0,\"#0d0887\"],[0.1111111111111111,\"#46039f\"],[0.2222222222222222,\"#7201a8\"],[0.3333333333333333,\"#9c179e\"],[0.4444444444444444,\"#bd3786\"],[0.5555555555555556,\"#d8576b\"],[0.6666666666666666,\"#ed7953\"],[0.7777777777777778,\"#fb9f3a\"],[0.8888888888888888,\"#fdca26\"],[1.0,\"#f0f921\"]],\"diverging\":[[0,\"#8e0152\"],[0.1,\"#c51b7d\"],[0.2,\"#de77ae\"],[0.3,\"#f1b6da\"],[0.4,\"#fde0ef\"],[0.5,\"#f7f7f7\"],[0.6,\"#e6f5d0\"],[0.7,\"#b8e186\"],[0.8,\"#7fbc41\"],[0.9,\"#4d9221\"],[1,\"#276419\"]]},\"xaxis\":{\"gridcolor\":\"white\",\"linecolor\":\"white\",\"ticks\":\"\",\"title\":{\"standoff\":15},\"zerolinecolor\":\"white\",\"automargin\":true,\"zerolinewidth\":2},\"yaxis\":{\"gridcolor\":\"white\",\"linecolor\":\"white\",\"ticks\":\"\",\"title\":{\"standoff\":15},\"zerolinecolor\":\"white\",\"automargin\":true,\"zerolinewidth\":2},\"scene\":{\"xaxis\":{\"backgroundcolor\":\"#E5ECF6\",\"gridcolor\":\"white\",\"linecolor\":\"white\",\"showbackground\":true,\"ticks\":\"\",\"zerolinecolor\":\"white\",\"gridwidth\":2},\"yaxis\":{\"backgroundcolor\":\"#E5ECF6\",\"gridcolor\":\"white\",\"linecolor\":\"white\",\"showbackground\":true,\"ticks\":\"\",\"zerolinecolor\":\"white\",\"gridwidth\":2},\"zaxis\":{\"backgroundcolor\":\"#E5ECF6\",\"gridcolor\":\"white\",\"linecolor\":\"white\",\"showbackground\":true,\"ticks\":\"\",\"zerolinecolor\":\"white\",\"gridwidth\":2}},\"shapedefaults\":{\"line\":{\"color\":\"#2a3f5f\"}},\"annotationdefaults\":{\"arrowcolor\":\"#2a3f5f\",\"arrowhead\":0,\"arrowwidth\":1},\"geo\":{\"bgcolor\":\"white\",\"landcolor\":\"#E5ECF6\",\"subunitcolor\":\"white\",\"showland\":true,\"showlakes\":true,\"lakecolor\":\"white\"},\"title\":{\"x\":0.05},\"mapbox\":{\"style\":\"light\"}}},\"xaxis\":{\"anchor\":\"y\",\"domain\":[0.0,0.16799999999999998],\"title\":{\"text\":\"max_depth\"},\"type\":\"log\"},\"yaxis\":{\"anchor\":\"x\",\"domain\":[0.0,1.0],\"title\":{\"text\":\"Objective Value\"}},\"xaxis2\":{\"anchor\":\"y2\",\"domain\":[0.208,0.376],\"title\":{\"text\":\"max_features\"},\"type\":\"category\",\"categoryorder\":\"array\",\"categoryarray\":[\"auto\",\"sqrt\",\"log2\"]},\"yaxis2\":{\"anchor\":\"x2\",\"domain\":[0.0,1.0],\"matches\":\"y\",\"showticklabels\":false},\"xaxis3\":{\"anchor\":\"y3\",\"domain\":[0.416,0.584],\"title\":{\"text\":\"min_samples_leaf\"}},\"yaxis3\":{\"anchor\":\"x3\",\"domain\":[0.0,1.0],\"matches\":\"y\",\"showticklabels\":false},\"xaxis4\":{\"anchor\":\"y4\",\"domain\":[0.624,0.792],\"title\":{\"text\":\"min_samples_split\"}},\"yaxis4\":{\"anchor\":\"x4\",\"domain\":[0.0,1.0],\"matches\":\"y\",\"showticklabels\":false},\"xaxis5\":{\"anchor\":\"y5\",\"domain\":[0.832,1.0],\"title\":{\"text\":\"n_estimators\"}},\"yaxis5\":{\"anchor\":\"x5\",\"domain\":[0.0,1.0],\"matches\":\"y\",\"showticklabels\":false},\"title\":{\"text\":\"Slice Plot\"},\"width\":1500},                        {\"responsive\": true}                    ).then(function(){\n",
              "                            \n",
              "var gd = document.getElementById('6863f317-e7e1-4f9f-b750-4dbf00e32b99');\n",
              "var x = new MutationObserver(function (mutations, observer) {{\n",
              "        var display = window.getComputedStyle(gd).display;\n",
              "        if (!display || display === 'none') {{\n",
              "            console.log([gd, 'removed!']);\n",
              "            Plotly.purge(gd);\n",
              "            observer.disconnect();\n",
              "        }}\n",
              "}});\n",
              "\n",
              "// Listen for the removal of the full notebook cells\n",
              "var notebookContainer = gd.closest('#notebook-container');\n",
              "if (notebookContainer) {{\n",
              "    x.observe(notebookContainer, {childList: true});\n",
              "}}\n",
              "\n",
              "// Listen for the clearing of the current output cell\n",
              "var outputEl = gd.closest('.output');\n",
              "if (outputEl) {{\n",
              "    x.observe(outputEl, {childList: true});\n",
              "}}\n",
              "\n",
              "                        })                };                            </script>        </div>\n",
              "</body>\n",
              "</html>"
            ]
          },
          "metadata": {},
          "output_type": "display_data"
        }
      ],
      "source": [
        "optuna.visualization.plot_slice(study)"
      ]
    },
    {
      "cell_type": "code",
      "execution_count": null,
      "metadata": {
        "id": "4g3qZWgdHl_x"
      },
      "outputs": [],
      "source": []
    }
  ],
  "metadata": {
    "colab": {
      "provenance": []
    },
    "kernelspec": {
      "display_name": "Python 3",
      "name": "python3"
    }
  },
  "nbformat": 4,
  "nbformat_minor": 0
}
