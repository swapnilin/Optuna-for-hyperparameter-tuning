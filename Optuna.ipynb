{
  "cells": [
    {
      "cell_type": "markdown",
      "metadata": {
        "id": "F7bEypQWZ8kQ"
      },
      "source": [
        "# Optuna - A hyperparameter optimization framework"
      ]
    },
    {
      "cell_type": "code",
      "execution_count": null,
      "metadata": {
        "id": "QNiHlpQ7EfAA"
      },
      "outputs": [],
      "source": [
        "#Install Optune\n",
        "!pip install optuna"
      ]
    },
    {
      "cell_type": "code",
      "source": [
        "import optuna"
      ],
      "metadata": {
        "id": "tDoi2M25MgNT"
      },
      "execution_count": 2,
      "outputs": []
    },
    {
      "cell_type": "markdown",
      "metadata": {
        "id": "48lDdSa6bfgG"
      },
      "source": [
        "A simple optimization problem can be understood as:\n",
        "\n",
        "Step 1 - Define objective function to be optimized. Let's minimize (x - 2)^2\n",
        "\n",
        "Step 2 - Suggest hyperparameter values using trial object. Here, a float value of x is suggested from -10 to 10\n",
        "\n",
        "Step 3 - Create a study object and invoke the optimize method over 100 trials"
      ]
    },
    {
      "cell_type": "code",
      "execution_count": null,
      "metadata": {
        "id": "l4TxoRuSbrnX"
      },
      "outputs": [],
      "source": [
        "def objective(trial):\n",
        "    x = trial.suggest_float('x', -10, 10)\n",
        "    return (x - 2) ** 2\n",
        "\n",
        "study = optuna.create_study(direction='minimize')\n",
        "study.optimize(objective, n_trials=100)\n",
        "study.best_params"
      ]
    },
    {
      "cell_type": "markdown",
      "metadata": {
        "id": "m7cZkk6Hb-yr"
      },
      "source": [
        "**We get x = 2.0013284735864136** for which the objective function  (x - 2)^2 is the minimum between the values -10 and 10"
      ]
    },
    {
      "cell_type": "markdown",
      "metadata": {
        "id": "nII6gzjqMLhN"
      },
      "source": [
        "### Jargon\n",
        "\n",
        "**Trial:** One trial in Optuna is one run with a set of hyperparameters.\n",
        "\n",
        "**Study:** Many trial together make a study. (i.e. say you ran 10 combinations of hyperparameters and calculated 10 different accuracy scores. That is your study)\n",
        "\n",
        "**Objective function:** The relation between accuracy and the hyperparameter (say `max_depth`). Accuracy is some function of `max_depth`.\n",
        "\n",
        "Optuna uses Bayesian search which helps identify which combination to try next keeping in memory what it has learned from the previous trials. (its like XGboost where the next tree acts and improves on the previous tree, unlike random forest where every tree is acting independantly.) In Grid Search and Random search every trial is independant."
      ]
    },
    {
      "cell_type": "markdown",
      "metadata": {
        "id": "xtSUqOAhexJa"
      },
      "source": [
        "## 1. Load the iris dataset"
      ]
    },
    {
      "cell_type": "code",
      "execution_count": 6,
      "metadata": {
        "id": "UnIAqQ20aTW9"
      },
      "outputs": [],
      "source": [
        "import optuna\n",
        "from sklearn.datasets import load_iris\n",
        "from sklearn.ensemble import RandomForestClassifier\n",
        "from sklearn.model_selection import cross_val_score\n"
      ]
    },
    {
      "cell_type": "code",
      "execution_count": 7,
      "metadata": {
        "id": "fuqJsUrSaeSG"
      },
      "outputs": [],
      "source": [
        "# Load Iris dataset\n",
        "data = load_iris()\n",
        "X = data.data\n",
        "y = data.target"
      ]
    },
    {
      "cell_type": "markdown",
      "metadata": {
        "id": "g3djxYjCdHHL"
      },
      "source": [
        "## Iris Dataset Metadata\n",
        "The Iris dataset contains measurements for 150 iris flowers from three different species with four features each (sepal length, sepal width, petal length, and petal width).\n",
        "\n",
        "The three classes in the Iris dataset:\n",
        "1. Iris-setosa (n=50)\n",
        "2. Iris-versicolor (n=50)\n",
        "3. Iris-virginica (n=50)\n",
        "\n",
        "The four features of the Iris dataset:\n",
        "1. Sepal length in cm\n",
        "2. Sepal width in cm\n",
        "3. Petal length in cm\n",
        "4. Petal width in cm\n",
        "\n",
        "Below is the metadata table for the features:\n"
      ]
    },
    {
      "cell_type": "markdown",
      "metadata": {
        "id": "B9k-wCykdVWn"
      },
      "source": [
        " The target variable, y, represents the species of each flower (setosa, versicolor, or virginica).\n",
        "\n",
        "0: Iris-setosa\n",
        "\n",
        "1: Iris-versicolor\n",
        "\n",
        "2: Iris-virginica"
      ]
    },
    {
      "cell_type": "markdown",
      "metadata": {
        "id": "npDvAc0MauCW"
      },
      "source": [
        "  "
      ]
    },
    {
      "cell_type": "code",
      "execution_count": 8,
      "metadata": {
        "colab": {
          "base_uri": "https://localhost:8080/",
          "height": 174
        },
        "id": "RKG29K3CdI78",
        "outputId": "e042fc15-482e-4e25-e5d0-db1d44473888"
      },
      "outputs": [
        {
          "output_type": "execute_result",
          "data": {
            "text/plain": [
              "        Feature Name          Description       Scale  Min Value  Max Value\n",
              "0  sepal length (cm)  Length of the sepal  Continuous        4.3        7.9\n",
              "1   sepal width (cm)   Width of the sepal  Continuous        2.0        4.4\n",
              "2  petal length (cm)  Length of the petal  Continuous        1.0        6.9\n",
              "3   petal width (cm)   Width of the petal  Continuous        0.1        2.5"
            ],
            "text/html": [
              "\n",
              "  <div id=\"df-03cf0897-da90-4a17-b399-617dcd224566\" class=\"colab-df-container\">\n",
              "    <div>\n",
              "<style scoped>\n",
              "    .dataframe tbody tr th:only-of-type {\n",
              "        vertical-align: middle;\n",
              "    }\n",
              "\n",
              "    .dataframe tbody tr th {\n",
              "        vertical-align: top;\n",
              "    }\n",
              "\n",
              "    .dataframe thead th {\n",
              "        text-align: right;\n",
              "    }\n",
              "</style>\n",
              "<table border=\"1\" class=\"dataframe\">\n",
              "  <thead>\n",
              "    <tr style=\"text-align: right;\">\n",
              "      <th></th>\n",
              "      <th>Feature Name</th>\n",
              "      <th>Description</th>\n",
              "      <th>Scale</th>\n",
              "      <th>Min Value</th>\n",
              "      <th>Max Value</th>\n",
              "    </tr>\n",
              "  </thead>\n",
              "  <tbody>\n",
              "    <tr>\n",
              "      <th>0</th>\n",
              "      <td>sepal length (cm)</td>\n",
              "      <td>Length of the sepal</td>\n",
              "      <td>Continuous</td>\n",
              "      <td>4.3</td>\n",
              "      <td>7.9</td>\n",
              "    </tr>\n",
              "    <tr>\n",
              "      <th>1</th>\n",
              "      <td>sepal width (cm)</td>\n",
              "      <td>Width of the sepal</td>\n",
              "      <td>Continuous</td>\n",
              "      <td>2.0</td>\n",
              "      <td>4.4</td>\n",
              "    </tr>\n",
              "    <tr>\n",
              "      <th>2</th>\n",
              "      <td>petal length (cm)</td>\n",
              "      <td>Length of the petal</td>\n",
              "      <td>Continuous</td>\n",
              "      <td>1.0</td>\n",
              "      <td>6.9</td>\n",
              "    </tr>\n",
              "    <tr>\n",
              "      <th>3</th>\n",
              "      <td>petal width (cm)</td>\n",
              "      <td>Width of the petal</td>\n",
              "      <td>Continuous</td>\n",
              "      <td>0.1</td>\n",
              "      <td>2.5</td>\n",
              "    </tr>\n",
              "  </tbody>\n",
              "</table>\n",
              "</div>\n",
              "    <div class=\"colab-df-buttons\">\n",
              "\n",
              "  <div class=\"colab-df-container\">\n",
              "    <button class=\"colab-df-convert\" onclick=\"convertToInteractive('df-03cf0897-da90-4a17-b399-617dcd224566')\"\n",
              "            title=\"Convert this dataframe to an interactive table.\"\n",
              "            style=\"display:none;\">\n",
              "\n",
              "  <svg xmlns=\"http://www.w3.org/2000/svg\" height=\"24px\" viewBox=\"0 -960 960 960\">\n",
              "    <path d=\"M120-120v-720h720v720H120Zm60-500h600v-160H180v160Zm220 220h160v-160H400v160Zm0 220h160v-160H400v160ZM180-400h160v-160H180v160Zm440 0h160v-160H620v160ZM180-180h160v-160H180v160Zm440 0h160v-160H620v160Z\"/>\n",
              "  </svg>\n",
              "    </button>\n",
              "\n",
              "  <style>\n",
              "    .colab-df-container {\n",
              "      display:flex;\n",
              "      gap: 12px;\n",
              "    }\n",
              "\n",
              "    .colab-df-convert {\n",
              "      background-color: #E8F0FE;\n",
              "      border: none;\n",
              "      border-radius: 50%;\n",
              "      cursor: pointer;\n",
              "      display: none;\n",
              "      fill: #1967D2;\n",
              "      height: 32px;\n",
              "      padding: 0 0 0 0;\n",
              "      width: 32px;\n",
              "    }\n",
              "\n",
              "    .colab-df-convert:hover {\n",
              "      background-color: #E2EBFA;\n",
              "      box-shadow: 0px 1px 2px rgba(60, 64, 67, 0.3), 0px 1px 3px 1px rgba(60, 64, 67, 0.15);\n",
              "      fill: #174EA6;\n",
              "    }\n",
              "\n",
              "    .colab-df-buttons div {\n",
              "      margin-bottom: 4px;\n",
              "    }\n",
              "\n",
              "    [theme=dark] .colab-df-convert {\n",
              "      background-color: #3B4455;\n",
              "      fill: #D2E3FC;\n",
              "    }\n",
              "\n",
              "    [theme=dark] .colab-df-convert:hover {\n",
              "      background-color: #434B5C;\n",
              "      box-shadow: 0px 1px 3px 1px rgba(0, 0, 0, 0.15);\n",
              "      filter: drop-shadow(0px 1px 2px rgba(0, 0, 0, 0.3));\n",
              "      fill: #FFFFFF;\n",
              "    }\n",
              "  </style>\n",
              "\n",
              "    <script>\n",
              "      const buttonEl =\n",
              "        document.querySelector('#df-03cf0897-da90-4a17-b399-617dcd224566 button.colab-df-convert');\n",
              "      buttonEl.style.display =\n",
              "        google.colab.kernel.accessAllowed ? 'block' : 'none';\n",
              "\n",
              "      async function convertToInteractive(key) {\n",
              "        const element = document.querySelector('#df-03cf0897-da90-4a17-b399-617dcd224566');\n",
              "        const dataTable =\n",
              "          await google.colab.kernel.invokeFunction('convertToInteractive',\n",
              "                                                    [key], {});\n",
              "        if (!dataTable) return;\n",
              "\n",
              "        const docLinkHtml = 'Like what you see? Visit the ' +\n",
              "          '<a target=\"_blank\" href=https://colab.research.google.com/notebooks/data_table.ipynb>data table notebook</a>'\n",
              "          + ' to learn more about interactive tables.';\n",
              "        element.innerHTML = '';\n",
              "        dataTable['output_type'] = 'display_data';\n",
              "        await google.colab.output.renderOutput(dataTable, element);\n",
              "        const docLink = document.createElement('div');\n",
              "        docLink.innerHTML = docLinkHtml;\n",
              "        element.appendChild(docLink);\n",
              "      }\n",
              "    </script>\n",
              "  </div>\n",
              "\n",
              "\n",
              "<div id=\"df-ff1be0ca-61ce-4138-a5dc-0494ad9a0b0b\">\n",
              "  <button class=\"colab-df-quickchart\" onclick=\"quickchart('df-ff1be0ca-61ce-4138-a5dc-0494ad9a0b0b')\"\n",
              "            title=\"Suggest charts\"\n",
              "            style=\"display:none;\">\n",
              "\n",
              "<svg xmlns=\"http://www.w3.org/2000/svg\" height=\"24px\"viewBox=\"0 0 24 24\"\n",
              "     width=\"24px\">\n",
              "    <g>\n",
              "        <path d=\"M19 3H5c-1.1 0-2 .9-2 2v14c0 1.1.9 2 2 2h14c1.1 0 2-.9 2-2V5c0-1.1-.9-2-2-2zM9 17H7v-7h2v7zm4 0h-2V7h2v10zm4 0h-2v-4h2v4z\"/>\n",
              "    </g>\n",
              "</svg>\n",
              "  </button>\n",
              "\n",
              "<style>\n",
              "  .colab-df-quickchart {\n",
              "      --bg-color: #E8F0FE;\n",
              "      --fill-color: #1967D2;\n",
              "      --hover-bg-color: #E2EBFA;\n",
              "      --hover-fill-color: #174EA6;\n",
              "      --disabled-fill-color: #AAA;\n",
              "      --disabled-bg-color: #DDD;\n",
              "  }\n",
              "\n",
              "  [theme=dark] .colab-df-quickchart {\n",
              "      --bg-color: #3B4455;\n",
              "      --fill-color: #D2E3FC;\n",
              "      --hover-bg-color: #434B5C;\n",
              "      --hover-fill-color: #FFFFFF;\n",
              "      --disabled-bg-color: #3B4455;\n",
              "      --disabled-fill-color: #666;\n",
              "  }\n",
              "\n",
              "  .colab-df-quickchart {\n",
              "    background-color: var(--bg-color);\n",
              "    border: none;\n",
              "    border-radius: 50%;\n",
              "    cursor: pointer;\n",
              "    display: none;\n",
              "    fill: var(--fill-color);\n",
              "    height: 32px;\n",
              "    padding: 0;\n",
              "    width: 32px;\n",
              "  }\n",
              "\n",
              "  .colab-df-quickchart:hover {\n",
              "    background-color: var(--hover-bg-color);\n",
              "    box-shadow: 0 1px 2px rgba(60, 64, 67, 0.3), 0 1px 3px 1px rgba(60, 64, 67, 0.15);\n",
              "    fill: var(--button-hover-fill-color);\n",
              "  }\n",
              "\n",
              "  .colab-df-quickchart-complete:disabled,\n",
              "  .colab-df-quickchart-complete:disabled:hover {\n",
              "    background-color: var(--disabled-bg-color);\n",
              "    fill: var(--disabled-fill-color);\n",
              "    box-shadow: none;\n",
              "  }\n",
              "\n",
              "  .colab-df-spinner {\n",
              "    border: 2px solid var(--fill-color);\n",
              "    border-color: transparent;\n",
              "    border-bottom-color: var(--fill-color);\n",
              "    animation:\n",
              "      spin 1s steps(1) infinite;\n",
              "  }\n",
              "\n",
              "  @keyframes spin {\n",
              "    0% {\n",
              "      border-color: transparent;\n",
              "      border-bottom-color: var(--fill-color);\n",
              "      border-left-color: var(--fill-color);\n",
              "    }\n",
              "    20% {\n",
              "      border-color: transparent;\n",
              "      border-left-color: var(--fill-color);\n",
              "      border-top-color: var(--fill-color);\n",
              "    }\n",
              "    30% {\n",
              "      border-color: transparent;\n",
              "      border-left-color: var(--fill-color);\n",
              "      border-top-color: var(--fill-color);\n",
              "      border-right-color: var(--fill-color);\n",
              "    }\n",
              "    40% {\n",
              "      border-color: transparent;\n",
              "      border-right-color: var(--fill-color);\n",
              "      border-top-color: var(--fill-color);\n",
              "    }\n",
              "    60% {\n",
              "      border-color: transparent;\n",
              "      border-right-color: var(--fill-color);\n",
              "    }\n",
              "    80% {\n",
              "      border-color: transparent;\n",
              "      border-right-color: var(--fill-color);\n",
              "      border-bottom-color: var(--fill-color);\n",
              "    }\n",
              "    90% {\n",
              "      border-color: transparent;\n",
              "      border-bottom-color: var(--fill-color);\n",
              "    }\n",
              "  }\n",
              "</style>\n",
              "\n",
              "  <script>\n",
              "    async function quickchart(key) {\n",
              "      const quickchartButtonEl =\n",
              "        document.querySelector('#' + key + ' button');\n",
              "      quickchartButtonEl.disabled = true;  // To prevent multiple clicks.\n",
              "      quickchartButtonEl.classList.add('colab-df-spinner');\n",
              "      try {\n",
              "        const charts = await google.colab.kernel.invokeFunction(\n",
              "            'suggestCharts', [key], {});\n",
              "      } catch (error) {\n",
              "        console.error('Error during call to suggestCharts:', error);\n",
              "      }\n",
              "      quickchartButtonEl.classList.remove('colab-df-spinner');\n",
              "      quickchartButtonEl.classList.add('colab-df-quickchart-complete');\n",
              "    }\n",
              "    (() => {\n",
              "      let quickchartButtonEl =\n",
              "        document.querySelector('#df-ff1be0ca-61ce-4138-a5dc-0494ad9a0b0b button');\n",
              "      quickchartButtonEl.style.display =\n",
              "        google.colab.kernel.accessAllowed ? 'block' : 'none';\n",
              "    })();\n",
              "  </script>\n",
              "</div>\n",
              "\n",
              "  <div id=\"id_be1438c5-68ea-4ddc-b120-5a90ac614c7a\">\n",
              "    <style>\n",
              "      .colab-df-generate {\n",
              "        background-color: #E8F0FE;\n",
              "        border: none;\n",
              "        border-radius: 50%;\n",
              "        cursor: pointer;\n",
              "        display: none;\n",
              "        fill: #1967D2;\n",
              "        height: 32px;\n",
              "        padding: 0 0 0 0;\n",
              "        width: 32px;\n",
              "      }\n",
              "\n",
              "      .colab-df-generate:hover {\n",
              "        background-color: #E2EBFA;\n",
              "        box-shadow: 0px 1px 2px rgba(60, 64, 67, 0.3), 0px 1px 3px 1px rgba(60, 64, 67, 0.15);\n",
              "        fill: #174EA6;\n",
              "      }\n",
              "\n",
              "      [theme=dark] .colab-df-generate {\n",
              "        background-color: #3B4455;\n",
              "        fill: #D2E3FC;\n",
              "      }\n",
              "\n",
              "      [theme=dark] .colab-df-generate:hover {\n",
              "        background-color: #434B5C;\n",
              "        box-shadow: 0px 1px 3px 1px rgba(0, 0, 0, 0.15);\n",
              "        filter: drop-shadow(0px 1px 2px rgba(0, 0, 0, 0.3));\n",
              "        fill: #FFFFFF;\n",
              "      }\n",
              "    </style>\n",
              "    <button class=\"colab-df-generate\" onclick=\"generateWithVariable('df_metadata')\"\n",
              "            title=\"Generate code using this dataframe.\"\n",
              "            style=\"display:none;\">\n",
              "\n",
              "  <svg xmlns=\"http://www.w3.org/2000/svg\" height=\"24px\"viewBox=\"0 0 24 24\"\n",
              "       width=\"24px\">\n",
              "    <path d=\"M7,19H8.4L18.45,9,17,7.55,7,17.6ZM5,21V16.75L18.45,3.32a2,2,0,0,1,2.83,0l1.4,1.43a1.91,1.91,0,0,1,.58,1.4,1.91,1.91,0,0,1-.58,1.4L9.25,21ZM18.45,9,17,7.55Zm-12,3A5.31,5.31,0,0,0,4.9,8.1,5.31,5.31,0,0,0,1,6.5,5.31,5.31,0,0,0,4.9,4.9,5.31,5.31,0,0,0,6.5,1,5.31,5.31,0,0,0,8.1,4.9,5.31,5.31,0,0,0,12,6.5,5.46,5.46,0,0,0,6.5,12Z\"/>\n",
              "  </svg>\n",
              "    </button>\n",
              "    <script>\n",
              "      (() => {\n",
              "      const buttonEl =\n",
              "        document.querySelector('#id_be1438c5-68ea-4ddc-b120-5a90ac614c7a button.colab-df-generate');\n",
              "      buttonEl.style.display =\n",
              "        google.colab.kernel.accessAllowed ? 'block' : 'none';\n",
              "\n",
              "      buttonEl.onclick = () => {\n",
              "        google.colab.notebook.generateWithVariable('df_metadata');\n",
              "      }\n",
              "      })();\n",
              "    </script>\n",
              "  </div>\n",
              "\n",
              "    </div>\n",
              "  </div>\n"
            ],
            "application/vnd.google.colaboratory.intrinsic+json": {
              "type": "dataframe",
              "variable_name": "df_metadata",
              "summary": "{\n  \"name\": \"df_metadata\",\n  \"rows\": 4,\n  \"fields\": [\n    {\n      \"column\": \"Feature Name\",\n      \"properties\": {\n        \"dtype\": \"string\",\n        \"num_unique_values\": 4,\n        \"samples\": [\n          \"sepal width (cm)\",\n          \"petal width (cm)\",\n          \"sepal length (cm)\"\n        ],\n        \"semantic_type\": \"\",\n        \"description\": \"\"\n      }\n    },\n    {\n      \"column\": \"Description\",\n      \"properties\": {\n        \"dtype\": \"string\",\n        \"num_unique_values\": 4,\n        \"samples\": [\n          \"Width of the sepal\",\n          \"Width of the petal\",\n          \"Length of the sepal\"\n        ],\n        \"semantic_type\": \"\",\n        \"description\": \"\"\n      }\n    },\n    {\n      \"column\": \"Scale\",\n      \"properties\": {\n        \"dtype\": \"category\",\n        \"num_unique_values\": 1,\n        \"samples\": [\n          \"Continuous\"\n        ],\n        \"semantic_type\": \"\",\n        \"description\": \"\"\n      }\n    },\n    {\n      \"column\": \"Min Value\",\n      \"properties\": {\n        \"dtype\": \"number\",\n        \"std\": 1.8083141320025125,\n        \"min\": 0.1,\n        \"max\": 4.3,\n        \"num_unique_values\": 4,\n        \"samples\": [\n          2.0\n        ],\n        \"semantic_type\": \"\",\n        \"description\": \"\"\n      }\n    },\n    {\n      \"column\": \"Max Value\",\n      \"properties\": {\n        \"dtype\": \"number\",\n        \"std\": 2.4431878083083722,\n        \"min\": 2.5,\n        \"max\": 7.9,\n        \"num_unique_values\": 4,\n        \"samples\": [\n          4.4\n        ],\n        \"semantic_type\": \"\",\n        \"description\": \"\"\n      }\n    }\n  ]\n}"
            }
          },
          "metadata": {},
          "execution_count": 8
        }
      ],
      "source": [
        "import pandas as pd\n",
        "\n",
        "# Metadata for Iris dataset\n",
        "data = {\n",
        "    'Feature Name': ['sepal length (cm)', 'sepal width (cm)', 'petal length (cm)', 'petal width (cm)'],\n",
        "    'Description': ['Length of the sepal', 'Width of the sepal', 'Length of the petal', 'Width of the petal'],\n",
        "    'Scale': ['Continuous', 'Continuous', 'Continuous', 'Continuous'],\n",
        "    'Min Value': [4.3, 2.0, 1.0, 0.1],\n",
        "    'Max Value': [7.9, 4.4, 6.9, 2.5]\n",
        "}\n",
        "\n",
        "df_metadata = pd.DataFrame(data)\n",
        "df_metadata\n"
      ]
    },
    {
      "cell_type": "markdown",
      "metadata": {
        "id": "J6s01sICe0dJ"
      },
      "source": [
        "  "
      ]
    },
    {
      "cell_type": "markdown",
      "metadata": {
        "id": "AtXYRiXCerd8"
      },
      "source": [
        "## 2. Define the objective function\n",
        "\n",
        "The objective function is the heart of the optimization process. It defines the model, its hyperparameters, how it's trained, and what metric is returned for Optuna to optimize."
      ]
    },
    {
      "cell_type": "markdown",
      "metadata": {
        "id": "MPWyIVVMe5bX"
      },
      "source": [
        "  "
      ]
    },
    {
      "cell_type": "code",
      "execution_count": 11,
      "metadata": {
        "id": "Qj352ZOtagn_"
      },
      "outputs": [],
      "source": [
        "# Define the object function\n",
        "\"\"\"\n",
        "In a objective funtion you define:\n",
        "1. the hyperparameters to tune and the range for each hyperparameter.\n",
        "2. create an object of the model class\n",
        "3. and evaluation metric. (accuracy in this case)\n",
        "\"\"\"\n",
        "\n",
        "def objective(trial):\n",
        "\n",
        "    # Define range of hyperparameters\n",
        "    n_estimators = trial.suggest_int('n_estimators', 2, 150)\n",
        "    max_depth = trial.suggest_int('max_depth', 1, 32, log=True)\n",
        "    min_samples_split = trial.suggest_float('min_samples_split', 0.1, 1)\n",
        "    min_samples_leaf = trial.suggest_float('min_samples_leaf', 0.1, 0.5)\n",
        "    max_features = trial.suggest_categorical('max_features', ['sqrt', 'log2'])\n",
        "\n",
        "    clf = RandomForestClassifier(\n",
        "        n_estimators=n_estimators,\n",
        "        max_depth=max_depth,\n",
        "        min_samples_split=min_samples_split,\n",
        "        min_samples_leaf=min_samples_leaf,\n",
        "        max_features=max_features\n",
        "    )\n",
        "    # perform 3-fold cross validation and calculate accuracy.\n",
        "    # why mean? read here https://medium.com/analytics-vidhya/regularization-and-cross-validation-how-to-choose-the-penalty-value-lambda-1217fa4351e5\n",
        "    score = cross_val_score(clf, X, y, n_jobs=-1, cv=3, scoring='accuracy').mean()\n",
        "\n",
        "    return score\n"
      ]
    },
    {
      "cell_type": "markdown",
      "metadata": {
        "id": "8J8HM--KfKPV"
      },
      "source": [
        "Inside this function:\n",
        "\n",
        "**trial:** This is an object provided by Optuna, which is used to suggest values for the hyperparameters during each iteration.\n",
        "For the hyperparameters of the Random Forest:\n",
        "\n",
        "`n_estimators`: The number of trees in the forest.\n",
        "\n",
        "`max_depth`: The maximum depth of the tree.\n",
        "\n",
        "`min_samples_split`: The minimum number of samples required to split an internal node.\n",
        "\n",
        "`min_samples_leaf`: The minimum number of samples required to be at a leaf node.\n",
        "\n",
        "`max_features`: The number of features to consider when looking for the best split.\n",
        "\n",
        "The `trial.suggest_...` methods are used to suggest a value for a hyperparameter. For instance, `trial.suggest_int('n_estimators', 2, 150)` will suggest an integer between 2 and 150 for the n_estimators hyperparameter.\n",
        "\n",
        "After defining the hyperparameters, we train the Random Forest classifier using the current hyperparameters and evaluate it using 3-fold cross-validation. The mean of these scores is then returned."
      ]
    },
    {
      "cell_type": "code",
      "execution_count": 12,
      "metadata": {
        "colab": {
          "base_uri": "https://localhost:8080/"
        },
        "id": "48A7mYgYe_EY",
        "outputId": "d1ddcfbc-1992-4f6e-f6dd-78d08b322fcb"
      },
      "outputs": [
        {
          "output_type": "stream",
          "name": "stderr",
          "text": [
            "[I 2024-09-26 02:43:26,053] A new study created in memory with name: no-name-0a8608e1-05d5-4099-b9c3-cc73c42ba722\n",
            "[I 2024-09-26 02:43:26,877] Trial 0 finished with value: 0.9533333333333333 and parameters: {'n_estimators': 111, 'max_depth': 27, 'min_samples_split': 0.6248259506965022, 'min_samples_leaf': 0.18793765813160546, 'max_features': 'log2'}. Best is trial 0 with value: 0.9533333333333333.\n",
            "[I 2024-09-26 02:43:27,325] Trial 1 finished with value: 0.32666666666666666 and parameters: {'n_estimators': 58, 'max_depth': 11, 'min_samples_split': 0.6995196984851044, 'min_samples_leaf': 0.4057721142073504, 'max_features': 'sqrt'}. Best is trial 0 with value: 0.9533333333333333.\n",
            "[I 2024-09-26 02:43:28,179] Trial 2 finished with value: 0.43333333333333335 and parameters: {'n_estimators': 133, 'max_depth': 13, 'min_samples_split': 0.2994430222926844, 'min_samples_leaf': 0.3513415062149611, 'max_features': 'log2'}. Best is trial 0 with value: 0.9533333333333333.\n",
            "[I 2024-09-26 02:43:29,165] Trial 3 finished with value: 0.9533333333333333 and parameters: {'n_estimators': 135, 'max_depth': 1, 'min_samples_split': 0.18326024222673606, 'min_samples_leaf': 0.20153868947086628, 'max_features': 'log2'}. Best is trial 0 with value: 0.9533333333333333.\n",
            "[I 2024-09-26 02:43:29,848] Trial 4 finished with value: 0.96 and parameters: {'n_estimators': 85, 'max_depth': 9, 'min_samples_split': 0.5253312772863726, 'min_samples_leaf': 0.15088854587915873, 'max_features': 'sqrt'}. Best is trial 4 with value: 0.96.\n",
            "[I 2024-09-26 02:43:30,075] Trial 5 finished with value: 0.9466666666666667 and parameters: {'n_estimators': 32, 'max_depth': 18, 'min_samples_split': 0.6253634792145164, 'min_samples_leaf': 0.11854678706522558, 'max_features': 'log2'}. Best is trial 4 with value: 0.96.\n",
            "[I 2024-09-26 02:43:30,551] Trial 6 finished with value: 0.32666666666666666 and parameters: {'n_estimators': 86, 'max_depth': 11, 'min_samples_split': 0.19739585593498804, 'min_samples_leaf': 0.3848400704129832, 'max_features': 'log2'}. Best is trial 4 with value: 0.96.\n",
            "[I 2024-09-26 02:43:30,705] Trial 7 finished with value: 0.32666666666666666 and parameters: {'n_estimators': 36, 'max_depth': 3, 'min_samples_split': 0.7073145972699928, 'min_samples_leaf': 0.47264138536000844, 'max_features': 'sqrt'}. Best is trial 4 with value: 0.96.\n",
            "[I 2024-09-26 02:43:31,039] Trial 8 finished with value: 0.32 and parameters: {'n_estimators': 83, 'max_depth': 31, 'min_samples_split': 0.8988582292219303, 'min_samples_leaf': 0.1965343030452512, 'max_features': 'sqrt'}. Best is trial 4 with value: 0.96.\n",
            "[I 2024-09-26 02:43:31,469] Trial 9 finished with value: 0.9533333333333333 and parameters: {'n_estimators': 102, 'max_depth': 1, 'min_samples_split': 0.5963636017672228, 'min_samples_leaf': 0.1841834861898545, 'max_features': 'sqrt'}. Best is trial 4 with value: 0.96.\n",
            "[I 2024-09-26 02:43:31,534] Trial 10 finished with value: 0.7000000000000001 and parameters: {'n_estimators': 4, 'max_depth': 4, 'min_samples_split': 0.39179197960294787, 'min_samples_leaf': 0.2811299974443508, 'max_features': 'sqrt'}. Best is trial 4 with value: 0.96.\n",
            "[I 2024-09-26 02:43:31,993] Trial 11 finished with value: 0.94 and parameters: {'n_estimators': 108, 'max_depth': 6, 'min_samples_split': 0.4220899042911658, 'min_samples_leaf': 0.10242368256349814, 'max_features': 'log2'}. Best is trial 4 with value: 0.96.\n",
            "[I 2024-09-26 02:43:32,471] Trial 12 finished with value: 0.32666666666666666 and parameters: {'n_estimators': 111, 'max_depth': 31, 'min_samples_split': 0.8301655824127516, 'min_samples_leaf': 0.2645723268367321, 'max_features': 'log2'}. Best is trial 4 with value: 0.96.\n",
            "[I 2024-09-26 02:43:33,081] Trial 13 finished with value: 0.9533333333333333 and parameters: {'n_estimators': 148, 'max_depth': 6, 'min_samples_split': 0.4639895278953445, 'min_samples_leaf': 0.15310837091491816, 'max_features': 'sqrt'}. Best is trial 4 with value: 0.96.\n",
            "[I 2024-09-26 02:43:33,349] Trial 14 finished with value: 0.8266666666666667 and parameters: {'n_estimators': 60, 'max_depth': 19, 'min_samples_split': 0.5191851829208941, 'min_samples_leaf': 0.24609120187967315, 'max_features': 'sqrt'}. Best is trial 4 with value: 0.96.\n",
            "[I 2024-09-26 02:43:33,857] Trial 15 finished with value: 0.32 and parameters: {'n_estimators': 117, 'max_depth': 2, 'min_samples_split': 0.9943353365556016, 'min_samples_leaf': 0.23305247808071566, 'max_features': 'log2'}. Best is trial 4 with value: 0.96.\n",
            "[I 2024-09-26 02:43:34,156] Trial 16 finished with value: 0.32 and parameters: {'n_estimators': 68, 'max_depth': 7, 'min_samples_split': 0.7630712303661807, 'min_samples_leaf': 0.3252259333589005, 'max_features': 'sqrt'}. Best is trial 4 with value: 0.96.\n",
            "[I 2024-09-26 02:43:34,574] Trial 17 finished with value: 0.9466666666666667 and parameters: {'n_estimators': 94, 'max_depth': 20, 'min_samples_split': 0.33139250093114986, 'min_samples_leaf': 0.1542053574624223, 'max_features': 'log2'}. Best is trial 4 with value: 0.96.\n",
            "[I 2024-09-26 02:43:35,093] Trial 18 finished with value: 0.9466666666666667 and parameters: {'n_estimators': 125, 'max_depth': 2, 'min_samples_split': 0.5581521359766566, 'min_samples_leaf': 0.14737564554732466, 'max_features': 'log2'}. Best is trial 4 with value: 0.96.\n",
            "[I 2024-09-26 02:43:35,301] Trial 19 finished with value: 0.9333333333333332 and parameters: {'n_estimators': 43, 'max_depth': 10, 'min_samples_split': 0.10134234597954722, 'min_samples_leaf': 0.21797471676874297, 'max_features': 'sqrt'}. Best is trial 4 with value: 0.96.\n",
            "[I 2024-09-26 02:43:35,641] Trial 20 finished with value: 0.41333333333333333 and parameters: {'n_estimators': 73, 'max_depth': 24, 'min_samples_split': 0.690617152599525, 'min_samples_leaf': 0.3035392476859054, 'max_features': 'sqrt'}. Best is trial 4 with value: 0.96.\n",
            "[I 2024-09-26 02:43:36,548] Trial 21 finished with value: 0.9533333333333333 and parameters: {'n_estimators': 141, 'max_depth': 1, 'min_samples_split': 0.22449368558706934, 'min_samples_leaf': 0.19021562501947575, 'max_features': 'log2'}. Best is trial 4 with value: 0.96.\n",
            "[I 2024-09-26 02:43:38,046] Trial 22 finished with value: 0.94 and parameters: {'n_estimators': 127, 'max_depth': 2, 'min_samples_split': 0.4756343274066038, 'min_samples_leaf': 0.14282020680092042, 'max_features': 'log2'}. Best is trial 4 with value: 0.96.\n",
            "[I 2024-09-26 02:43:38,712] Trial 23 finished with value: 0.9466666666666667 and parameters: {'n_estimators': 96, 'max_depth': 3, 'min_samples_split': 0.20062175981791328, 'min_samples_leaf': 0.20457564673790532, 'max_features': 'log2'}. Best is trial 4 with value: 0.96.\n",
            "[I 2024-09-26 02:43:39,202] Trial 24 finished with value: 0.9466666666666667 and parameters: {'n_estimators': 119, 'max_depth': 8, 'min_samples_split': 0.32486161040547223, 'min_samples_leaf': 0.1638748578879442, 'max_features': 'log2'}. Best is trial 4 with value: 0.96.\n",
            "[I 2024-09-26 02:43:39,774] Trial 25 finished with value: 0.8266666666666667 and parameters: {'n_estimators': 137, 'max_depth': 4, 'min_samples_split': 0.1109627391959897, 'min_samples_leaf': 0.24935374355583706, 'max_features': 'log2'}. Best is trial 4 with value: 0.96.\n",
            "[I 2024-09-26 02:43:40,444] Trial 26 finished with value: 0.86 and parameters: {'n_estimators': 150, 'max_depth': 14, 'min_samples_split': 0.630581532866855, 'min_samples_leaf': 0.11156403777996048, 'max_features': 'log2'}. Best is trial 4 with value: 0.96.\n",
            "[I 2024-09-26 02:43:41,039] Trial 27 finished with value: 0.32 and parameters: {'n_estimators': 87, 'max_depth': 1, 'min_samples_split': 0.763862218763792, 'min_samples_leaf': 0.1782785059512711, 'max_features': 'log2'}. Best is trial 4 with value: 0.96.\n",
            "[I 2024-09-26 02:43:41,876] Trial 28 finished with value: 0.9266666666666666 and parameters: {'n_estimators': 106, 'max_depth': 5, 'min_samples_split': 0.5313226500555978, 'min_samples_leaf': 0.21367604424758657, 'max_features': 'sqrt'}. Best is trial 4 with value: 0.96.\n",
            "[I 2024-09-26 02:43:42,756] Trial 29 finished with value: 0.6866666666666665 and parameters: {'n_estimators': 126, 'max_depth': 9, 'min_samples_split': 0.37938782971804125, 'min_samples_leaf': 0.2919232501644307, 'max_features': 'sqrt'}. Best is trial 4 with value: 0.96.\n",
            "[I 2024-09-26 02:43:43,162] Trial 30 finished with value: 0.32 and parameters: {'n_estimators': 54, 'max_depth': 14, 'min_samples_split': 0.26776762408714905, 'min_samples_leaf': 0.4935031803042728, 'max_features': 'log2'}. Best is trial 4 with value: 0.96.\n",
            "[I 2024-09-26 02:43:43,970] Trial 31 finished with value: 0.86 and parameters: {'n_estimators': 99, 'max_depth': 1, 'min_samples_split': 0.5980832067444812, 'min_samples_leaf': 0.1274821691099785, 'max_features': 'sqrt'}. Best is trial 4 with value: 0.96.\n",
            "[I 2024-09-26 02:43:44,741] Trial 32 finished with value: 0.66 and parameters: {'n_estimators': 102, 'max_depth': 3, 'min_samples_split': 0.6974351885411292, 'min_samples_leaf': 0.17949691622952096, 'max_features': 'sqrt'}. Best is trial 4 with value: 0.96.\n",
            "[I 2024-09-26 02:43:45,372] Trial 33 finished with value: 0.8666666666666667 and parameters: {'n_estimators': 116, 'max_depth': 2, 'min_samples_split': 0.6404926290738044, 'min_samples_leaf': 0.22456550933596758, 'max_features': 'sqrt'}. Best is trial 4 with value: 0.96.\n",
            "[I 2024-09-26 02:43:45,733] Trial 34 finished with value: 0.9666666666666667 and parameters: {'n_estimators': 82, 'max_depth': 1, 'min_samples_split': 0.5607678658766334, 'min_samples_leaf': 0.1709083930905707, 'max_features': 'sqrt'}. Best is trial 34 with value: 0.9666666666666667.\n",
            "[I 2024-09-26 02:43:46,066] Trial 35 finished with value: 0.32666666666666666 and parameters: {'n_estimators': 72, 'max_depth': 12, 'min_samples_split': 0.7719522932887039, 'min_samples_leaf': 0.13352224081053568, 'max_features': 'sqrt'}. Best is trial 34 with value: 0.9666666666666667.\n",
            "[I 2024-09-26 02:43:46,417] Trial 36 finished with value: 0.9533333333333333 and parameters: {'n_estimators': 80, 'max_depth': 25, 'min_samples_split': 0.48045921724966156, 'min_samples_leaf': 0.16462605016785076, 'max_features': 'log2'}. Best is trial 34 with value: 0.9666666666666667.\n",
            "[I 2024-09-26 02:43:46,795] Trial 37 finished with value: 0.32 and parameters: {'n_estimators': 89, 'max_depth': 15, 'min_samples_split': 0.5693033558216375, 'min_samples_leaf': 0.3945754882067582, 'max_features': 'sqrt'}. Best is trial 34 with value: 0.9666666666666667.\n",
            "[I 2024-09-26 02:43:47,101] Trial 38 finished with value: 0.3333333333333333 and parameters: {'n_estimators': 63, 'max_depth': 5, 'min_samples_split': 0.8585625383880199, 'min_samples_leaf': 0.32343155561505676, 'max_features': 'log2'}. Best is trial 34 with value: 0.9666666666666667.\n",
            "[I 2024-09-26 02:43:47,639] Trial 39 finished with value: 0.32 and parameters: {'n_estimators': 131, 'max_depth': 3, 'min_samples_split': 0.4216939753371417, 'min_samples_leaf': 0.4376005425950896, 'max_features': 'sqrt'}. Best is trial 34 with value: 0.9666666666666667.\n",
            "[I 2024-09-26 02:43:48,049] Trial 40 finished with value: 0.32 and parameters: {'n_estimators': 90, 'max_depth': 11, 'min_samples_split': 0.6622947844386147, 'min_samples_leaf': 0.3656578890994575, 'max_features': 'sqrt'}. Best is trial 34 with value: 0.9666666666666667.\n",
            "[I 2024-09-26 02:43:48,406] Trial 41 finished with value: 0.96 and parameters: {'n_estimators': 77, 'max_depth': 1, 'min_samples_split': 0.597698516686775, 'min_samples_leaf': 0.19169018186999306, 'max_features': 'sqrt'}. Best is trial 34 with value: 0.9666666666666667.\n",
            "[I 2024-09-26 02:43:48,647] Trial 42 finished with value: 0.9666666666666667 and parameters: {'n_estimators': 51, 'max_depth': 1, 'min_samples_split': 0.5076479465868222, 'min_samples_leaf': 0.19868706491259508, 'max_features': 'sqrt'}. Best is trial 34 with value: 0.9666666666666667.\n",
            "[I 2024-09-26 02:43:48,891] Trial 43 finished with value: 0.9533333333333333 and parameters: {'n_estimators': 50, 'max_depth': 1, 'min_samples_split': 0.5882369557183238, 'min_samples_leaf': 0.19927984657689973, 'max_features': 'sqrt'}. Best is trial 34 with value: 0.9666666666666667.\n",
            "[I 2024-09-26 02:43:48,996] Trial 44 finished with value: 0.7599999999999999 and parameters: {'n_estimators': 15, 'max_depth': 25, 'min_samples_split': 0.5106251174494069, 'min_samples_leaf': 0.26499347338267887, 'max_features': 'sqrt'}. Best is trial 34 with value: 0.9666666666666667.\n",
            "[I 2024-09-26 02:43:49,173] Trial 45 finished with value: 0.94 and parameters: {'n_estimators': 29, 'max_depth': 2, 'min_samples_split': 0.45653279555922965, 'min_samples_leaf': 0.1697294261844997, 'max_features': 'sqrt'}. Best is trial 34 with value: 0.9666666666666667.\n",
            "[I 2024-09-26 02:43:49,522] Trial 46 finished with value: 0.8933333333333332 and parameters: {'n_estimators': 78, 'max_depth': 32, 'min_samples_split': 0.5309210819870395, 'min_samples_leaf': 0.11625342593612428, 'max_features': 'sqrt'}. Best is trial 34 with value: 0.9666666666666667.\n",
            "[I 2024-09-26 02:43:49,818] Trial 47 finished with value: 0.8733333333333334 and parameters: {'n_estimators': 66, 'max_depth': 17, 'min_samples_split': 0.6090551786727707, 'min_samples_leaf': 0.24246529012598064, 'max_features': 'sqrt'}. Best is trial 34 with value: 0.9666666666666667.\n",
            "[I 2024-09-26 02:43:50,038] Trial 48 finished with value: 0.32 and parameters: {'n_estimators': 45, 'max_depth': 7, 'min_samples_split': 0.720467921038683, 'min_samples_leaf': 0.1379888454742251, 'max_features': 'sqrt'}. Best is trial 34 with value: 0.9666666666666667.\n",
            "[I 2024-09-26 02:43:50,201] Trial 49 finished with value: 0.8133333333333334 and parameters: {'n_estimators': 26, 'max_depth': 21, 'min_samples_split': 0.6537975402868303, 'min_samples_leaf': 0.19202620975569215, 'max_features': 'sqrt'}. Best is trial 34 with value: 0.9666666666666667.\n",
            "[I 2024-09-26 02:43:50,484] Trial 50 finished with value: 0.9466666666666667 and parameters: {'n_estimators': 57, 'max_depth': 4, 'min_samples_split': 0.5617429219662394, 'min_samples_leaf': 0.10115687801952464, 'max_features': 'sqrt'}. Best is trial 34 with value: 0.9666666666666667.\n",
            "[I 2024-09-26 02:43:50,875] Trial 51 finished with value: 0.9333333333333332 and parameters: {'n_estimators': 85, 'max_depth': 1, 'min_samples_split': 0.3815938518535844, 'min_samples_leaf': 0.21107542425608544, 'max_features': 'sqrt'}. Best is trial 34 with value: 0.9666666666666667.\n",
            "[I 2024-09-26 02:43:51,240] Trial 52 finished with value: 0.8866666666666667 and parameters: {'n_estimators': 76, 'max_depth': 1, 'min_samples_split': 0.5034809090928071, 'min_samples_leaf': 0.23199219609129407, 'max_features': 'log2'}. Best is trial 34 with value: 0.9666666666666667.\n",
            "[I 2024-09-26 02:43:51,721] Trial 53 finished with value: 0.7266666666666667 and parameters: {'n_estimators': 113, 'max_depth': 6, 'min_samples_split': 0.6712796652940952, 'min_samples_leaf': 0.1607278116475449, 'max_features': 'sqrt'}. Best is trial 34 with value: 0.9666666666666667.\n",
            "[I 2024-09-26 02:43:52,041] Trial 54 finished with value: 0.34 and parameters: {'n_estimators': 71, 'max_depth': 17, 'min_samples_split': 0.9696372958330353, 'min_samples_leaf': 0.18232664376522617, 'max_features': 'log2'}. Best is trial 34 with value: 0.9666666666666667.\n",
            "[I 2024-09-26 02:43:52,637] Trial 55 finished with value: 0.9666666666666667 and parameters: {'n_estimators': 141, 'max_depth': 2, 'min_samples_split': 0.42849402559550215, 'min_samples_leaf': 0.19634017027193323, 'max_features': 'sqrt'}. Best is trial 34 with value: 0.9666666666666667.\n",
            "[I 2024-09-26 02:43:53,221] Trial 56 finished with value: 0.7599999999999999 and parameters: {'n_estimators': 142, 'max_depth': 2, 'min_samples_split': 0.42510935553548235, 'min_samples_leaf': 0.2668123118422166, 'max_features': 'sqrt'}. Best is trial 34 with value: 0.9666666666666667.\n",
            "[I 2024-09-26 02:43:53,647] Trial 57 finished with value: 0.9466666666666667 and parameters: {'n_estimators': 92, 'max_depth': 27, 'min_samples_split': 0.43924438706926267, 'min_samples_leaf': 0.20144488069302302, 'max_features': 'sqrt'}. Best is trial 34 with value: 0.9666666666666667.\n",
            "[I 2024-09-26 02:43:54,101] Trial 58 finished with value: 0.94 and parameters: {'n_estimators': 106, 'max_depth': 5, 'min_samples_split': 0.4847191471731696, 'min_samples_leaf': 0.15361325962889572, 'max_features': 'sqrt'}. Best is trial 34 with value: 0.9666666666666667.\n",
            "[I 2024-09-26 02:43:54,637] Trial 59 finished with value: 0.9466666666666667 and parameters: {'n_estimators': 122, 'max_depth': 3, 'min_samples_split': 0.5576956067506369, 'min_samples_leaf': 0.17406013961303762, 'max_features': 'sqrt'}. Best is trial 34 with value: 0.9666666666666667.\n",
            "[I 2024-09-26 02:43:54,828] Trial 60 finished with value: 0.8733333333333334 and parameters: {'n_estimators': 38, 'max_depth': 9, 'min_samples_split': 0.34874462573335163, 'min_samples_leaf': 0.2211050275896894, 'max_features': 'sqrt'}. Best is trial 34 with value: 0.9666666666666667.\n",
            "[I 2024-09-26 02:43:55,654] Trial 61 finished with value: 0.9466666666666667 and parameters: {'n_estimators': 143, 'max_depth': 1, 'min_samples_split': 0.28895394880016634, 'min_samples_leaf': 0.18780606275610456, 'max_features': 'log2'}. Best is trial 34 with value: 0.9666666666666667.\n",
            "[I 2024-09-26 02:43:56,631] Trial 62 finished with value: 0.9466666666666667 and parameters: {'n_estimators': 131, 'max_depth': 7, 'min_samples_split': 0.1534442891919772, 'min_samples_leaf': 0.12332799306535358, 'max_features': 'log2'}. Best is trial 34 with value: 0.9666666666666667.\n",
            "[I 2024-09-26 02:43:57,265] Trial 63 finished with value: 0.9533333333333333 and parameters: {'n_estimators': 83, 'max_depth': 1, 'min_samples_split': 0.621157656074999, 'min_samples_leaf': 0.1464763685124291, 'max_features': 'sqrt'}. Best is trial 34 with value: 0.9666666666666667.\n",
            "[I 2024-09-26 02:43:57,956] Trial 64 finished with value: 0.3333333333333333 and parameters: {'n_estimators': 96, 'max_depth': 2, 'min_samples_split': 0.7378192811988089, 'min_samples_leaf': 0.25034297595401167, 'max_features': 'log2'}. Best is trial 34 with value: 0.9666666666666667.\n",
            "[I 2024-09-26 02:43:59,443] Trial 65 finished with value: 0.9533333333333333 and parameters: {'n_estimators': 137, 'max_depth': 22, 'min_samples_split': 0.5241225508802012, 'min_samples_leaf': 0.2007587211102699, 'max_features': 'sqrt'}. Best is trial 34 with value: 0.9666666666666667.\n",
            "[I 2024-09-26 02:44:00,829] Trial 66 finished with value: 0.8933333333333334 and parameters: {'n_estimators': 146, 'max_depth': 10, 'min_samples_split': 0.5829525263388061, 'min_samples_leaf': 0.23601563874682427, 'max_features': 'log2'}. Best is trial 34 with value: 0.9666666666666667.\n",
            "[I 2024-09-26 02:44:01,793] Trial 67 finished with value: 0.9400000000000001 and parameters: {'n_estimators': 110, 'max_depth': 29, 'min_samples_split': 0.49815365678920737, 'min_samples_leaf': 0.21594860553317474, 'max_features': 'sqrt'}. Best is trial 34 with value: 0.9666666666666667.\n",
            "[I 2024-09-26 02:44:02,385] Trial 68 finished with value: 0.9533333333333333 and parameters: {'n_estimators': 136, 'max_depth': 1, 'min_samples_split': 0.5420505608735425, 'min_samples_leaf': 0.1712209627069506, 'max_features': 'sqrt'}. Best is trial 34 with value: 0.9666666666666667.\n",
            "[I 2024-09-26 02:44:02,875] Trial 69 finished with value: 0.9466666666666667 and parameters: {'n_estimators': 62, 'max_depth': 12, 'min_samples_split': 0.24815711378778987, 'min_samples_leaf': 0.15669199707046522, 'max_features': 'log2'}. Best is trial 34 with value: 0.9666666666666667.\n",
            "[I 2024-09-26 02:44:03,247] Trial 70 finished with value: 0.9533333333333333 and parameters: {'n_estimators': 82, 'max_depth': 8, 'min_samples_split': 0.14668811939248172, 'min_samples_leaf': 0.18586449354815374, 'max_features': 'sqrt'}. Best is trial 34 with value: 0.9666666666666667.\n",
            "[I 2024-09-26 02:44:03,612] Trial 71 finished with value: 0.96 and parameters: {'n_estimators': 76, 'max_depth': 1, 'min_samples_split': 0.624250716035712, 'min_samples_leaf': 0.13809664072555808, 'max_features': 'sqrt'}. Best is trial 34 with value: 0.9666666666666667.\n",
            "[I 2024-09-26 02:44:03,983] Trial 72 finished with value: 0.94 and parameters: {'n_estimators': 68, 'max_depth': 1, 'min_samples_split': 0.6164128247993468, 'min_samples_leaf': 0.2080799257724626, 'max_features': 'sqrt'}. Best is trial 34 with value: 0.9666666666666667.\n",
            "[I 2024-09-26 02:44:04,821] Trial 73 finished with value: 0.7466666666666667 and parameters: {'n_estimators': 99, 'max_depth': 6, 'min_samples_split': 0.67721309233527, 'min_samples_leaf': 0.14142204225462807, 'max_features': 'sqrt'}. Best is trial 34 with value: 0.9666666666666667.\n",
            "[I 2024-09-26 02:44:05,104] Trial 74 finished with value: 0.9266666666666666 and parameters: {'n_estimators': 52, 'max_depth': 1, 'min_samples_split': 0.6445099060786876, 'min_samples_leaf': 0.1319554777354655, 'max_features': 'sqrt'}. Best is trial 34 with value: 0.9666666666666667.\n",
            "[I 2024-09-26 02:44:05,736] Trial 75 finished with value: 0.32 and parameters: {'n_estimators': 122, 'max_depth': 16, 'min_samples_split': 0.7970385159880169, 'min_samples_leaf': 0.11197388047785177, 'max_features': 'sqrt'}. Best is trial 34 with value: 0.9666666666666667.\n",
            "[I 2024-09-26 02:44:06,106] Trial 76 finished with value: 0.96 and parameters: {'n_estimators': 77, 'max_depth': 13, 'min_samples_split': 0.5765839923264192, 'min_samples_leaf': 0.1655107834345035, 'max_features': 'log2'}. Best is trial 34 with value: 0.9666666666666667.\n",
            "[I 2024-09-26 02:44:06,464] Trial 77 finished with value: 0.9666666666666667 and parameters: {'n_estimators': 75, 'max_depth': 19, 'min_samples_split': 0.45132495177461807, 'min_samples_leaf': 0.1490926227991703, 'max_features': 'sqrt'}. Best is trial 34 with value: 0.9666666666666667.\n",
            "[I 2024-09-26 02:44:06,827] Trial 78 finished with value: 0.9533333333333333 and parameters: {'n_estimators': 73, 'max_depth': 13, 'min_samples_split': 0.4016466207598868, 'min_samples_leaf': 0.15071601713098545, 'max_features': 'sqrt'}. Best is trial 34 with value: 0.9666666666666667.\n",
            "[I 2024-09-26 02:44:07,368] Trial 79 finished with value: 0.96 and parameters: {'n_estimators': 75, 'max_depth': 19, 'min_samples_split': 0.4604411984055686, 'min_samples_leaf': 0.12372463259395737, 'max_features': 'sqrt'}. Best is trial 34 with value: 0.9666666666666667.\n",
            "[I 2024-09-26 02:44:07,656] Trial 80 finished with value: 0.9466666666666667 and parameters: {'n_estimators': 57, 'max_depth': 15, 'min_samples_split': 0.5448965460540859, 'min_samples_leaf': 0.17108894249624107, 'max_features': 'sqrt'}. Best is trial 34 with value: 0.9666666666666667.\n",
            "[I 2024-09-26 02:44:08,061] Trial 81 finished with value: 0.9466666666666667 and parameters: {'n_estimators': 76, 'max_depth': 22, 'min_samples_split': 0.45113974224713205, 'min_samples_leaf': 0.13415174871544527, 'max_features': 'sqrt'}. Best is trial 34 with value: 0.9666666666666667.\n",
            "[I 2024-09-26 02:44:08,387] Trial 82 finished with value: 0.9533333333333333 and parameters: {'n_estimators': 64, 'max_depth': 18, 'min_samples_split': 0.46758790472102363, 'min_samples_leaf': 0.12401980575778969, 'max_features': 'sqrt'}. Best is trial 34 with value: 0.9666666666666667.\n",
            "[I 2024-09-26 02:44:08,907] Trial 83 finished with value: 0.9466666666666667 and parameters: {'n_estimators': 79, 'max_depth': 13, 'min_samples_split': 0.3521699711847837, 'min_samples_leaf': 0.1609301147211909, 'max_features': 'sqrt'}. Best is trial 34 with value: 0.9666666666666667.\n",
            "[I 2024-09-26 02:44:09,259] Trial 84 finished with value: 0.9533333333333333 and parameters: {'n_estimators': 69, 'max_depth': 19, 'min_samples_split': 0.5829135207435128, 'min_samples_leaf': 0.1430811505416677, 'max_features': 'sqrt'}. Best is trial 34 with value: 0.9666666666666667.\n",
            "[I 2024-09-26 02:44:09,674] Trial 85 finished with value: 0.9533333333333333 and parameters: {'n_estimators': 86, 'max_depth': 20, 'min_samples_split': 0.41379028183603206, 'min_samples_leaf': 0.10837717605693101, 'max_features': 'sqrt'}. Best is trial 34 with value: 0.9666666666666667.\n",
            "[I 2024-09-26 02:44:10,028] Trial 86 finished with value: 0.94 and parameters: {'n_estimators': 74, 'max_depth': 11, 'min_samples_split': 0.4985223418129592, 'min_samples_leaf': 0.17919567762540506, 'max_features': 'sqrt'}. Best is trial 34 with value: 0.9666666666666667.\n",
            "[I 2024-09-26 02:44:10,166] Trial 87 finished with value: 0.96 and parameters: {'n_estimators': 20, 'max_depth': 15, 'min_samples_split': 0.4485879477647037, 'min_samples_leaf': 0.1915355786705014, 'max_features': 'sqrt'}. Best is trial 34 with value: 0.9666666666666667.\n",
            "[I 2024-09-26 02:44:10,417] Trial 88 finished with value: 0.9466666666666667 and parameters: {'n_estimators': 48, 'max_depth': 12, 'min_samples_split': 0.48113195128302, 'min_samples_leaf': 0.16545768648910453, 'max_features': 'sqrt'}. Best is trial 34 with value: 0.9666666666666667.\n",
            "[I 2024-09-26 02:44:11,101] Trial 89 finished with value: 0.9533333333333333 and parameters: {'n_estimators': 89, 'max_depth': 24, 'min_samples_split': 0.518706642016114, 'min_samples_leaf': 0.12299358709409498, 'max_features': 'sqrt'}. Best is trial 34 with value: 0.9666666666666667.\n",
            "[I 2024-09-26 02:44:11,807] Trial 90 finished with value: 0.9533333333333333 and parameters: {'n_estimators': 81, 'max_depth': 18, 'min_samples_split': 0.5500839846215957, 'min_samples_leaf': 0.10002091712225394, 'max_features': 'sqrt'}. Best is trial 34 with value: 0.9666666666666667.\n",
            "[I 2024-09-26 02:44:11,985] Trial 91 finished with value: 0.8466666666666667 and parameters: {'n_estimators': 12, 'max_depth': 14, 'min_samples_split': 0.4337347330623367, 'min_samples_leaf': 0.19364864008368987, 'max_features': 'sqrt'}. Best is trial 34 with value: 0.9666666666666667.\n",
            "[I 2024-09-26 02:44:12,342] Trial 92 finished with value: 0.9466666666666667 and parameters: {'n_estimators': 25, 'max_depth': 15, 'min_samples_split': 0.39219437638356114, 'min_samples_leaf': 0.1499543691749711, 'max_features': 'sqrt'}. Best is trial 34 with value: 0.9666666666666667.\n",
            "[I 2024-09-26 02:44:12,884] Trial 93 finished with value: 0.9333333333333332 and parameters: {'n_estimators': 36, 'max_depth': 10, 'min_samples_split': 0.4509327177251993, 'min_samples_leaf': 0.17634191659142207, 'max_features': 'sqrt'}. Best is trial 34 with value: 0.9666666666666667.\n",
            "[I 2024-09-26 02:44:13,833] Trial 94 finished with value: 0.94 and parameters: {'n_estimators': 60, 'max_depth': 16, 'min_samples_split': 0.5704939310133267, 'min_samples_leaf': 0.13329930984173938, 'max_features': 'sqrt'}. Best is trial 34 with value: 0.9666666666666667.\n",
            "[I 2024-09-26 02:44:13,992] Trial 95 finished with value: 0.7666666666666666 and parameters: {'n_estimators': 6, 'max_depth': 23, 'min_samples_split': 0.4916080856731809, 'min_samples_leaf': 0.19336950669317907, 'max_features': 'sqrt'}. Best is trial 34 with value: 0.9666666666666667.\n",
            "[I 2024-09-26 02:44:14,235] Trial 96 finished with value: 0.8466666666666667 and parameters: {'n_estimators': 21, 'max_depth': 28, 'min_samples_split': 0.5938121846301948, 'min_samples_leaf': 0.22772389196998039, 'max_features': 'sqrt'}. Best is trial 34 with value: 0.9666666666666667.\n",
            "[I 2024-09-26 02:44:15,127] Trial 97 finished with value: 0.9466666666666667 and parameters: {'n_estimators': 77, 'max_depth': 19, 'min_samples_split': 0.36974027877885435, 'min_samples_leaf': 0.16344757999493756, 'max_features': 'sqrt'}. Best is trial 34 with value: 0.9666666666666667.\n",
            "[I 2024-09-26 02:44:15,599] Trial 98 finished with value: 0.9533333333333333 and parameters: {'n_estimators': 92, 'max_depth': 9, 'min_samples_split': 0.5214349680137321, 'min_samples_leaf': 0.11770159363458793, 'max_features': 'sqrt'}. Best is trial 34 with value: 0.9666666666666667.\n",
            "[I 2024-09-26 02:44:15,924] Trial 99 finished with value: 0.9466666666666667 and parameters: {'n_estimators': 66, 'max_depth': 16, 'min_samples_split': 0.46455338890388254, 'min_samples_leaf': 0.18358410897196967, 'max_features': 'sqrt'}. Best is trial 34 with value: 0.9666666666666667.\n"
          ]
        },
        {
          "output_type": "stream",
          "name": "stdout",
          "text": [
            "Number of finished trials:  100\n"
          ]
        }
      ],
      "source": [
        "# Initiate the study object\n",
        "# maximize because we are after accuracy. And we would always want maximum accuracy.\n",
        "# there is a default sampler (TPE) argument that uses the bayesian search\n",
        "study = optuna.create_study(direction='maximize')\n",
        "\n",
        "# optimize the objective function.\n",
        "# you can observe with the verbose how it selects different values for different hyperparameters in each step.\n",
        "study.optimize(objective, n_trials=100)\n",
        "\n",
        "# Results\n",
        "print('Number of finished trials: ', len(study.trials))"
      ]
    },
    {
      "cell_type": "code",
      "execution_count": 34,
      "metadata": {
        "colab": {
          "base_uri": "https://localhost:8080/"
        },
        "id": "tL0-rJv-MLhP",
        "outputId": "563315f2-7330-457c-e309-1c603eb2fbdb"
      },
      "outputs": [
        {
          "output_type": "stream",
          "name": "stdout",
          "text": [
            "Best accuracy:  0.9466666666666667\n",
            "Params: \n",
            "    classifier: RandomForest\n",
            "    n_estimators: 84\n",
            "    max_depth: 12\n",
            "    min_samples_split: 0.24117885530298538\n",
            "    min_samples_leaf: 0.10417796450866255\n",
            "    max_features: log2\n",
            "    bootstrap: True\n"
          ]
        }
      ],
      "source": [
        "#return the best trial value\n",
        "trial = study.best_trial\n",
        "print('Best accuracy: ', trial.value)\n",
        "\n",
        "#return a dictionary of the best hyperparameters found\n",
        "print('Params: ')\n",
        "for key, accuracy in trial.params.items():\n",
        "    print(f'    {key}: {accuracy}')"
      ]
    },
    {
      "cell_type": "markdown",
      "metadata": {
        "id": "0_wJhZfLgc-r"
      },
      "source": [
        "* The `create_study` method initializes a new study. The `direction` parameter tells **Optuna** whether it should try to **maximize** or minimize the returned value from the objective function. In our case, we want to **maximize the cross-validation score.**\n",
        "\n",
        "* `study.optimize` tells Optuna to start the optimization. The objective function is passed as the first argument, and `n_trials` determines how many iterations Optuna should perform."
      ]
    },
    {
      "cell_type": "markdown",
      "metadata": {
        "id": "95ZG9lmx2kEC"
      },
      "source": [
        "  "
      ]
    },
    {
      "cell_type": "markdown",
      "metadata": {
        "id": "X2sFSPtXHBQa"
      },
      "source": [
        "#PLOTTING THE STUDY CREATED BY OPTUNA"
      ]
    },
    {
      "cell_type": "markdown",
      "metadata": {
        "id": "gwbyThS5HVDM"
      },
      "source": [
        "Plotting the optimization history of the study."
      ]
    },
    {
      "cell_type": "code",
      "execution_count": 15,
      "metadata": {
        "id": "kKycA2HsGpAE"
      },
      "outputs": [],
      "source": [
        "# For visulaization\n",
        "from optuna.visualization import plot_optimization_history, plot_parallel_coordinate, plot_slice, plot_param_importances"
      ]
    },
    {
      "cell_type": "markdown",
      "metadata": {
        "id": "0agcCLswHbhR"
      },
      "source": [
        "Plotting the accuracies for each hyperparameter for each trial."
      ]
    },
    {
      "cell_type": "code",
      "source": [
        "# Optimization history plot\n",
        "plot_optimization_history(study).show()"
      ],
      "metadata": {
        "colab": {
          "base_uri": "https://localhost:8080/",
          "height": 542
        },
        "id": "YJYv3NemOAjf",
        "outputId": "738f32c4-3d8d-4a0a-f685-302f54d2a5c4"
      },
      "execution_count": 16,
      "outputs": [
        {
          "output_type": "display_data",
          "data": {
            "text/html": [
              "<html>\n",
              "<head><meta charset=\"utf-8\" /></head>\n",
              "<body>\n",
              "    <div>            <script src=\"https://cdnjs.cloudflare.com/ajax/libs/mathjax/2.7.5/MathJax.js?config=TeX-AMS-MML_SVG\"></script><script type=\"text/javascript\">if (window.MathJax && window.MathJax.Hub && window.MathJax.Hub.Config) {window.MathJax.Hub.Config({SVG: {font: \"STIX-Web\"}});}</script>                <script type=\"text/javascript\">window.PlotlyConfig = {MathJaxConfig: 'local'};</script>\n",
              "        <script charset=\"utf-8\" src=\"https://cdn.plot.ly/plotly-2.35.2.min.js\"></script>                <div id=\"1de86e96-33b4-4bfa-b53e-ef7eeb888458\" class=\"plotly-graph-div\" style=\"height:525px; width:100%;\"></div>            <script type=\"text/javascript\">                                    window.PLOTLYENV=window.PLOTLYENV || {};                                    if (document.getElementById(\"1de86e96-33b4-4bfa-b53e-ef7eeb888458\")) {                    Plotly.newPlot(                        \"1de86e96-33b4-4bfa-b53e-ef7eeb888458\",                        [{\"mode\":\"markers\",\"name\":\"Objective Value\",\"x\":[0,1,2,3,4,5,6,7,8,9,10,11,12,13,14,15,16,17,18,19,20,21,22,23,24,25,26,27,28,29,30,31,32,33,34,35,36,37,38,39,40,41,42,43,44,45,46,47,48,49,50,51,52,53,54,55,56,57,58,59,60,61,62,63,64,65,66,67,68,69,70,71,72,73,74,75,76,77,78,79,80,81,82,83,84,85,86,87,88,89,90,91,92,93,94,95,96,97,98,99],\"y\":[0.9533333333333333,0.32666666666666666,0.43333333333333335,0.9533333333333333,0.96,0.9466666666666667,0.32666666666666666,0.32666666666666666,0.32,0.9533333333333333,0.7000000000000001,0.94,0.32666666666666666,0.9533333333333333,0.8266666666666667,0.32,0.32,0.9466666666666667,0.9466666666666667,0.9333333333333332,0.41333333333333333,0.9533333333333333,0.94,0.9466666666666667,0.9466666666666667,0.8266666666666667,0.86,0.32,0.9266666666666666,0.6866666666666665,0.32,0.86,0.66,0.8666666666666667,0.9666666666666667,0.32666666666666666,0.9533333333333333,0.32,0.3333333333333333,0.32,0.32,0.96,0.9666666666666667,0.9533333333333333,0.7599999999999999,0.94,0.8933333333333332,0.8733333333333334,0.32,0.8133333333333334,0.9466666666666667,0.9333333333333332,0.8866666666666667,0.7266666666666667,0.34,0.9666666666666667,0.7599999999999999,0.9466666666666667,0.94,0.9466666666666667,0.8733333333333334,0.9466666666666667,0.9466666666666667,0.9533333333333333,0.3333333333333333,0.9533333333333333,0.8933333333333334,0.9400000000000001,0.9533333333333333,0.9466666666666667,0.9533333333333333,0.96,0.94,0.7466666666666667,0.9266666666666666,0.32,0.96,0.9666666666666667,0.9533333333333333,0.96,0.9466666666666667,0.9466666666666667,0.9533333333333333,0.9466666666666667,0.9533333333333333,0.9533333333333333,0.94,0.96,0.9466666666666667,0.9533333333333333,0.9533333333333333,0.8466666666666667,0.9466666666666667,0.9333333333333332,0.94,0.7666666666666666,0.8466666666666667,0.9466666666666667,0.9533333333333333,0.9466666666666667],\"type\":\"scatter\"},{\"mode\":\"lines\",\"name\":\"Best Value\",\"x\":[0,1,2,3,4,5,6,7,8,9,10,11,12,13,14,15,16,17,18,19,20,21,22,23,24,25,26,27,28,29,30,31,32,33,34,35,36,37,38,39,40,41,42,43,44,45,46,47,48,49,50,51,52,53,54,55,56,57,58,59,60,61,62,63,64,65,66,67,68,69,70,71,72,73,74,75,76,77,78,79,80,81,82,83,84,85,86,87,88,89,90,91,92,93,94,95,96,97,98,99],\"y\":[0.9533333333333333,0.9533333333333333,0.9533333333333333,0.9533333333333333,0.96,0.96,0.96,0.96,0.96,0.96,0.96,0.96,0.96,0.96,0.96,0.96,0.96,0.96,0.96,0.96,0.96,0.96,0.96,0.96,0.96,0.96,0.96,0.96,0.96,0.96,0.96,0.96,0.96,0.96,0.9666666666666667,0.9666666666666667,0.9666666666666667,0.9666666666666667,0.9666666666666667,0.9666666666666667,0.9666666666666667,0.9666666666666667,0.9666666666666667,0.9666666666666667,0.9666666666666667,0.9666666666666667,0.9666666666666667,0.9666666666666667,0.9666666666666667,0.9666666666666667,0.9666666666666667,0.9666666666666667,0.9666666666666667,0.9666666666666667,0.9666666666666667,0.9666666666666667,0.9666666666666667,0.9666666666666667,0.9666666666666667,0.9666666666666667,0.9666666666666667,0.9666666666666667,0.9666666666666667,0.9666666666666667,0.9666666666666667,0.9666666666666667,0.9666666666666667,0.9666666666666667,0.9666666666666667,0.9666666666666667,0.9666666666666667,0.9666666666666667,0.9666666666666667,0.9666666666666667,0.9666666666666667,0.9666666666666667,0.9666666666666667,0.9666666666666667,0.9666666666666667,0.9666666666666667,0.9666666666666667,0.9666666666666667,0.9666666666666667,0.9666666666666667,0.9666666666666667,0.9666666666666667,0.9666666666666667,0.9666666666666667,0.9666666666666667,0.9666666666666667,0.9666666666666667,0.9666666666666667,0.9666666666666667,0.9666666666666667,0.9666666666666667,0.9666666666666667,0.9666666666666667,0.9666666666666667,0.9666666666666667,0.9666666666666667],\"type\":\"scatter\"},{\"marker\":{\"color\":\"#cccccc\"},\"mode\":\"markers\",\"name\":\"Infeasible Trial\",\"showlegend\":false,\"x\":[],\"y\":[],\"type\":\"scatter\"}],                        {\"title\":{\"text\":\"Optimization History Plot\"},\"xaxis\":{\"title\":{\"text\":\"Trial\"}},\"yaxis\":{\"title\":{\"text\":\"Objective Value\"}},\"template\":{\"data\":{\"histogram2dcontour\":[{\"type\":\"histogram2dcontour\",\"colorbar\":{\"outlinewidth\":0,\"ticks\":\"\"},\"colorscale\":[[0.0,\"#0d0887\"],[0.1111111111111111,\"#46039f\"],[0.2222222222222222,\"#7201a8\"],[0.3333333333333333,\"#9c179e\"],[0.4444444444444444,\"#bd3786\"],[0.5555555555555556,\"#d8576b\"],[0.6666666666666666,\"#ed7953\"],[0.7777777777777778,\"#fb9f3a\"],[0.8888888888888888,\"#fdca26\"],[1.0,\"#f0f921\"]]}],\"choropleth\":[{\"type\":\"choropleth\",\"colorbar\":{\"outlinewidth\":0,\"ticks\":\"\"}}],\"histogram2d\":[{\"type\":\"histogram2d\",\"colorbar\":{\"outlinewidth\":0,\"ticks\":\"\"},\"colorscale\":[[0.0,\"#0d0887\"],[0.1111111111111111,\"#46039f\"],[0.2222222222222222,\"#7201a8\"],[0.3333333333333333,\"#9c179e\"],[0.4444444444444444,\"#bd3786\"],[0.5555555555555556,\"#d8576b\"],[0.6666666666666666,\"#ed7953\"],[0.7777777777777778,\"#fb9f3a\"],[0.8888888888888888,\"#fdca26\"],[1.0,\"#f0f921\"]]}],\"heatmap\":[{\"type\":\"heatmap\",\"colorbar\":{\"outlinewidth\":0,\"ticks\":\"\"},\"colorscale\":[[0.0,\"#0d0887\"],[0.1111111111111111,\"#46039f\"],[0.2222222222222222,\"#7201a8\"],[0.3333333333333333,\"#9c179e\"],[0.4444444444444444,\"#bd3786\"],[0.5555555555555556,\"#d8576b\"],[0.6666666666666666,\"#ed7953\"],[0.7777777777777778,\"#fb9f3a\"],[0.8888888888888888,\"#fdca26\"],[1.0,\"#f0f921\"]]}],\"heatmapgl\":[{\"type\":\"heatmapgl\",\"colorbar\":{\"outlinewidth\":0,\"ticks\":\"\"},\"colorscale\":[[0.0,\"#0d0887\"],[0.1111111111111111,\"#46039f\"],[0.2222222222222222,\"#7201a8\"],[0.3333333333333333,\"#9c179e\"],[0.4444444444444444,\"#bd3786\"],[0.5555555555555556,\"#d8576b\"],[0.6666666666666666,\"#ed7953\"],[0.7777777777777778,\"#fb9f3a\"],[0.8888888888888888,\"#fdca26\"],[1.0,\"#f0f921\"]]}],\"contourcarpet\":[{\"type\":\"contourcarpet\",\"colorbar\":{\"outlinewidth\":0,\"ticks\":\"\"}}],\"contour\":[{\"type\":\"contour\",\"colorbar\":{\"outlinewidth\":0,\"ticks\":\"\"},\"colorscale\":[[0.0,\"#0d0887\"],[0.1111111111111111,\"#46039f\"],[0.2222222222222222,\"#7201a8\"],[0.3333333333333333,\"#9c179e\"],[0.4444444444444444,\"#bd3786\"],[0.5555555555555556,\"#d8576b\"],[0.6666666666666666,\"#ed7953\"],[0.7777777777777778,\"#fb9f3a\"],[0.8888888888888888,\"#fdca26\"],[1.0,\"#f0f921\"]]}],\"surface\":[{\"type\":\"surface\",\"colorbar\":{\"outlinewidth\":0,\"ticks\":\"\"},\"colorscale\":[[0.0,\"#0d0887\"],[0.1111111111111111,\"#46039f\"],[0.2222222222222222,\"#7201a8\"],[0.3333333333333333,\"#9c179e\"],[0.4444444444444444,\"#bd3786\"],[0.5555555555555556,\"#d8576b\"],[0.6666666666666666,\"#ed7953\"],[0.7777777777777778,\"#fb9f3a\"],[0.8888888888888888,\"#fdca26\"],[1.0,\"#f0f921\"]]}],\"mesh3d\":[{\"type\":\"mesh3d\",\"colorbar\":{\"outlinewidth\":0,\"ticks\":\"\"}}],\"scatter\":[{\"fillpattern\":{\"fillmode\":\"overlay\",\"size\":10,\"solidity\":0.2},\"type\":\"scatter\"}],\"parcoords\":[{\"type\":\"parcoords\",\"line\":{\"colorbar\":{\"outlinewidth\":0,\"ticks\":\"\"}}}],\"scatterpolargl\":[{\"type\":\"scatterpolargl\",\"marker\":{\"colorbar\":{\"outlinewidth\":0,\"ticks\":\"\"}}}],\"bar\":[{\"error_x\":{\"color\":\"#2a3f5f\"},\"error_y\":{\"color\":\"#2a3f5f\"},\"marker\":{\"line\":{\"color\":\"#E5ECF6\",\"width\":0.5},\"pattern\":{\"fillmode\":\"overlay\",\"size\":10,\"solidity\":0.2}},\"type\":\"bar\"}],\"scattergeo\":[{\"type\":\"scattergeo\",\"marker\":{\"colorbar\":{\"outlinewidth\":0,\"ticks\":\"\"}}}],\"scatterpolar\":[{\"type\":\"scatterpolar\",\"marker\":{\"colorbar\":{\"outlinewidth\":0,\"ticks\":\"\"}}}],\"histogram\":[{\"marker\":{\"pattern\":{\"fillmode\":\"overlay\",\"size\":10,\"solidity\":0.2}},\"type\":\"histogram\"}],\"scattergl\":[{\"type\":\"scattergl\",\"marker\":{\"colorbar\":{\"outlinewidth\":0,\"ticks\":\"\"}}}],\"scatter3d\":[{\"type\":\"scatter3d\",\"line\":{\"colorbar\":{\"outlinewidth\":0,\"ticks\":\"\"}},\"marker\":{\"colorbar\":{\"outlinewidth\":0,\"ticks\":\"\"}}}],\"scattermapbox\":[{\"type\":\"scattermapbox\",\"marker\":{\"colorbar\":{\"outlinewidth\":0,\"ticks\":\"\"}}}],\"scatterternary\":[{\"type\":\"scatterternary\",\"marker\":{\"colorbar\":{\"outlinewidth\":0,\"ticks\":\"\"}}}],\"scattercarpet\":[{\"type\":\"scattercarpet\",\"marker\":{\"colorbar\":{\"outlinewidth\":0,\"ticks\":\"\"}}}],\"carpet\":[{\"aaxis\":{\"endlinecolor\":\"#2a3f5f\",\"gridcolor\":\"white\",\"linecolor\":\"white\",\"minorgridcolor\":\"white\",\"startlinecolor\":\"#2a3f5f\"},\"baxis\":{\"endlinecolor\":\"#2a3f5f\",\"gridcolor\":\"white\",\"linecolor\":\"white\",\"minorgridcolor\":\"white\",\"startlinecolor\":\"#2a3f5f\"},\"type\":\"carpet\"}],\"table\":[{\"cells\":{\"fill\":{\"color\":\"#EBF0F8\"},\"line\":{\"color\":\"white\"}},\"header\":{\"fill\":{\"color\":\"#C8D4E3\"},\"line\":{\"color\":\"white\"}},\"type\":\"table\"}],\"barpolar\":[{\"marker\":{\"line\":{\"color\":\"#E5ECF6\",\"width\":0.5},\"pattern\":{\"fillmode\":\"overlay\",\"size\":10,\"solidity\":0.2}},\"type\":\"barpolar\"}],\"pie\":[{\"automargin\":true,\"type\":\"pie\"}]},\"layout\":{\"autotypenumbers\":\"strict\",\"colorway\":[\"#636efa\",\"#EF553B\",\"#00cc96\",\"#ab63fa\",\"#FFA15A\",\"#19d3f3\",\"#FF6692\",\"#B6E880\",\"#FF97FF\",\"#FECB52\"],\"font\":{\"color\":\"#2a3f5f\"},\"hovermode\":\"closest\",\"hoverlabel\":{\"align\":\"left\"},\"paper_bgcolor\":\"white\",\"plot_bgcolor\":\"#E5ECF6\",\"polar\":{\"bgcolor\":\"#E5ECF6\",\"angularaxis\":{\"gridcolor\":\"white\",\"linecolor\":\"white\",\"ticks\":\"\"},\"radialaxis\":{\"gridcolor\":\"white\",\"linecolor\":\"white\",\"ticks\":\"\"}},\"ternary\":{\"bgcolor\":\"#E5ECF6\",\"aaxis\":{\"gridcolor\":\"white\",\"linecolor\":\"white\",\"ticks\":\"\"},\"baxis\":{\"gridcolor\":\"white\",\"linecolor\":\"white\",\"ticks\":\"\"},\"caxis\":{\"gridcolor\":\"white\",\"linecolor\":\"white\",\"ticks\":\"\"}},\"coloraxis\":{\"colorbar\":{\"outlinewidth\":0,\"ticks\":\"\"}},\"colorscale\":{\"sequential\":[[0.0,\"#0d0887\"],[0.1111111111111111,\"#46039f\"],[0.2222222222222222,\"#7201a8\"],[0.3333333333333333,\"#9c179e\"],[0.4444444444444444,\"#bd3786\"],[0.5555555555555556,\"#d8576b\"],[0.6666666666666666,\"#ed7953\"],[0.7777777777777778,\"#fb9f3a\"],[0.8888888888888888,\"#fdca26\"],[1.0,\"#f0f921\"]],\"sequentialminus\":[[0.0,\"#0d0887\"],[0.1111111111111111,\"#46039f\"],[0.2222222222222222,\"#7201a8\"],[0.3333333333333333,\"#9c179e\"],[0.4444444444444444,\"#bd3786\"],[0.5555555555555556,\"#d8576b\"],[0.6666666666666666,\"#ed7953\"],[0.7777777777777778,\"#fb9f3a\"],[0.8888888888888888,\"#fdca26\"],[1.0,\"#f0f921\"]],\"diverging\":[[0,\"#8e0152\"],[0.1,\"#c51b7d\"],[0.2,\"#de77ae\"],[0.3,\"#f1b6da\"],[0.4,\"#fde0ef\"],[0.5,\"#f7f7f7\"],[0.6,\"#e6f5d0\"],[0.7,\"#b8e186\"],[0.8,\"#7fbc41\"],[0.9,\"#4d9221\"],[1,\"#276419\"]]},\"xaxis\":{\"gridcolor\":\"white\",\"linecolor\":\"white\",\"ticks\":\"\",\"title\":{\"standoff\":15},\"zerolinecolor\":\"white\",\"automargin\":true,\"zerolinewidth\":2},\"yaxis\":{\"gridcolor\":\"white\",\"linecolor\":\"white\",\"ticks\":\"\",\"title\":{\"standoff\":15},\"zerolinecolor\":\"white\",\"automargin\":true,\"zerolinewidth\":2},\"scene\":{\"xaxis\":{\"backgroundcolor\":\"#E5ECF6\",\"gridcolor\":\"white\",\"linecolor\":\"white\",\"showbackground\":true,\"ticks\":\"\",\"zerolinecolor\":\"white\",\"gridwidth\":2},\"yaxis\":{\"backgroundcolor\":\"#E5ECF6\",\"gridcolor\":\"white\",\"linecolor\":\"white\",\"showbackground\":true,\"ticks\":\"\",\"zerolinecolor\":\"white\",\"gridwidth\":2},\"zaxis\":{\"backgroundcolor\":\"#E5ECF6\",\"gridcolor\":\"white\",\"linecolor\":\"white\",\"showbackground\":true,\"ticks\":\"\",\"zerolinecolor\":\"white\",\"gridwidth\":2}},\"shapedefaults\":{\"line\":{\"color\":\"#2a3f5f\"}},\"annotationdefaults\":{\"arrowcolor\":\"#2a3f5f\",\"arrowhead\":0,\"arrowwidth\":1},\"geo\":{\"bgcolor\":\"white\",\"landcolor\":\"#E5ECF6\",\"subunitcolor\":\"white\",\"showland\":true,\"showlakes\":true,\"lakecolor\":\"white\"},\"title\":{\"x\":0.05},\"mapbox\":{\"style\":\"light\"}}}},                        {\"responsive\": true}                    ).then(function(){\n",
              "                            \n",
              "var gd = document.getElementById('1de86e96-33b4-4bfa-b53e-ef7eeb888458');\n",
              "var x = new MutationObserver(function (mutations, observer) {{\n",
              "        var display = window.getComputedStyle(gd).display;\n",
              "        if (!display || display === 'none') {{\n",
              "            console.log([gd, 'removed!']);\n",
              "            Plotly.purge(gd);\n",
              "            observer.disconnect();\n",
              "        }}\n",
              "}});\n",
              "\n",
              "// Listen for the removal of the full notebook cells\n",
              "var notebookContainer = gd.closest('#notebook-container');\n",
              "if (notebookContainer) {{\n",
              "    x.observe(notebookContainer, {childList: true});\n",
              "}}\n",
              "\n",
              "// Listen for the clearing of the current output cell\n",
              "var outputEl = gd.closest('.output');\n",
              "if (outputEl) {{\n",
              "    x.observe(outputEl, {childList: true});\n",
              "}}\n",
              "\n",
              "                        })                };                            </script>        </div>\n",
              "</body>\n",
              "</html>"
            ]
          },
          "metadata": {}
        }
      ]
    },
    {
      "cell_type": "markdown",
      "source": [
        "The chart above shows that after 31st trail there was no change or improvement in the accuracy."
      ],
      "metadata": {
        "id": "pW7X_J_zOQnY"
      }
    },
    {
      "cell_type": "code",
      "source": [
        "# Parallel coordinates plot\n",
        "plot_parallel_coordinate(study).show()"
      ],
      "metadata": {
        "colab": {
          "base_uri": "https://localhost:8080/",
          "height": 542
        },
        "id": "tOE55-SGOnUY",
        "outputId": "592f41b8-299b-45ed-a367-d2531d8fb3da"
      },
      "execution_count": 17,
      "outputs": [
        {
          "output_type": "display_data",
          "data": {
            "text/html": [
              "<html>\n",
              "<head><meta charset=\"utf-8\" /></head>\n",
              "<body>\n",
              "    <div>            <script src=\"https://cdnjs.cloudflare.com/ajax/libs/mathjax/2.7.5/MathJax.js?config=TeX-AMS-MML_SVG\"></script><script type=\"text/javascript\">if (window.MathJax && window.MathJax.Hub && window.MathJax.Hub.Config) {window.MathJax.Hub.Config({SVG: {font: \"STIX-Web\"}});}</script>                <script type=\"text/javascript\">window.PlotlyConfig = {MathJaxConfig: 'local'};</script>\n",
              "        <script charset=\"utf-8\" src=\"https://cdn.plot.ly/plotly-2.35.2.min.js\"></script>                <div id=\"78c67f8e-ca1f-4472-97ae-4f84029fcc6d\" class=\"plotly-graph-div\" style=\"height:525px; width:100%;\"></div>            <script type=\"text/javascript\">                                    window.PLOTLYENV=window.PLOTLYENV || {};                                    if (document.getElementById(\"78c67f8e-ca1f-4472-97ae-4f84029fcc6d\")) {                    Plotly.newPlot(                        \"78c67f8e-ca1f-4472-97ae-4f84029fcc6d\",                        [{\"dimensions\":[{\"label\":\"Objective Value\",\"range\":[0.32,0.9666666666666667],\"values\":[0.9533333333333333,0.32666666666666666,0.43333333333333335,0.9533333333333333,0.96,0.9466666666666667,0.32666666666666666,0.32666666666666666,0.32,0.9533333333333333,0.7000000000000001,0.94,0.32666666666666666,0.9533333333333333,0.8266666666666667,0.32,0.32,0.9466666666666667,0.9466666666666667,0.9333333333333332,0.41333333333333333,0.9533333333333333,0.94,0.9466666666666667,0.9466666666666667,0.8266666666666667,0.86,0.32,0.9266666666666666,0.6866666666666665,0.32,0.86,0.66,0.8666666666666667,0.9666666666666667,0.32666666666666666,0.9533333333333333,0.32,0.3333333333333333,0.32,0.32,0.96,0.9666666666666667,0.9533333333333333,0.7599999999999999,0.94,0.8933333333333332,0.8733333333333334,0.32,0.8133333333333334,0.9466666666666667,0.9333333333333332,0.8866666666666667,0.7266666666666667,0.34,0.9666666666666667,0.7599999999999999,0.9466666666666667,0.94,0.9466666666666667,0.8733333333333334,0.9466666666666667,0.9466666666666667,0.9533333333333333,0.3333333333333333,0.9533333333333333,0.8933333333333334,0.9400000000000001,0.9533333333333333,0.9466666666666667,0.9533333333333333,0.96,0.94,0.7466666666666667,0.9266666666666666,0.32,0.96,0.9666666666666667,0.9533333333333333,0.96,0.9466666666666667,0.9466666666666667,0.9533333333333333,0.9466666666666667,0.9533333333333333,0.9533333333333333,0.94,0.96,0.9466666666666667,0.9533333333333333,0.9533333333333333,0.8466666666666667,0.9466666666666667,0.9333333333333332,0.94,0.7666666666666666,0.8466666666666667,0.9466666666666667,0.9533333333333333,0.9466666666666667]},{\"label\":\"max_depth\",\"range\":[0.0,1.505149978319906],\"ticktext\":[\"1\",\"10\",\"32\"],\"tickvals\":[0,1,1.505149978319906],\"values\":[1.4313637641589874,1.041392685158225,1.1139433523068367,0.0,0.9542425094393249,1.255272505103306,1.041392685158225,0.47712125471966244,1.4913616938342726,0.0,0.6020599913279624,0.7781512503836436,1.4913616938342726,0.7781512503836436,1.2787536009528289,0.3010299956639812,0.8450980400142568,1.3010299956639813,0.3010299956639812,1.0,1.380211241711606,0.0,0.3010299956639812,0.47712125471966244,0.9030899869919435,0.6020599913279624,1.146128035678238,0.0,0.6989700043360189,0.9542425094393249,1.146128035678238,0.0,0.47712125471966244,0.3010299956639812,0.0,1.0791812460476249,1.3979400086720377,1.1760912590556813,0.6989700043360189,0.47712125471966244,1.041392685158225,0.0,0.0,0.0,1.3979400086720377,0.3010299956639812,1.505149978319906,1.2304489213782739,0.8450980400142568,1.3222192947339193,0.6020599913279624,0.0,0.0,0.7781512503836436,1.2304489213782739,0.3010299956639812,0.3010299956639812,1.4313637641589874,0.6989700043360189,0.47712125471966244,0.9542425094393249,0.0,0.8450980400142568,0.0,0.3010299956639812,1.3424226808222062,1.0,1.462397997898956,0.0,1.0791812460476249,0.9030899869919435,0.0,0.0,0.7781512503836436,0.0,1.2041199826559248,1.1139433523068367,1.2787536009528289,1.1139433523068367,1.2787536009528289,1.1760912590556813,1.3424226808222062,1.255272505103306,1.1139433523068367,1.2787536009528289,1.3010299956639813,1.041392685158225,1.1760912590556813,1.0791812460476249,1.380211241711606,1.255272505103306,1.146128035678238,1.1760912590556813,1.0,1.2041199826559248,1.3617278360175928,1.4471580313422192,1.2787536009528289,0.9542425094393249,1.2041199826559248]},{\"label\":\"max_features\",\"range\":[0,1],\"ticktext\":[\"log2\",\"sqrt\"],\"tickvals\":[0,1],\"values\":[0,1,0,0,1,0,0,1,1,1,1,0,0,1,1,0,1,0,0,1,1,0,0,0,0,0,0,0,1,1,0,1,1,1,1,1,0,1,0,1,1,1,1,1,1,1,1,1,1,1,1,1,0,1,0,1,1,1,1,1,1,0,0,1,0,1,0,1,1,0,1,1,1,1,1,1,0,1,1,1,1,1,1,1,1,1,1,1,1,1,1,1,1,1,1,1,1,1,1,1]},{\"label\":\"min_samples_leaf\",\"range\":[0.10002091712225394,0.4935031803042728],\"values\":[0.18793765813160546,0.4057721142073504,0.3513415062149611,0.20153868947086628,0.15088854587915873,0.11854678706522558,0.3848400704129832,0.47264138536000844,0.1965343030452512,0.1841834861898545,0.2811299974443508,0.10242368256349814,0.2645723268367321,0.15310837091491816,0.24609120187967315,0.23305247808071566,0.3252259333589005,0.1542053574624223,0.14737564554732466,0.21797471676874297,0.3035392476859054,0.19021562501947575,0.14282020680092042,0.20457564673790532,0.1638748578879442,0.24935374355583706,0.11156403777996048,0.1782785059512711,0.21367604424758657,0.2919232501644307,0.4935031803042728,0.1274821691099785,0.17949691622952096,0.22456550933596758,0.1709083930905707,0.13352224081053568,0.16462605016785076,0.3945754882067582,0.32343155561505676,0.4376005425950896,0.3656578890994575,0.19169018186999306,0.19868706491259508,0.19927984657689973,0.26499347338267887,0.1697294261844997,0.11625342593612428,0.24246529012598064,0.1379888454742251,0.19202620975569215,0.10115687801952464,0.21107542425608544,0.23199219609129407,0.1607278116475449,0.18232664376522617,0.19634017027193323,0.2668123118422166,0.20144488069302302,0.15361325962889572,0.17406013961303762,0.2211050275896894,0.18780606275610456,0.12332799306535358,0.1464763685124291,0.25034297595401167,0.2007587211102699,0.23601563874682427,0.21594860553317474,0.1712209627069506,0.15669199707046522,0.18586449354815374,0.13809664072555808,0.2080799257724626,0.14142204225462807,0.1319554777354655,0.11197388047785177,0.1655107834345035,0.1490926227991703,0.15071601713098545,0.12372463259395737,0.17108894249624107,0.13415174871544527,0.12401980575778969,0.1609301147211909,0.1430811505416677,0.10837717605693101,0.17919567762540506,0.1915355786705014,0.16545768648910453,0.12299358709409498,0.10002091712225394,0.19364864008368987,0.1499543691749711,0.17634191659142207,0.13329930984173938,0.19336950669317907,0.22772389196998039,0.16344757999493756,0.11770159363458793,0.18358410897196967]},{\"label\":\"min_samples_split\",\"range\":[0.10134234597954722,0.9943353365556016],\"values\":[0.6248259506965022,0.6995196984851044,0.2994430222926844,0.18326024222673606,0.5253312772863726,0.6253634792145164,0.19739585593498804,0.7073145972699928,0.8988582292219303,0.5963636017672228,0.39179197960294787,0.4220899042911658,0.8301655824127516,0.4639895278953445,0.5191851829208941,0.9943353365556016,0.7630712303661807,0.33139250093114986,0.5581521359766566,0.10134234597954722,0.690617152599525,0.22449368558706934,0.4756343274066038,0.20062175981791328,0.32486161040547223,0.1109627391959897,0.630581532866855,0.763862218763792,0.5313226500555978,0.37938782971804125,0.26776762408714905,0.5980832067444812,0.6974351885411292,0.6404926290738044,0.5607678658766334,0.7719522932887039,0.48045921724966156,0.5693033558216375,0.8585625383880199,0.4216939753371417,0.6622947844386147,0.597698516686775,0.5076479465868222,0.5882369557183238,0.5106251174494069,0.45653279555922965,0.5309210819870395,0.6090551786727707,0.720467921038683,0.6537975402868303,0.5617429219662394,0.3815938518535844,0.5034809090928071,0.6712796652940952,0.9696372958330353,0.42849402559550215,0.42510935553548235,0.43924438706926267,0.4847191471731696,0.5576956067506369,0.34874462573335163,0.28895394880016634,0.1534442891919772,0.621157656074999,0.7378192811988089,0.5241225508802012,0.5829525263388061,0.49815365678920737,0.5420505608735425,0.24815711378778987,0.14668811939248172,0.624250716035712,0.6164128247993468,0.67721309233527,0.6445099060786876,0.7970385159880169,0.5765839923264192,0.45132495177461807,0.4016466207598868,0.4604411984055686,0.5448965460540859,0.45113974224713205,0.46758790472102363,0.3521699711847837,0.5829135207435128,0.41379028183603206,0.4985223418129592,0.4485879477647037,0.48113195128302,0.518706642016114,0.5500839846215957,0.4337347330623367,0.39219437638356114,0.4509327177251993,0.5704939310133267,0.4916080856731809,0.5938121846301948,0.36974027877885435,0.5214349680137321,0.46455338890388254]},{\"label\":\"n_estimators\",\"range\":[4,150],\"values\":[111,58,133,135,85,32,86,36,83,102,4,108,111,148,60,117,68,94,125,43,73,141,127,96,119,137,150,87,106,126,54,99,102,116,82,72,80,89,63,131,90,77,51,50,15,29,78,66,45,26,57,85,76,113,71,141,142,92,106,122,38,143,131,83,96,137,146,110,136,62,82,76,68,99,52,122,77,75,73,75,57,76,64,79,69,86,74,20,48,89,81,12,25,36,60,6,21,77,92,66]}],\"labelangle\":30,\"labelside\":\"bottom\",\"line\":{\"color\":[0.9533333333333333,0.32666666666666666,0.43333333333333335,0.9533333333333333,0.96,0.9466666666666667,0.32666666666666666,0.32666666666666666,0.32,0.9533333333333333,0.7000000000000001,0.94,0.32666666666666666,0.9533333333333333,0.8266666666666667,0.32,0.32,0.9466666666666667,0.9466666666666667,0.9333333333333332,0.41333333333333333,0.9533333333333333,0.94,0.9466666666666667,0.9466666666666667,0.8266666666666667,0.86,0.32,0.9266666666666666,0.6866666666666665,0.32,0.86,0.66,0.8666666666666667,0.9666666666666667,0.32666666666666666,0.9533333333333333,0.32,0.3333333333333333,0.32,0.32,0.96,0.9666666666666667,0.9533333333333333,0.7599999999999999,0.94,0.8933333333333332,0.8733333333333334,0.32,0.8133333333333334,0.9466666666666667,0.9333333333333332,0.8866666666666667,0.7266666666666667,0.34,0.9666666666666667,0.7599999999999999,0.9466666666666667,0.94,0.9466666666666667,0.8733333333333334,0.9466666666666667,0.9466666666666667,0.9533333333333333,0.3333333333333333,0.9533333333333333,0.8933333333333334,0.9400000000000001,0.9533333333333333,0.9466666666666667,0.9533333333333333,0.96,0.94,0.7466666666666667,0.9266666666666666,0.32,0.96,0.9666666666666667,0.9533333333333333,0.96,0.9466666666666667,0.9466666666666667,0.9533333333333333,0.9466666666666667,0.9533333333333333,0.9533333333333333,0.94,0.96,0.9466666666666667,0.9533333333333333,0.9533333333333333,0.8466666666666667,0.9466666666666667,0.9333333333333332,0.94,0.7666666666666666,0.8466666666666667,0.9466666666666667,0.9533333333333333,0.9466666666666667],\"colorbar\":{\"title\":{\"text\":\"Objective Value\"}},\"colorscale\":[[0.0,\"rgb(247,251,255)\"],[0.125,\"rgb(222,235,247)\"],[0.25,\"rgb(198,219,239)\"],[0.375,\"rgb(158,202,225)\"],[0.5,\"rgb(107,174,214)\"],[0.625,\"rgb(66,146,198)\"],[0.75,\"rgb(33,113,181)\"],[0.875,\"rgb(8,81,156)\"],[1.0,\"rgb(8,48,107)\"]],\"reversescale\":false,\"showscale\":true},\"type\":\"parcoords\"}],                        {\"title\":{\"text\":\"Parallel Coordinate Plot\"},\"template\":{\"data\":{\"histogram2dcontour\":[{\"type\":\"histogram2dcontour\",\"colorbar\":{\"outlinewidth\":0,\"ticks\":\"\"},\"colorscale\":[[0.0,\"#0d0887\"],[0.1111111111111111,\"#46039f\"],[0.2222222222222222,\"#7201a8\"],[0.3333333333333333,\"#9c179e\"],[0.4444444444444444,\"#bd3786\"],[0.5555555555555556,\"#d8576b\"],[0.6666666666666666,\"#ed7953\"],[0.7777777777777778,\"#fb9f3a\"],[0.8888888888888888,\"#fdca26\"],[1.0,\"#f0f921\"]]}],\"choropleth\":[{\"type\":\"choropleth\",\"colorbar\":{\"outlinewidth\":0,\"ticks\":\"\"}}],\"histogram2d\":[{\"type\":\"histogram2d\",\"colorbar\":{\"outlinewidth\":0,\"ticks\":\"\"},\"colorscale\":[[0.0,\"#0d0887\"],[0.1111111111111111,\"#46039f\"],[0.2222222222222222,\"#7201a8\"],[0.3333333333333333,\"#9c179e\"],[0.4444444444444444,\"#bd3786\"],[0.5555555555555556,\"#d8576b\"],[0.6666666666666666,\"#ed7953\"],[0.7777777777777778,\"#fb9f3a\"],[0.8888888888888888,\"#fdca26\"],[1.0,\"#f0f921\"]]}],\"heatmap\":[{\"type\":\"heatmap\",\"colorbar\":{\"outlinewidth\":0,\"ticks\":\"\"},\"colorscale\":[[0.0,\"#0d0887\"],[0.1111111111111111,\"#46039f\"],[0.2222222222222222,\"#7201a8\"],[0.3333333333333333,\"#9c179e\"],[0.4444444444444444,\"#bd3786\"],[0.5555555555555556,\"#d8576b\"],[0.6666666666666666,\"#ed7953\"],[0.7777777777777778,\"#fb9f3a\"],[0.8888888888888888,\"#fdca26\"],[1.0,\"#f0f921\"]]}],\"heatmapgl\":[{\"type\":\"heatmapgl\",\"colorbar\":{\"outlinewidth\":0,\"ticks\":\"\"},\"colorscale\":[[0.0,\"#0d0887\"],[0.1111111111111111,\"#46039f\"],[0.2222222222222222,\"#7201a8\"],[0.3333333333333333,\"#9c179e\"],[0.4444444444444444,\"#bd3786\"],[0.5555555555555556,\"#d8576b\"],[0.6666666666666666,\"#ed7953\"],[0.7777777777777778,\"#fb9f3a\"],[0.8888888888888888,\"#fdca26\"],[1.0,\"#f0f921\"]]}],\"contourcarpet\":[{\"type\":\"contourcarpet\",\"colorbar\":{\"outlinewidth\":0,\"ticks\":\"\"}}],\"contour\":[{\"type\":\"contour\",\"colorbar\":{\"outlinewidth\":0,\"ticks\":\"\"},\"colorscale\":[[0.0,\"#0d0887\"],[0.1111111111111111,\"#46039f\"],[0.2222222222222222,\"#7201a8\"],[0.3333333333333333,\"#9c179e\"],[0.4444444444444444,\"#bd3786\"],[0.5555555555555556,\"#d8576b\"],[0.6666666666666666,\"#ed7953\"],[0.7777777777777778,\"#fb9f3a\"],[0.8888888888888888,\"#fdca26\"],[1.0,\"#f0f921\"]]}],\"surface\":[{\"type\":\"surface\",\"colorbar\":{\"outlinewidth\":0,\"ticks\":\"\"},\"colorscale\":[[0.0,\"#0d0887\"],[0.1111111111111111,\"#46039f\"],[0.2222222222222222,\"#7201a8\"],[0.3333333333333333,\"#9c179e\"],[0.4444444444444444,\"#bd3786\"],[0.5555555555555556,\"#d8576b\"],[0.6666666666666666,\"#ed7953\"],[0.7777777777777778,\"#fb9f3a\"],[0.8888888888888888,\"#fdca26\"],[1.0,\"#f0f921\"]]}],\"mesh3d\":[{\"type\":\"mesh3d\",\"colorbar\":{\"outlinewidth\":0,\"ticks\":\"\"}}],\"scatter\":[{\"fillpattern\":{\"fillmode\":\"overlay\",\"size\":10,\"solidity\":0.2},\"type\":\"scatter\"}],\"parcoords\":[{\"type\":\"parcoords\",\"line\":{\"colorbar\":{\"outlinewidth\":0,\"ticks\":\"\"}}}],\"scatterpolargl\":[{\"type\":\"scatterpolargl\",\"marker\":{\"colorbar\":{\"outlinewidth\":0,\"ticks\":\"\"}}}],\"bar\":[{\"error_x\":{\"color\":\"#2a3f5f\"},\"error_y\":{\"color\":\"#2a3f5f\"},\"marker\":{\"line\":{\"color\":\"#E5ECF6\",\"width\":0.5},\"pattern\":{\"fillmode\":\"overlay\",\"size\":10,\"solidity\":0.2}},\"type\":\"bar\"}],\"scattergeo\":[{\"type\":\"scattergeo\",\"marker\":{\"colorbar\":{\"outlinewidth\":0,\"ticks\":\"\"}}}],\"scatterpolar\":[{\"type\":\"scatterpolar\",\"marker\":{\"colorbar\":{\"outlinewidth\":0,\"ticks\":\"\"}}}],\"histogram\":[{\"marker\":{\"pattern\":{\"fillmode\":\"overlay\",\"size\":10,\"solidity\":0.2}},\"type\":\"histogram\"}],\"scattergl\":[{\"type\":\"scattergl\",\"marker\":{\"colorbar\":{\"outlinewidth\":0,\"ticks\":\"\"}}}],\"scatter3d\":[{\"type\":\"scatter3d\",\"line\":{\"colorbar\":{\"outlinewidth\":0,\"ticks\":\"\"}},\"marker\":{\"colorbar\":{\"outlinewidth\":0,\"ticks\":\"\"}}}],\"scattermapbox\":[{\"type\":\"scattermapbox\",\"marker\":{\"colorbar\":{\"outlinewidth\":0,\"ticks\":\"\"}}}],\"scatterternary\":[{\"type\":\"scatterternary\",\"marker\":{\"colorbar\":{\"outlinewidth\":0,\"ticks\":\"\"}}}],\"scattercarpet\":[{\"type\":\"scattercarpet\",\"marker\":{\"colorbar\":{\"outlinewidth\":0,\"ticks\":\"\"}}}],\"carpet\":[{\"aaxis\":{\"endlinecolor\":\"#2a3f5f\",\"gridcolor\":\"white\",\"linecolor\":\"white\",\"minorgridcolor\":\"white\",\"startlinecolor\":\"#2a3f5f\"},\"baxis\":{\"endlinecolor\":\"#2a3f5f\",\"gridcolor\":\"white\",\"linecolor\":\"white\",\"minorgridcolor\":\"white\",\"startlinecolor\":\"#2a3f5f\"},\"type\":\"carpet\"}],\"table\":[{\"cells\":{\"fill\":{\"color\":\"#EBF0F8\"},\"line\":{\"color\":\"white\"}},\"header\":{\"fill\":{\"color\":\"#C8D4E3\"},\"line\":{\"color\":\"white\"}},\"type\":\"table\"}],\"barpolar\":[{\"marker\":{\"line\":{\"color\":\"#E5ECF6\",\"width\":0.5},\"pattern\":{\"fillmode\":\"overlay\",\"size\":10,\"solidity\":0.2}},\"type\":\"barpolar\"}],\"pie\":[{\"automargin\":true,\"type\":\"pie\"}]},\"layout\":{\"autotypenumbers\":\"strict\",\"colorway\":[\"#636efa\",\"#EF553B\",\"#00cc96\",\"#ab63fa\",\"#FFA15A\",\"#19d3f3\",\"#FF6692\",\"#B6E880\",\"#FF97FF\",\"#FECB52\"],\"font\":{\"color\":\"#2a3f5f\"},\"hovermode\":\"closest\",\"hoverlabel\":{\"align\":\"left\"},\"paper_bgcolor\":\"white\",\"plot_bgcolor\":\"#E5ECF6\",\"polar\":{\"bgcolor\":\"#E5ECF6\",\"angularaxis\":{\"gridcolor\":\"white\",\"linecolor\":\"white\",\"ticks\":\"\"},\"radialaxis\":{\"gridcolor\":\"white\",\"linecolor\":\"white\",\"ticks\":\"\"}},\"ternary\":{\"bgcolor\":\"#E5ECF6\",\"aaxis\":{\"gridcolor\":\"white\",\"linecolor\":\"white\",\"ticks\":\"\"},\"baxis\":{\"gridcolor\":\"white\",\"linecolor\":\"white\",\"ticks\":\"\"},\"caxis\":{\"gridcolor\":\"white\",\"linecolor\":\"white\",\"ticks\":\"\"}},\"coloraxis\":{\"colorbar\":{\"outlinewidth\":0,\"ticks\":\"\"}},\"colorscale\":{\"sequential\":[[0.0,\"#0d0887\"],[0.1111111111111111,\"#46039f\"],[0.2222222222222222,\"#7201a8\"],[0.3333333333333333,\"#9c179e\"],[0.4444444444444444,\"#bd3786\"],[0.5555555555555556,\"#d8576b\"],[0.6666666666666666,\"#ed7953\"],[0.7777777777777778,\"#fb9f3a\"],[0.8888888888888888,\"#fdca26\"],[1.0,\"#f0f921\"]],\"sequentialminus\":[[0.0,\"#0d0887\"],[0.1111111111111111,\"#46039f\"],[0.2222222222222222,\"#7201a8\"],[0.3333333333333333,\"#9c179e\"],[0.4444444444444444,\"#bd3786\"],[0.5555555555555556,\"#d8576b\"],[0.6666666666666666,\"#ed7953\"],[0.7777777777777778,\"#fb9f3a\"],[0.8888888888888888,\"#fdca26\"],[1.0,\"#f0f921\"]],\"diverging\":[[0,\"#8e0152\"],[0.1,\"#c51b7d\"],[0.2,\"#de77ae\"],[0.3,\"#f1b6da\"],[0.4,\"#fde0ef\"],[0.5,\"#f7f7f7\"],[0.6,\"#e6f5d0\"],[0.7,\"#b8e186\"],[0.8,\"#7fbc41\"],[0.9,\"#4d9221\"],[1,\"#276419\"]]},\"xaxis\":{\"gridcolor\":\"white\",\"linecolor\":\"white\",\"ticks\":\"\",\"title\":{\"standoff\":15},\"zerolinecolor\":\"white\",\"automargin\":true,\"zerolinewidth\":2},\"yaxis\":{\"gridcolor\":\"white\",\"linecolor\":\"white\",\"ticks\":\"\",\"title\":{\"standoff\":15},\"zerolinecolor\":\"white\",\"automargin\":true,\"zerolinewidth\":2},\"scene\":{\"xaxis\":{\"backgroundcolor\":\"#E5ECF6\",\"gridcolor\":\"white\",\"linecolor\":\"white\",\"showbackground\":true,\"ticks\":\"\",\"zerolinecolor\":\"white\",\"gridwidth\":2},\"yaxis\":{\"backgroundcolor\":\"#E5ECF6\",\"gridcolor\":\"white\",\"linecolor\":\"white\",\"showbackground\":true,\"ticks\":\"\",\"zerolinecolor\":\"white\",\"gridwidth\":2},\"zaxis\":{\"backgroundcolor\":\"#E5ECF6\",\"gridcolor\":\"white\",\"linecolor\":\"white\",\"showbackground\":true,\"ticks\":\"\",\"zerolinecolor\":\"white\",\"gridwidth\":2}},\"shapedefaults\":{\"line\":{\"color\":\"#2a3f5f\"}},\"annotationdefaults\":{\"arrowcolor\":\"#2a3f5f\",\"arrowhead\":0,\"arrowwidth\":1},\"geo\":{\"bgcolor\":\"white\",\"landcolor\":\"#E5ECF6\",\"subunitcolor\":\"white\",\"showland\":true,\"showlakes\":true,\"lakecolor\":\"white\"},\"title\":{\"x\":0.05},\"mapbox\":{\"style\":\"light\"}}}},                        {\"responsive\": true}                    ).then(function(){\n",
              "                            \n",
              "var gd = document.getElementById('78c67f8e-ca1f-4472-97ae-4f84029fcc6d');\n",
              "var x = new MutationObserver(function (mutations, observer) {{\n",
              "        var display = window.getComputedStyle(gd).display;\n",
              "        if (!display || display === 'none') {{\n",
              "            console.log([gd, 'removed!']);\n",
              "            Plotly.purge(gd);\n",
              "            observer.disconnect();\n",
              "        }}\n",
              "}});\n",
              "\n",
              "// Listen for the removal of the full notebook cells\n",
              "var notebookContainer = gd.closest('#notebook-container');\n",
              "if (notebookContainer) {{\n",
              "    x.observe(notebookContainer, {childList: true});\n",
              "}}\n",
              "\n",
              "// Listen for the clearing of the current output cell\n",
              "var outputEl = gd.closest('.output');\n",
              "if (outputEl) {{\n",
              "    x.observe(outputEl, {childList: true});\n",
              "}}\n",
              "\n",
              "                        })                };                            </script>        </div>\n",
              "</body>\n",
              "</html>"
            ]
          },
          "metadata": {}
        }
      ]
    },
    {
      "cell_type": "markdown",
      "source": [
        "The first vertical line is the accuracy line. There are all together 100 lines. each line from first vertical line to the last is a **trial**\n",
        "\n",
        "You can observe that the 'sqrt' value of max_features is mostly used for many trials."
      ],
      "metadata": {
        "id": "Ud28ngLYOzHA"
      }
    },
    {
      "cell_type": "code",
      "execution_count": 18,
      "metadata": {
        "colab": {
          "base_uri": "https://localhost:8080/",
          "height": 562
        },
        "id": "helT9sgJHLht",
        "outputId": "01cd408e-cf99-43b4-cb7f-0001124f8e57"
      },
      "outputs": [
        {
          "output_type": "display_data",
          "data": {
            "text/html": [
              "<html>\n",
              "<head><meta charset=\"utf-8\" /></head>\n",
              "<body>\n",
              "    <div>            <script src=\"https://cdnjs.cloudflare.com/ajax/libs/mathjax/2.7.5/MathJax.js?config=TeX-AMS-MML_SVG\"></script><script type=\"text/javascript\">if (window.MathJax && window.MathJax.Hub && window.MathJax.Hub.Config) {window.MathJax.Hub.Config({SVG: {font: \"STIX-Web\"}});}</script>                <script type=\"text/javascript\">window.PlotlyConfig = {MathJaxConfig: 'local'};</script>\n",
              "        <script charset=\"utf-8\" src=\"https://cdn.plot.ly/plotly-2.35.2.min.js\"></script>                <div id=\"99b1d436-4288-45a5-9c78-4c04e4cc14ec\" class=\"plotly-graph-div\" style=\"height:525px; width:1500px;\"></div>            <script type=\"text/javascript\">                                    window.PLOTLYENV=window.PLOTLYENV || {};                                    if (document.getElementById(\"99b1d436-4288-45a5-9c78-4c04e4cc14ec\")) {                    Plotly.newPlot(                        \"99b1d436-4288-45a5-9c78-4c04e4cc14ec\",                        [{\"marker\":{\"color\":[0,1,2,3,4,5,6,7,8,9,10,11,12,13,14,15,16,17,18,19,20,21,22,23,24,25,26,27,28,29,30,31,32,33,34,35,36,37,38,39,40,41,42,43,44,45,46,47,48,49,50,51,52,53,54,55,56,57,58,59,60,61,62,63,64,65,66,67,68,69,70,71,72,73,74,75,76,77,78,79,80,81,82,83,84,85,86,87,88,89,90,91,92,93,94,95,96,97,98,99],\"colorbar\":{\"title\":{\"text\":\"Trial\"},\"x\":1.0,\"xpad\":40},\"colorscale\":[[0.0,\"rgb(247,251,255)\"],[0.125,\"rgb(222,235,247)\"],[0.25,\"rgb(198,219,239)\"],[0.375,\"rgb(158,202,225)\"],[0.5,\"rgb(107,174,214)\"],[0.625,\"rgb(66,146,198)\"],[0.75,\"rgb(33,113,181)\"],[0.875,\"rgb(8,81,156)\"],[1.0,\"rgb(8,48,107)\"]],\"line\":{\"color\":\"Grey\",\"width\":0.5},\"showscale\":true},\"mode\":\"markers\",\"name\":\"Feasible Trial\",\"showlegend\":false,\"x\":[27,11,13,1,9,18,11,3,31,1,4,6,31,6,19,2,7,20,2,10,24,1,2,3,8,4,14,1,5,9,14,1,3,2,1,12,25,15,5,3,11,1,1,1,25,2,32,17,7,21,4,1,1,6,17,2,2,27,5,3,9,1,7,1,2,22,10,29,1,12,8,1,1,6,1,16,13,19,13,19,15,22,18,13,19,20,11,15,12,24,18,14,15,10,16,23,28,19,9,16],\"y\":[0.9533333333333333,0.32666666666666666,0.43333333333333335,0.9533333333333333,0.96,0.9466666666666667,0.32666666666666666,0.32666666666666666,0.32,0.9533333333333333,0.7000000000000001,0.94,0.32666666666666666,0.9533333333333333,0.8266666666666667,0.32,0.32,0.9466666666666667,0.9466666666666667,0.9333333333333332,0.41333333333333333,0.9533333333333333,0.94,0.9466666666666667,0.9466666666666667,0.8266666666666667,0.86,0.32,0.9266666666666666,0.6866666666666665,0.32,0.86,0.66,0.8666666666666667,0.9666666666666667,0.32666666666666666,0.9533333333333333,0.32,0.3333333333333333,0.32,0.32,0.96,0.9666666666666667,0.9533333333333333,0.7599999999999999,0.94,0.8933333333333332,0.8733333333333334,0.32,0.8133333333333334,0.9466666666666667,0.9333333333333332,0.8866666666666667,0.7266666666666667,0.34,0.9666666666666667,0.7599999999999999,0.9466666666666667,0.94,0.9466666666666667,0.8733333333333334,0.9466666666666667,0.9466666666666667,0.9533333333333333,0.3333333333333333,0.9533333333333333,0.8933333333333334,0.9400000000000001,0.9533333333333333,0.9466666666666667,0.9533333333333333,0.96,0.94,0.7466666666666667,0.9266666666666666,0.32,0.96,0.9666666666666667,0.9533333333333333,0.96,0.9466666666666667,0.9466666666666667,0.9533333333333333,0.9466666666666667,0.9533333333333333,0.9533333333333333,0.94,0.96,0.9466666666666667,0.9533333333333333,0.9533333333333333,0.8466666666666667,0.9466666666666667,0.9333333333333332,0.94,0.7666666666666666,0.8466666666666667,0.9466666666666667,0.9533333333333333,0.9466666666666667],\"type\":\"scatter\",\"xaxis\":\"x\",\"yaxis\":\"y\"},{\"marker\":{\"color\":[0,1,2,3,4,5,6,7,8,9,10,11,12,13,14,15,16,17,18,19,20,21,22,23,24,25,26,27,28,29,30,31,32,33,34,35,36,37,38,39,40,41,42,43,44,45,46,47,48,49,50,51,52,53,54,55,56,57,58,59,60,61,62,63,64,65,66,67,68,69,70,71,72,73,74,75,76,77,78,79,80,81,82,83,84,85,86,87,88,89,90,91,92,93,94,95,96,97,98,99],\"colorbar\":{\"title\":{\"text\":\"Trial\"},\"x\":1.0,\"xpad\":40},\"colorscale\":[[0.0,\"rgb(247,251,255)\"],[0.125,\"rgb(222,235,247)\"],[0.25,\"rgb(198,219,239)\"],[0.375,\"rgb(158,202,225)\"],[0.5,\"rgb(107,174,214)\"],[0.625,\"rgb(66,146,198)\"],[0.75,\"rgb(33,113,181)\"],[0.875,\"rgb(8,81,156)\"],[1.0,\"rgb(8,48,107)\"]],\"line\":{\"color\":\"Grey\",\"width\":0.5},\"showscale\":false},\"mode\":\"markers\",\"name\":\"Feasible Trial\",\"showlegend\":false,\"x\":[\"log2\",\"sqrt\",\"log2\",\"log2\",\"sqrt\",\"log2\",\"log2\",\"sqrt\",\"sqrt\",\"sqrt\",\"sqrt\",\"log2\",\"log2\",\"sqrt\",\"sqrt\",\"log2\",\"sqrt\",\"log2\",\"log2\",\"sqrt\",\"sqrt\",\"log2\",\"log2\",\"log2\",\"log2\",\"log2\",\"log2\",\"log2\",\"sqrt\",\"sqrt\",\"log2\",\"sqrt\",\"sqrt\",\"sqrt\",\"sqrt\",\"sqrt\",\"log2\",\"sqrt\",\"log2\",\"sqrt\",\"sqrt\",\"sqrt\",\"sqrt\",\"sqrt\",\"sqrt\",\"sqrt\",\"sqrt\",\"sqrt\",\"sqrt\",\"sqrt\",\"sqrt\",\"sqrt\",\"log2\",\"sqrt\",\"log2\",\"sqrt\",\"sqrt\",\"sqrt\",\"sqrt\",\"sqrt\",\"sqrt\",\"log2\",\"log2\",\"sqrt\",\"log2\",\"sqrt\",\"log2\",\"sqrt\",\"sqrt\",\"log2\",\"sqrt\",\"sqrt\",\"sqrt\",\"sqrt\",\"sqrt\",\"sqrt\",\"log2\",\"sqrt\",\"sqrt\",\"sqrt\",\"sqrt\",\"sqrt\",\"sqrt\",\"sqrt\",\"sqrt\",\"sqrt\",\"sqrt\",\"sqrt\",\"sqrt\",\"sqrt\",\"sqrt\",\"sqrt\",\"sqrt\",\"sqrt\",\"sqrt\",\"sqrt\",\"sqrt\",\"sqrt\",\"sqrt\",\"sqrt\"],\"y\":[0.9533333333333333,0.32666666666666666,0.43333333333333335,0.9533333333333333,0.96,0.9466666666666667,0.32666666666666666,0.32666666666666666,0.32,0.9533333333333333,0.7000000000000001,0.94,0.32666666666666666,0.9533333333333333,0.8266666666666667,0.32,0.32,0.9466666666666667,0.9466666666666667,0.9333333333333332,0.41333333333333333,0.9533333333333333,0.94,0.9466666666666667,0.9466666666666667,0.8266666666666667,0.86,0.32,0.9266666666666666,0.6866666666666665,0.32,0.86,0.66,0.8666666666666667,0.9666666666666667,0.32666666666666666,0.9533333333333333,0.32,0.3333333333333333,0.32,0.32,0.96,0.9666666666666667,0.9533333333333333,0.7599999999999999,0.94,0.8933333333333332,0.8733333333333334,0.32,0.8133333333333334,0.9466666666666667,0.9333333333333332,0.8866666666666667,0.7266666666666667,0.34,0.9666666666666667,0.7599999999999999,0.9466666666666667,0.94,0.9466666666666667,0.8733333333333334,0.9466666666666667,0.9466666666666667,0.9533333333333333,0.3333333333333333,0.9533333333333333,0.8933333333333334,0.9400000000000001,0.9533333333333333,0.9466666666666667,0.9533333333333333,0.96,0.94,0.7466666666666667,0.9266666666666666,0.32,0.96,0.9666666666666667,0.9533333333333333,0.96,0.9466666666666667,0.9466666666666667,0.9533333333333333,0.9466666666666667,0.9533333333333333,0.9533333333333333,0.94,0.96,0.9466666666666667,0.9533333333333333,0.9533333333333333,0.8466666666666667,0.9466666666666667,0.9333333333333332,0.94,0.7666666666666666,0.8466666666666667,0.9466666666666667,0.9533333333333333,0.9466666666666667],\"type\":\"scatter\",\"xaxis\":\"x2\",\"yaxis\":\"y2\"},{\"marker\":{\"color\":[0,1,2,3,4,5,6,7,8,9,10,11,12,13,14,15,16,17,18,19,20,21,22,23,24,25,26,27,28,29,30,31,32,33,34,35,36,37,38,39,40,41,42,43,44,45,46,47,48,49,50,51,52,53,54,55,56,57,58,59,60,61,62,63,64,65,66,67,68,69,70,71,72,73,74,75,76,77,78,79,80,81,82,83,84,85,86,87,88,89,90,91,92,93,94,95,96,97,98,99],\"colorbar\":{\"title\":{\"text\":\"Trial\"},\"x\":1.0,\"xpad\":40},\"colorscale\":[[0.0,\"rgb(247,251,255)\"],[0.125,\"rgb(222,235,247)\"],[0.25,\"rgb(198,219,239)\"],[0.375,\"rgb(158,202,225)\"],[0.5,\"rgb(107,174,214)\"],[0.625,\"rgb(66,146,198)\"],[0.75,\"rgb(33,113,181)\"],[0.875,\"rgb(8,81,156)\"],[1.0,\"rgb(8,48,107)\"]],\"line\":{\"color\":\"Grey\",\"width\":0.5},\"showscale\":false},\"mode\":\"markers\",\"name\":\"Feasible Trial\",\"showlegend\":false,\"x\":[0.18793765813160546,0.4057721142073504,0.3513415062149611,0.20153868947086628,0.15088854587915873,0.11854678706522558,0.3848400704129832,0.47264138536000844,0.1965343030452512,0.1841834861898545,0.2811299974443508,0.10242368256349814,0.2645723268367321,0.15310837091491816,0.24609120187967315,0.23305247808071566,0.3252259333589005,0.1542053574624223,0.14737564554732466,0.21797471676874297,0.3035392476859054,0.19021562501947575,0.14282020680092042,0.20457564673790532,0.1638748578879442,0.24935374355583706,0.11156403777996048,0.1782785059512711,0.21367604424758657,0.2919232501644307,0.4935031803042728,0.1274821691099785,0.17949691622952096,0.22456550933596758,0.1709083930905707,0.13352224081053568,0.16462605016785076,0.3945754882067582,0.32343155561505676,0.4376005425950896,0.3656578890994575,0.19169018186999306,0.19868706491259508,0.19927984657689973,0.26499347338267887,0.1697294261844997,0.11625342593612428,0.24246529012598064,0.1379888454742251,0.19202620975569215,0.10115687801952464,0.21107542425608544,0.23199219609129407,0.1607278116475449,0.18232664376522617,0.19634017027193323,0.2668123118422166,0.20144488069302302,0.15361325962889572,0.17406013961303762,0.2211050275896894,0.18780606275610456,0.12332799306535358,0.1464763685124291,0.25034297595401167,0.2007587211102699,0.23601563874682427,0.21594860553317474,0.1712209627069506,0.15669199707046522,0.18586449354815374,0.13809664072555808,0.2080799257724626,0.14142204225462807,0.1319554777354655,0.11197388047785177,0.1655107834345035,0.1490926227991703,0.15071601713098545,0.12372463259395737,0.17108894249624107,0.13415174871544527,0.12401980575778969,0.1609301147211909,0.1430811505416677,0.10837717605693101,0.17919567762540506,0.1915355786705014,0.16545768648910453,0.12299358709409498,0.10002091712225394,0.19364864008368987,0.1499543691749711,0.17634191659142207,0.13329930984173938,0.19336950669317907,0.22772389196998039,0.16344757999493756,0.11770159363458793,0.18358410897196967],\"y\":[0.9533333333333333,0.32666666666666666,0.43333333333333335,0.9533333333333333,0.96,0.9466666666666667,0.32666666666666666,0.32666666666666666,0.32,0.9533333333333333,0.7000000000000001,0.94,0.32666666666666666,0.9533333333333333,0.8266666666666667,0.32,0.32,0.9466666666666667,0.9466666666666667,0.9333333333333332,0.41333333333333333,0.9533333333333333,0.94,0.9466666666666667,0.9466666666666667,0.8266666666666667,0.86,0.32,0.9266666666666666,0.6866666666666665,0.32,0.86,0.66,0.8666666666666667,0.9666666666666667,0.32666666666666666,0.9533333333333333,0.32,0.3333333333333333,0.32,0.32,0.96,0.9666666666666667,0.9533333333333333,0.7599999999999999,0.94,0.8933333333333332,0.8733333333333334,0.32,0.8133333333333334,0.9466666666666667,0.9333333333333332,0.8866666666666667,0.7266666666666667,0.34,0.9666666666666667,0.7599999999999999,0.9466666666666667,0.94,0.9466666666666667,0.8733333333333334,0.9466666666666667,0.9466666666666667,0.9533333333333333,0.3333333333333333,0.9533333333333333,0.8933333333333334,0.9400000000000001,0.9533333333333333,0.9466666666666667,0.9533333333333333,0.96,0.94,0.7466666666666667,0.9266666666666666,0.32,0.96,0.9666666666666667,0.9533333333333333,0.96,0.9466666666666667,0.9466666666666667,0.9533333333333333,0.9466666666666667,0.9533333333333333,0.9533333333333333,0.94,0.96,0.9466666666666667,0.9533333333333333,0.9533333333333333,0.8466666666666667,0.9466666666666667,0.9333333333333332,0.94,0.7666666666666666,0.8466666666666667,0.9466666666666667,0.9533333333333333,0.9466666666666667],\"type\":\"scatter\",\"xaxis\":\"x3\",\"yaxis\":\"y3\"},{\"marker\":{\"color\":[0,1,2,3,4,5,6,7,8,9,10,11,12,13,14,15,16,17,18,19,20,21,22,23,24,25,26,27,28,29,30,31,32,33,34,35,36,37,38,39,40,41,42,43,44,45,46,47,48,49,50,51,52,53,54,55,56,57,58,59,60,61,62,63,64,65,66,67,68,69,70,71,72,73,74,75,76,77,78,79,80,81,82,83,84,85,86,87,88,89,90,91,92,93,94,95,96,97,98,99],\"colorbar\":{\"title\":{\"text\":\"Trial\"},\"x\":1.0,\"xpad\":40},\"colorscale\":[[0.0,\"rgb(247,251,255)\"],[0.125,\"rgb(222,235,247)\"],[0.25,\"rgb(198,219,239)\"],[0.375,\"rgb(158,202,225)\"],[0.5,\"rgb(107,174,214)\"],[0.625,\"rgb(66,146,198)\"],[0.75,\"rgb(33,113,181)\"],[0.875,\"rgb(8,81,156)\"],[1.0,\"rgb(8,48,107)\"]],\"line\":{\"color\":\"Grey\",\"width\":0.5},\"showscale\":false},\"mode\":\"markers\",\"name\":\"Feasible Trial\",\"showlegend\":false,\"x\":[0.6248259506965022,0.6995196984851044,0.2994430222926844,0.18326024222673606,0.5253312772863726,0.6253634792145164,0.19739585593498804,0.7073145972699928,0.8988582292219303,0.5963636017672228,0.39179197960294787,0.4220899042911658,0.8301655824127516,0.4639895278953445,0.5191851829208941,0.9943353365556016,0.7630712303661807,0.33139250093114986,0.5581521359766566,0.10134234597954722,0.690617152599525,0.22449368558706934,0.4756343274066038,0.20062175981791328,0.32486161040547223,0.1109627391959897,0.630581532866855,0.763862218763792,0.5313226500555978,0.37938782971804125,0.26776762408714905,0.5980832067444812,0.6974351885411292,0.6404926290738044,0.5607678658766334,0.7719522932887039,0.48045921724966156,0.5693033558216375,0.8585625383880199,0.4216939753371417,0.6622947844386147,0.597698516686775,0.5076479465868222,0.5882369557183238,0.5106251174494069,0.45653279555922965,0.5309210819870395,0.6090551786727707,0.720467921038683,0.6537975402868303,0.5617429219662394,0.3815938518535844,0.5034809090928071,0.6712796652940952,0.9696372958330353,0.42849402559550215,0.42510935553548235,0.43924438706926267,0.4847191471731696,0.5576956067506369,0.34874462573335163,0.28895394880016634,0.1534442891919772,0.621157656074999,0.7378192811988089,0.5241225508802012,0.5829525263388061,0.49815365678920737,0.5420505608735425,0.24815711378778987,0.14668811939248172,0.624250716035712,0.6164128247993468,0.67721309233527,0.6445099060786876,0.7970385159880169,0.5765839923264192,0.45132495177461807,0.4016466207598868,0.4604411984055686,0.5448965460540859,0.45113974224713205,0.46758790472102363,0.3521699711847837,0.5829135207435128,0.41379028183603206,0.4985223418129592,0.4485879477647037,0.48113195128302,0.518706642016114,0.5500839846215957,0.4337347330623367,0.39219437638356114,0.4509327177251993,0.5704939310133267,0.4916080856731809,0.5938121846301948,0.36974027877885435,0.5214349680137321,0.46455338890388254],\"y\":[0.9533333333333333,0.32666666666666666,0.43333333333333335,0.9533333333333333,0.96,0.9466666666666667,0.32666666666666666,0.32666666666666666,0.32,0.9533333333333333,0.7000000000000001,0.94,0.32666666666666666,0.9533333333333333,0.8266666666666667,0.32,0.32,0.9466666666666667,0.9466666666666667,0.9333333333333332,0.41333333333333333,0.9533333333333333,0.94,0.9466666666666667,0.9466666666666667,0.8266666666666667,0.86,0.32,0.9266666666666666,0.6866666666666665,0.32,0.86,0.66,0.8666666666666667,0.9666666666666667,0.32666666666666666,0.9533333333333333,0.32,0.3333333333333333,0.32,0.32,0.96,0.9666666666666667,0.9533333333333333,0.7599999999999999,0.94,0.8933333333333332,0.8733333333333334,0.32,0.8133333333333334,0.9466666666666667,0.9333333333333332,0.8866666666666667,0.7266666666666667,0.34,0.9666666666666667,0.7599999999999999,0.9466666666666667,0.94,0.9466666666666667,0.8733333333333334,0.9466666666666667,0.9466666666666667,0.9533333333333333,0.3333333333333333,0.9533333333333333,0.8933333333333334,0.9400000000000001,0.9533333333333333,0.9466666666666667,0.9533333333333333,0.96,0.94,0.7466666666666667,0.9266666666666666,0.32,0.96,0.9666666666666667,0.9533333333333333,0.96,0.9466666666666667,0.9466666666666667,0.9533333333333333,0.9466666666666667,0.9533333333333333,0.9533333333333333,0.94,0.96,0.9466666666666667,0.9533333333333333,0.9533333333333333,0.8466666666666667,0.9466666666666667,0.9333333333333332,0.94,0.7666666666666666,0.8466666666666667,0.9466666666666667,0.9533333333333333,0.9466666666666667],\"type\":\"scatter\",\"xaxis\":\"x4\",\"yaxis\":\"y4\"},{\"marker\":{\"color\":[0,1,2,3,4,5,6,7,8,9,10,11,12,13,14,15,16,17,18,19,20,21,22,23,24,25,26,27,28,29,30,31,32,33,34,35,36,37,38,39,40,41,42,43,44,45,46,47,48,49,50,51,52,53,54,55,56,57,58,59,60,61,62,63,64,65,66,67,68,69,70,71,72,73,74,75,76,77,78,79,80,81,82,83,84,85,86,87,88,89,90,91,92,93,94,95,96,97,98,99],\"colorbar\":{\"title\":{\"text\":\"Trial\"},\"x\":1.0,\"xpad\":40},\"colorscale\":[[0.0,\"rgb(247,251,255)\"],[0.125,\"rgb(222,235,247)\"],[0.25,\"rgb(198,219,239)\"],[0.375,\"rgb(158,202,225)\"],[0.5,\"rgb(107,174,214)\"],[0.625,\"rgb(66,146,198)\"],[0.75,\"rgb(33,113,181)\"],[0.875,\"rgb(8,81,156)\"],[1.0,\"rgb(8,48,107)\"]],\"line\":{\"color\":\"Grey\",\"width\":0.5},\"showscale\":false},\"mode\":\"markers\",\"name\":\"Feasible Trial\",\"showlegend\":false,\"x\":[111,58,133,135,85,32,86,36,83,102,4,108,111,148,60,117,68,94,125,43,73,141,127,96,119,137,150,87,106,126,54,99,102,116,82,72,80,89,63,131,90,77,51,50,15,29,78,66,45,26,57,85,76,113,71,141,142,92,106,122,38,143,131,83,96,137,146,110,136,62,82,76,68,99,52,122,77,75,73,75,57,76,64,79,69,86,74,20,48,89,81,12,25,36,60,6,21,77,92,66],\"y\":[0.9533333333333333,0.32666666666666666,0.43333333333333335,0.9533333333333333,0.96,0.9466666666666667,0.32666666666666666,0.32666666666666666,0.32,0.9533333333333333,0.7000000000000001,0.94,0.32666666666666666,0.9533333333333333,0.8266666666666667,0.32,0.32,0.9466666666666667,0.9466666666666667,0.9333333333333332,0.41333333333333333,0.9533333333333333,0.94,0.9466666666666667,0.9466666666666667,0.8266666666666667,0.86,0.32,0.9266666666666666,0.6866666666666665,0.32,0.86,0.66,0.8666666666666667,0.9666666666666667,0.32666666666666666,0.9533333333333333,0.32,0.3333333333333333,0.32,0.32,0.96,0.9666666666666667,0.9533333333333333,0.7599999999999999,0.94,0.8933333333333332,0.8733333333333334,0.32,0.8133333333333334,0.9466666666666667,0.9333333333333332,0.8866666666666667,0.7266666666666667,0.34,0.9666666666666667,0.7599999999999999,0.9466666666666667,0.94,0.9466666666666667,0.8733333333333334,0.9466666666666667,0.9466666666666667,0.9533333333333333,0.3333333333333333,0.9533333333333333,0.8933333333333334,0.9400000000000001,0.9533333333333333,0.9466666666666667,0.9533333333333333,0.96,0.94,0.7466666666666667,0.9266666666666666,0.32,0.96,0.9666666666666667,0.9533333333333333,0.96,0.9466666666666667,0.9466666666666667,0.9533333333333333,0.9466666666666667,0.9533333333333333,0.9533333333333333,0.94,0.96,0.9466666666666667,0.9533333333333333,0.9533333333333333,0.8466666666666667,0.9466666666666667,0.9333333333333332,0.94,0.7666666666666666,0.8466666666666667,0.9466666666666667,0.9533333333333333,0.9466666666666667],\"type\":\"scatter\",\"xaxis\":\"x5\",\"yaxis\":\"y5\"}],                        {\"template\":{\"data\":{\"histogram2dcontour\":[{\"type\":\"histogram2dcontour\",\"colorbar\":{\"outlinewidth\":0,\"ticks\":\"\"},\"colorscale\":[[0.0,\"#0d0887\"],[0.1111111111111111,\"#46039f\"],[0.2222222222222222,\"#7201a8\"],[0.3333333333333333,\"#9c179e\"],[0.4444444444444444,\"#bd3786\"],[0.5555555555555556,\"#d8576b\"],[0.6666666666666666,\"#ed7953\"],[0.7777777777777778,\"#fb9f3a\"],[0.8888888888888888,\"#fdca26\"],[1.0,\"#f0f921\"]]}],\"choropleth\":[{\"type\":\"choropleth\",\"colorbar\":{\"outlinewidth\":0,\"ticks\":\"\"}}],\"histogram2d\":[{\"type\":\"histogram2d\",\"colorbar\":{\"outlinewidth\":0,\"ticks\":\"\"},\"colorscale\":[[0.0,\"#0d0887\"],[0.1111111111111111,\"#46039f\"],[0.2222222222222222,\"#7201a8\"],[0.3333333333333333,\"#9c179e\"],[0.4444444444444444,\"#bd3786\"],[0.5555555555555556,\"#d8576b\"],[0.6666666666666666,\"#ed7953\"],[0.7777777777777778,\"#fb9f3a\"],[0.8888888888888888,\"#fdca26\"],[1.0,\"#f0f921\"]]}],\"heatmap\":[{\"type\":\"heatmap\",\"colorbar\":{\"outlinewidth\":0,\"ticks\":\"\"},\"colorscale\":[[0.0,\"#0d0887\"],[0.1111111111111111,\"#46039f\"],[0.2222222222222222,\"#7201a8\"],[0.3333333333333333,\"#9c179e\"],[0.4444444444444444,\"#bd3786\"],[0.5555555555555556,\"#d8576b\"],[0.6666666666666666,\"#ed7953\"],[0.7777777777777778,\"#fb9f3a\"],[0.8888888888888888,\"#fdca26\"],[1.0,\"#f0f921\"]]}],\"heatmapgl\":[{\"type\":\"heatmapgl\",\"colorbar\":{\"outlinewidth\":0,\"ticks\":\"\"},\"colorscale\":[[0.0,\"#0d0887\"],[0.1111111111111111,\"#46039f\"],[0.2222222222222222,\"#7201a8\"],[0.3333333333333333,\"#9c179e\"],[0.4444444444444444,\"#bd3786\"],[0.5555555555555556,\"#d8576b\"],[0.6666666666666666,\"#ed7953\"],[0.7777777777777778,\"#fb9f3a\"],[0.8888888888888888,\"#fdca26\"],[1.0,\"#f0f921\"]]}],\"contourcarpet\":[{\"type\":\"contourcarpet\",\"colorbar\":{\"outlinewidth\":0,\"ticks\":\"\"}}],\"contour\":[{\"type\":\"contour\",\"colorbar\":{\"outlinewidth\":0,\"ticks\":\"\"},\"colorscale\":[[0.0,\"#0d0887\"],[0.1111111111111111,\"#46039f\"],[0.2222222222222222,\"#7201a8\"],[0.3333333333333333,\"#9c179e\"],[0.4444444444444444,\"#bd3786\"],[0.5555555555555556,\"#d8576b\"],[0.6666666666666666,\"#ed7953\"],[0.7777777777777778,\"#fb9f3a\"],[0.8888888888888888,\"#fdca26\"],[1.0,\"#f0f921\"]]}],\"surface\":[{\"type\":\"surface\",\"colorbar\":{\"outlinewidth\":0,\"ticks\":\"\"},\"colorscale\":[[0.0,\"#0d0887\"],[0.1111111111111111,\"#46039f\"],[0.2222222222222222,\"#7201a8\"],[0.3333333333333333,\"#9c179e\"],[0.4444444444444444,\"#bd3786\"],[0.5555555555555556,\"#d8576b\"],[0.6666666666666666,\"#ed7953\"],[0.7777777777777778,\"#fb9f3a\"],[0.8888888888888888,\"#fdca26\"],[1.0,\"#f0f921\"]]}],\"mesh3d\":[{\"type\":\"mesh3d\",\"colorbar\":{\"outlinewidth\":0,\"ticks\":\"\"}}],\"scatter\":[{\"fillpattern\":{\"fillmode\":\"overlay\",\"size\":10,\"solidity\":0.2},\"type\":\"scatter\"}],\"parcoords\":[{\"type\":\"parcoords\",\"line\":{\"colorbar\":{\"outlinewidth\":0,\"ticks\":\"\"}}}],\"scatterpolargl\":[{\"type\":\"scatterpolargl\",\"marker\":{\"colorbar\":{\"outlinewidth\":0,\"ticks\":\"\"}}}],\"bar\":[{\"error_x\":{\"color\":\"#2a3f5f\"},\"error_y\":{\"color\":\"#2a3f5f\"},\"marker\":{\"line\":{\"color\":\"#E5ECF6\",\"width\":0.5},\"pattern\":{\"fillmode\":\"overlay\",\"size\":10,\"solidity\":0.2}},\"type\":\"bar\"}],\"scattergeo\":[{\"type\":\"scattergeo\",\"marker\":{\"colorbar\":{\"outlinewidth\":0,\"ticks\":\"\"}}}],\"scatterpolar\":[{\"type\":\"scatterpolar\",\"marker\":{\"colorbar\":{\"outlinewidth\":0,\"ticks\":\"\"}}}],\"histogram\":[{\"marker\":{\"pattern\":{\"fillmode\":\"overlay\",\"size\":10,\"solidity\":0.2}},\"type\":\"histogram\"}],\"scattergl\":[{\"type\":\"scattergl\",\"marker\":{\"colorbar\":{\"outlinewidth\":0,\"ticks\":\"\"}}}],\"scatter3d\":[{\"type\":\"scatter3d\",\"line\":{\"colorbar\":{\"outlinewidth\":0,\"ticks\":\"\"}},\"marker\":{\"colorbar\":{\"outlinewidth\":0,\"ticks\":\"\"}}}],\"scattermapbox\":[{\"type\":\"scattermapbox\",\"marker\":{\"colorbar\":{\"outlinewidth\":0,\"ticks\":\"\"}}}],\"scatterternary\":[{\"type\":\"scatterternary\",\"marker\":{\"colorbar\":{\"outlinewidth\":0,\"ticks\":\"\"}}}],\"scattercarpet\":[{\"type\":\"scattercarpet\",\"marker\":{\"colorbar\":{\"outlinewidth\":0,\"ticks\":\"\"}}}],\"carpet\":[{\"aaxis\":{\"endlinecolor\":\"#2a3f5f\",\"gridcolor\":\"white\",\"linecolor\":\"white\",\"minorgridcolor\":\"white\",\"startlinecolor\":\"#2a3f5f\"},\"baxis\":{\"endlinecolor\":\"#2a3f5f\",\"gridcolor\":\"white\",\"linecolor\":\"white\",\"minorgridcolor\":\"white\",\"startlinecolor\":\"#2a3f5f\"},\"type\":\"carpet\"}],\"table\":[{\"cells\":{\"fill\":{\"color\":\"#EBF0F8\"},\"line\":{\"color\":\"white\"}},\"header\":{\"fill\":{\"color\":\"#C8D4E3\"},\"line\":{\"color\":\"white\"}},\"type\":\"table\"}],\"barpolar\":[{\"marker\":{\"line\":{\"color\":\"#E5ECF6\",\"width\":0.5},\"pattern\":{\"fillmode\":\"overlay\",\"size\":10,\"solidity\":0.2}},\"type\":\"barpolar\"}],\"pie\":[{\"automargin\":true,\"type\":\"pie\"}]},\"layout\":{\"autotypenumbers\":\"strict\",\"colorway\":[\"#636efa\",\"#EF553B\",\"#00cc96\",\"#ab63fa\",\"#FFA15A\",\"#19d3f3\",\"#FF6692\",\"#B6E880\",\"#FF97FF\",\"#FECB52\"],\"font\":{\"color\":\"#2a3f5f\"},\"hovermode\":\"closest\",\"hoverlabel\":{\"align\":\"left\"},\"paper_bgcolor\":\"white\",\"plot_bgcolor\":\"#E5ECF6\",\"polar\":{\"bgcolor\":\"#E5ECF6\",\"angularaxis\":{\"gridcolor\":\"white\",\"linecolor\":\"white\",\"ticks\":\"\"},\"radialaxis\":{\"gridcolor\":\"white\",\"linecolor\":\"white\",\"ticks\":\"\"}},\"ternary\":{\"bgcolor\":\"#E5ECF6\",\"aaxis\":{\"gridcolor\":\"white\",\"linecolor\":\"white\",\"ticks\":\"\"},\"baxis\":{\"gridcolor\":\"white\",\"linecolor\":\"white\",\"ticks\":\"\"},\"caxis\":{\"gridcolor\":\"white\",\"linecolor\":\"white\",\"ticks\":\"\"}},\"coloraxis\":{\"colorbar\":{\"outlinewidth\":0,\"ticks\":\"\"}},\"colorscale\":{\"sequential\":[[0.0,\"#0d0887\"],[0.1111111111111111,\"#46039f\"],[0.2222222222222222,\"#7201a8\"],[0.3333333333333333,\"#9c179e\"],[0.4444444444444444,\"#bd3786\"],[0.5555555555555556,\"#d8576b\"],[0.6666666666666666,\"#ed7953\"],[0.7777777777777778,\"#fb9f3a\"],[0.8888888888888888,\"#fdca26\"],[1.0,\"#f0f921\"]],\"sequentialminus\":[[0.0,\"#0d0887\"],[0.1111111111111111,\"#46039f\"],[0.2222222222222222,\"#7201a8\"],[0.3333333333333333,\"#9c179e\"],[0.4444444444444444,\"#bd3786\"],[0.5555555555555556,\"#d8576b\"],[0.6666666666666666,\"#ed7953\"],[0.7777777777777778,\"#fb9f3a\"],[0.8888888888888888,\"#fdca26\"],[1.0,\"#f0f921\"]],\"diverging\":[[0,\"#8e0152\"],[0.1,\"#c51b7d\"],[0.2,\"#de77ae\"],[0.3,\"#f1b6da\"],[0.4,\"#fde0ef\"],[0.5,\"#f7f7f7\"],[0.6,\"#e6f5d0\"],[0.7,\"#b8e186\"],[0.8,\"#7fbc41\"],[0.9,\"#4d9221\"],[1,\"#276419\"]]},\"xaxis\":{\"gridcolor\":\"white\",\"linecolor\":\"white\",\"ticks\":\"\",\"title\":{\"standoff\":15},\"zerolinecolor\":\"white\",\"automargin\":true,\"zerolinewidth\":2},\"yaxis\":{\"gridcolor\":\"white\",\"linecolor\":\"white\",\"ticks\":\"\",\"title\":{\"standoff\":15},\"zerolinecolor\":\"white\",\"automargin\":true,\"zerolinewidth\":2},\"scene\":{\"xaxis\":{\"backgroundcolor\":\"#E5ECF6\",\"gridcolor\":\"white\",\"linecolor\":\"white\",\"showbackground\":true,\"ticks\":\"\",\"zerolinecolor\":\"white\",\"gridwidth\":2},\"yaxis\":{\"backgroundcolor\":\"#E5ECF6\",\"gridcolor\":\"white\",\"linecolor\":\"white\",\"showbackground\":true,\"ticks\":\"\",\"zerolinecolor\":\"white\",\"gridwidth\":2},\"zaxis\":{\"backgroundcolor\":\"#E5ECF6\",\"gridcolor\":\"white\",\"linecolor\":\"white\",\"showbackground\":true,\"ticks\":\"\",\"zerolinecolor\":\"white\",\"gridwidth\":2}},\"shapedefaults\":{\"line\":{\"color\":\"#2a3f5f\"}},\"annotationdefaults\":{\"arrowcolor\":\"#2a3f5f\",\"arrowhead\":0,\"arrowwidth\":1},\"geo\":{\"bgcolor\":\"white\",\"landcolor\":\"#E5ECF6\",\"subunitcolor\":\"white\",\"showland\":true,\"showlakes\":true,\"lakecolor\":\"white\"},\"title\":{\"x\":0.05},\"mapbox\":{\"style\":\"light\"}}},\"xaxis\":{\"anchor\":\"y\",\"domain\":[0.0,0.16799999999999998],\"title\":{\"text\":\"max_depth\"},\"type\":\"log\"},\"yaxis\":{\"anchor\":\"x\",\"domain\":[0.0,1.0],\"title\":{\"text\":\"Objective Value\"}},\"xaxis2\":{\"anchor\":\"y2\",\"domain\":[0.208,0.376],\"title\":{\"text\":\"max_features\"},\"type\":\"category\",\"categoryorder\":\"array\",\"categoryarray\":[\"sqrt\",\"log2\"]},\"yaxis2\":{\"anchor\":\"x2\",\"domain\":[0.0,1.0],\"matches\":\"y\",\"showticklabels\":false},\"xaxis3\":{\"anchor\":\"y3\",\"domain\":[0.416,0.584],\"title\":{\"text\":\"min_samples_leaf\"}},\"yaxis3\":{\"anchor\":\"x3\",\"domain\":[0.0,1.0],\"matches\":\"y\",\"showticklabels\":false},\"xaxis4\":{\"anchor\":\"y4\",\"domain\":[0.624,0.792],\"title\":{\"text\":\"min_samples_split\"}},\"yaxis4\":{\"anchor\":\"x4\",\"domain\":[0.0,1.0],\"matches\":\"y\",\"showticklabels\":false},\"xaxis5\":{\"anchor\":\"y5\",\"domain\":[0.832,1.0],\"title\":{\"text\":\"n_estimators\"}},\"yaxis5\":{\"anchor\":\"x5\",\"domain\":[0.0,1.0],\"matches\":\"y\",\"showticklabels\":false},\"title\":{\"text\":\"Slice Plot\"},\"width\":1500},                        {\"responsive\": true}                    ).then(function(){\n",
              "                            \n",
              "var gd = document.getElementById('99b1d436-4288-45a5-9c78-4c04e4cc14ec');\n",
              "var x = new MutationObserver(function (mutations, observer) {{\n",
              "        var display = window.getComputedStyle(gd).display;\n",
              "        if (!display || display === 'none') {{\n",
              "            console.log([gd, 'removed!']);\n",
              "            Plotly.purge(gd);\n",
              "            observer.disconnect();\n",
              "        }}\n",
              "}});\n",
              "\n",
              "// Listen for the removal of the full notebook cells\n",
              "var notebookContainer = gd.closest('#notebook-container');\n",
              "if (notebookContainer) {{\n",
              "    x.observe(notebookContainer, {childList: true});\n",
              "}}\n",
              "\n",
              "// Listen for the clearing of the current output cell\n",
              "var outputEl = gd.closest('.output');\n",
              "if (outputEl) {{\n",
              "    x.observe(outputEl, {childList: true});\n",
              "}}\n",
              "\n",
              "                        })                };                            </script>        </div>\n",
              "</body>\n",
              "</html>"
            ]
          },
          "metadata": {}
        }
      ],
      "source": [
        "# plot slice value plot\n",
        "optuna.visualization.plot_slice(study)"
      ]
    },
    {
      "cell_type": "markdown",
      "source": [
        "This is like a correlation plot of every hyperprameter with the objective value. (accuracy)\n",
        "\n",
        "You can observe that a max_depth between 10 to 12 is where usually you get higher accuracy."
      ],
      "metadata": {
        "id": "RqhqD3UXPdXM"
      }
    },
    {
      "cell_type": "code",
      "source": [
        "# param importance plot\n",
        "plot_param_importances(study).show()"
      ],
      "metadata": {
        "colab": {
          "base_uri": "https://localhost:8080/",
          "height": 542
        },
        "id": "0U9n1O92QHxa",
        "outputId": "545f174a-deff-45d1-b314-b5970e63ad6c"
      },
      "execution_count": 20,
      "outputs": [
        {
          "output_type": "display_data",
          "data": {
            "text/html": [
              "<html>\n",
              "<head><meta charset=\"utf-8\" /></head>\n",
              "<body>\n",
              "    <div>            <script src=\"https://cdnjs.cloudflare.com/ajax/libs/mathjax/2.7.5/MathJax.js?config=TeX-AMS-MML_SVG\"></script><script type=\"text/javascript\">if (window.MathJax && window.MathJax.Hub && window.MathJax.Hub.Config) {window.MathJax.Hub.Config({SVG: {font: \"STIX-Web\"}});}</script>                <script type=\"text/javascript\">window.PlotlyConfig = {MathJaxConfig: 'local'};</script>\n",
              "        <script charset=\"utf-8\" src=\"https://cdn.plot.ly/plotly-2.35.2.min.js\"></script>                <div id=\"88debaf3-df1e-4198-85f0-3300cbb8ded9\" class=\"plotly-graph-div\" style=\"height:525px; width:100%;\"></div>            <script type=\"text/javascript\">                                    window.PLOTLYENV=window.PLOTLYENV || {};                                    if (document.getElementById(\"88debaf3-df1e-4198-85f0-3300cbb8ded9\")) {                    Plotly.newPlot(                        \"88debaf3-df1e-4198-85f0-3300cbb8ded9\",                        [{\"cliponaxis\":false,\"hovertemplate\":[\"max_features (CategoricalDistribution): 0.0005257847764133153\\u003cextra\\u003e\\u003c\\u002fextra\\u003e\",\"max_depth (IntDistribution): 0.002924427719091086\\u003cextra\\u003e\\u003c\\u002fextra\\u003e\",\"n_estimators (IntDistribution): 0.016131040318175003\\u003cextra\\u003e\\u003c\\u002fextra\\u003e\",\"min_samples_split (FloatDistribution): 0.3893453640473548\\u003cextra\\u003e\\u003c\\u002fextra\\u003e\",\"min_samples_leaf (FloatDistribution): 0.5910733831389658\\u003cextra\\u003e\\u003c\\u002fextra\\u003e\"],\"name\":\"Objective Value\",\"orientation\":\"h\",\"text\":[\"\\u003c0.01\",\"\\u003c0.01\",\"0.02\",\"0.39\",\"0.59\"],\"textposition\":\"outside\",\"x\":[0.0005257847764133153,0.002924427719091086,0.016131040318175003,0.3893453640473548,0.5910733831389658],\"y\":[\"max_features\",\"max_depth\",\"n_estimators\",\"min_samples_split\",\"min_samples_leaf\"],\"type\":\"bar\"}],                        {\"title\":{\"text\":\"Hyperparameter Importances\"},\"xaxis\":{\"title\":{\"text\":\"Hyperparameter Importance\"}},\"yaxis\":{\"title\":{\"text\":\"Hyperparameter\"}},\"template\":{\"data\":{\"histogram2dcontour\":[{\"type\":\"histogram2dcontour\",\"colorbar\":{\"outlinewidth\":0,\"ticks\":\"\"},\"colorscale\":[[0.0,\"#0d0887\"],[0.1111111111111111,\"#46039f\"],[0.2222222222222222,\"#7201a8\"],[0.3333333333333333,\"#9c179e\"],[0.4444444444444444,\"#bd3786\"],[0.5555555555555556,\"#d8576b\"],[0.6666666666666666,\"#ed7953\"],[0.7777777777777778,\"#fb9f3a\"],[0.8888888888888888,\"#fdca26\"],[1.0,\"#f0f921\"]]}],\"choropleth\":[{\"type\":\"choropleth\",\"colorbar\":{\"outlinewidth\":0,\"ticks\":\"\"}}],\"histogram2d\":[{\"type\":\"histogram2d\",\"colorbar\":{\"outlinewidth\":0,\"ticks\":\"\"},\"colorscale\":[[0.0,\"#0d0887\"],[0.1111111111111111,\"#46039f\"],[0.2222222222222222,\"#7201a8\"],[0.3333333333333333,\"#9c179e\"],[0.4444444444444444,\"#bd3786\"],[0.5555555555555556,\"#d8576b\"],[0.6666666666666666,\"#ed7953\"],[0.7777777777777778,\"#fb9f3a\"],[0.8888888888888888,\"#fdca26\"],[1.0,\"#f0f921\"]]}],\"heatmap\":[{\"type\":\"heatmap\",\"colorbar\":{\"outlinewidth\":0,\"ticks\":\"\"},\"colorscale\":[[0.0,\"#0d0887\"],[0.1111111111111111,\"#46039f\"],[0.2222222222222222,\"#7201a8\"],[0.3333333333333333,\"#9c179e\"],[0.4444444444444444,\"#bd3786\"],[0.5555555555555556,\"#d8576b\"],[0.6666666666666666,\"#ed7953\"],[0.7777777777777778,\"#fb9f3a\"],[0.8888888888888888,\"#fdca26\"],[1.0,\"#f0f921\"]]}],\"heatmapgl\":[{\"type\":\"heatmapgl\",\"colorbar\":{\"outlinewidth\":0,\"ticks\":\"\"},\"colorscale\":[[0.0,\"#0d0887\"],[0.1111111111111111,\"#46039f\"],[0.2222222222222222,\"#7201a8\"],[0.3333333333333333,\"#9c179e\"],[0.4444444444444444,\"#bd3786\"],[0.5555555555555556,\"#d8576b\"],[0.6666666666666666,\"#ed7953\"],[0.7777777777777778,\"#fb9f3a\"],[0.8888888888888888,\"#fdca26\"],[1.0,\"#f0f921\"]]}],\"contourcarpet\":[{\"type\":\"contourcarpet\",\"colorbar\":{\"outlinewidth\":0,\"ticks\":\"\"}}],\"contour\":[{\"type\":\"contour\",\"colorbar\":{\"outlinewidth\":0,\"ticks\":\"\"},\"colorscale\":[[0.0,\"#0d0887\"],[0.1111111111111111,\"#46039f\"],[0.2222222222222222,\"#7201a8\"],[0.3333333333333333,\"#9c179e\"],[0.4444444444444444,\"#bd3786\"],[0.5555555555555556,\"#d8576b\"],[0.6666666666666666,\"#ed7953\"],[0.7777777777777778,\"#fb9f3a\"],[0.8888888888888888,\"#fdca26\"],[1.0,\"#f0f921\"]]}],\"surface\":[{\"type\":\"surface\",\"colorbar\":{\"outlinewidth\":0,\"ticks\":\"\"},\"colorscale\":[[0.0,\"#0d0887\"],[0.1111111111111111,\"#46039f\"],[0.2222222222222222,\"#7201a8\"],[0.3333333333333333,\"#9c179e\"],[0.4444444444444444,\"#bd3786\"],[0.5555555555555556,\"#d8576b\"],[0.6666666666666666,\"#ed7953\"],[0.7777777777777778,\"#fb9f3a\"],[0.8888888888888888,\"#fdca26\"],[1.0,\"#f0f921\"]]}],\"mesh3d\":[{\"type\":\"mesh3d\",\"colorbar\":{\"outlinewidth\":0,\"ticks\":\"\"}}],\"scatter\":[{\"fillpattern\":{\"fillmode\":\"overlay\",\"size\":10,\"solidity\":0.2},\"type\":\"scatter\"}],\"parcoords\":[{\"type\":\"parcoords\",\"line\":{\"colorbar\":{\"outlinewidth\":0,\"ticks\":\"\"}}}],\"scatterpolargl\":[{\"type\":\"scatterpolargl\",\"marker\":{\"colorbar\":{\"outlinewidth\":0,\"ticks\":\"\"}}}],\"bar\":[{\"error_x\":{\"color\":\"#2a3f5f\"},\"error_y\":{\"color\":\"#2a3f5f\"},\"marker\":{\"line\":{\"color\":\"#E5ECF6\",\"width\":0.5},\"pattern\":{\"fillmode\":\"overlay\",\"size\":10,\"solidity\":0.2}},\"type\":\"bar\"}],\"scattergeo\":[{\"type\":\"scattergeo\",\"marker\":{\"colorbar\":{\"outlinewidth\":0,\"ticks\":\"\"}}}],\"scatterpolar\":[{\"type\":\"scatterpolar\",\"marker\":{\"colorbar\":{\"outlinewidth\":0,\"ticks\":\"\"}}}],\"histogram\":[{\"marker\":{\"pattern\":{\"fillmode\":\"overlay\",\"size\":10,\"solidity\":0.2}},\"type\":\"histogram\"}],\"scattergl\":[{\"type\":\"scattergl\",\"marker\":{\"colorbar\":{\"outlinewidth\":0,\"ticks\":\"\"}}}],\"scatter3d\":[{\"type\":\"scatter3d\",\"line\":{\"colorbar\":{\"outlinewidth\":0,\"ticks\":\"\"}},\"marker\":{\"colorbar\":{\"outlinewidth\":0,\"ticks\":\"\"}}}],\"scattermapbox\":[{\"type\":\"scattermapbox\",\"marker\":{\"colorbar\":{\"outlinewidth\":0,\"ticks\":\"\"}}}],\"scatterternary\":[{\"type\":\"scatterternary\",\"marker\":{\"colorbar\":{\"outlinewidth\":0,\"ticks\":\"\"}}}],\"scattercarpet\":[{\"type\":\"scattercarpet\",\"marker\":{\"colorbar\":{\"outlinewidth\":0,\"ticks\":\"\"}}}],\"carpet\":[{\"aaxis\":{\"endlinecolor\":\"#2a3f5f\",\"gridcolor\":\"white\",\"linecolor\":\"white\",\"minorgridcolor\":\"white\",\"startlinecolor\":\"#2a3f5f\"},\"baxis\":{\"endlinecolor\":\"#2a3f5f\",\"gridcolor\":\"white\",\"linecolor\":\"white\",\"minorgridcolor\":\"white\",\"startlinecolor\":\"#2a3f5f\"},\"type\":\"carpet\"}],\"table\":[{\"cells\":{\"fill\":{\"color\":\"#EBF0F8\"},\"line\":{\"color\":\"white\"}},\"header\":{\"fill\":{\"color\":\"#C8D4E3\"},\"line\":{\"color\":\"white\"}},\"type\":\"table\"}],\"barpolar\":[{\"marker\":{\"line\":{\"color\":\"#E5ECF6\",\"width\":0.5},\"pattern\":{\"fillmode\":\"overlay\",\"size\":10,\"solidity\":0.2}},\"type\":\"barpolar\"}],\"pie\":[{\"automargin\":true,\"type\":\"pie\"}]},\"layout\":{\"autotypenumbers\":\"strict\",\"colorway\":[\"#636efa\",\"#EF553B\",\"#00cc96\",\"#ab63fa\",\"#FFA15A\",\"#19d3f3\",\"#FF6692\",\"#B6E880\",\"#FF97FF\",\"#FECB52\"],\"font\":{\"color\":\"#2a3f5f\"},\"hovermode\":\"closest\",\"hoverlabel\":{\"align\":\"left\"},\"paper_bgcolor\":\"white\",\"plot_bgcolor\":\"#E5ECF6\",\"polar\":{\"bgcolor\":\"#E5ECF6\",\"angularaxis\":{\"gridcolor\":\"white\",\"linecolor\":\"white\",\"ticks\":\"\"},\"radialaxis\":{\"gridcolor\":\"white\",\"linecolor\":\"white\",\"ticks\":\"\"}},\"ternary\":{\"bgcolor\":\"#E5ECF6\",\"aaxis\":{\"gridcolor\":\"white\",\"linecolor\":\"white\",\"ticks\":\"\"},\"baxis\":{\"gridcolor\":\"white\",\"linecolor\":\"white\",\"ticks\":\"\"},\"caxis\":{\"gridcolor\":\"white\",\"linecolor\":\"white\",\"ticks\":\"\"}},\"coloraxis\":{\"colorbar\":{\"outlinewidth\":0,\"ticks\":\"\"}},\"colorscale\":{\"sequential\":[[0.0,\"#0d0887\"],[0.1111111111111111,\"#46039f\"],[0.2222222222222222,\"#7201a8\"],[0.3333333333333333,\"#9c179e\"],[0.4444444444444444,\"#bd3786\"],[0.5555555555555556,\"#d8576b\"],[0.6666666666666666,\"#ed7953\"],[0.7777777777777778,\"#fb9f3a\"],[0.8888888888888888,\"#fdca26\"],[1.0,\"#f0f921\"]],\"sequentialminus\":[[0.0,\"#0d0887\"],[0.1111111111111111,\"#46039f\"],[0.2222222222222222,\"#7201a8\"],[0.3333333333333333,\"#9c179e\"],[0.4444444444444444,\"#bd3786\"],[0.5555555555555556,\"#d8576b\"],[0.6666666666666666,\"#ed7953\"],[0.7777777777777778,\"#fb9f3a\"],[0.8888888888888888,\"#fdca26\"],[1.0,\"#f0f921\"]],\"diverging\":[[0,\"#8e0152\"],[0.1,\"#c51b7d\"],[0.2,\"#de77ae\"],[0.3,\"#f1b6da\"],[0.4,\"#fde0ef\"],[0.5,\"#f7f7f7\"],[0.6,\"#e6f5d0\"],[0.7,\"#b8e186\"],[0.8,\"#7fbc41\"],[0.9,\"#4d9221\"],[1,\"#276419\"]]},\"xaxis\":{\"gridcolor\":\"white\",\"linecolor\":\"white\",\"ticks\":\"\",\"title\":{\"standoff\":15},\"zerolinecolor\":\"white\",\"automargin\":true,\"zerolinewidth\":2},\"yaxis\":{\"gridcolor\":\"white\",\"linecolor\":\"white\",\"ticks\":\"\",\"title\":{\"standoff\":15},\"zerolinecolor\":\"white\",\"automargin\":true,\"zerolinewidth\":2},\"scene\":{\"xaxis\":{\"backgroundcolor\":\"#E5ECF6\",\"gridcolor\":\"white\",\"linecolor\":\"white\",\"showbackground\":true,\"ticks\":\"\",\"zerolinecolor\":\"white\",\"gridwidth\":2},\"yaxis\":{\"backgroundcolor\":\"#E5ECF6\",\"gridcolor\":\"white\",\"linecolor\":\"white\",\"showbackground\":true,\"ticks\":\"\",\"zerolinecolor\":\"white\",\"gridwidth\":2},\"zaxis\":{\"backgroundcolor\":\"#E5ECF6\",\"gridcolor\":\"white\",\"linecolor\":\"white\",\"showbackground\":true,\"ticks\":\"\",\"zerolinecolor\":\"white\",\"gridwidth\":2}},\"shapedefaults\":{\"line\":{\"color\":\"#2a3f5f\"}},\"annotationdefaults\":{\"arrowcolor\":\"#2a3f5f\",\"arrowhead\":0,\"arrowwidth\":1},\"geo\":{\"bgcolor\":\"white\",\"landcolor\":\"#E5ECF6\",\"subunitcolor\":\"white\",\"showland\":true,\"showlakes\":true,\"lakecolor\":\"white\"},\"title\":{\"x\":0.05},\"mapbox\":{\"style\":\"light\"}}}},                        {\"responsive\": true}                    ).then(function(){\n",
              "                            \n",
              "var gd = document.getElementById('88debaf3-df1e-4198-85f0-3300cbb8ded9');\n",
              "var x = new MutationObserver(function (mutations, observer) {{\n",
              "        var display = window.getComputedStyle(gd).display;\n",
              "        if (!display || display === 'none') {{\n",
              "            console.log([gd, 'removed!']);\n",
              "            Plotly.purge(gd);\n",
              "            observer.disconnect();\n",
              "        }}\n",
              "}});\n",
              "\n",
              "// Listen for the removal of the full notebook cells\n",
              "var notebookContainer = gd.closest('#notebook-container');\n",
              "if (notebookContainer) {{\n",
              "    x.observe(notebookContainer, {childList: true});\n",
              "}}\n",
              "\n",
              "// Listen for the clearing of the current output cell\n",
              "var outputEl = gd.closest('.output');\n",
              "if (outputEl) {{\n",
              "    x.observe(outputEl, {childList: true});\n",
              "}}\n",
              "\n",
              "                        })                };                            </script>        </div>\n",
              "</body>\n",
              "</html>"
            ]
          },
          "metadata": {}
        }
      ]
    },
    {
      "cell_type": "markdown",
      "source": [
        "This tells you that min_samples_leaf has a importance of 60% whereas max_depth's importance is onlyu 4-5%"
      ],
      "metadata": {
        "id": "YP4gGI9uQNjS"
      }
    },
    {
      "cell_type": "code",
      "source": [],
      "metadata": {
        "id": "oLHSCv7hQBVr"
      },
      "execution_count": null,
      "outputs": []
    },
    {
      "cell_type": "markdown",
      "source": [
        "## Selecting ML Model using Optuna"
      ],
      "metadata": {
        "id": "CSfABbICRXZq"
      }
    },
    {
      "cell_type": "markdown",
      "source": [
        "With Optuna, earlier we saw how we can choose hyperparameter values for a particular model.\n",
        "\n",
        "Optuna also helps us to idenify which model is best suited for this data along with its hyperparameter values."
      ],
      "metadata": {
        "id": "5jmcWhcSRhfn"
      }
    },
    {
      "cell_type": "code",
      "source": [
        "# lets import a few models\n",
        "from sklearn.tree import DecisionTreeClassifier\n",
        "from sklearn.ensemble import RandomForestClassifier, GradientBoostingClassifier\n",
        "from sklearn.svm import SVC"
      ],
      "metadata": {
        "id": "e8FhGEGeRg5g"
      },
      "execution_count": 21,
      "outputs": []
    },
    {
      "cell_type": "markdown",
      "source": [
        "### Define by Run method"
      ],
      "metadata": {
        "id": "1bPITJ3gT9D0"
      }
    },
    {
      "cell_type": "code",
      "source": [
        "# lets define the objective function\n",
        "def objf(trial):\n",
        "  # choose the algorithm to tune\n",
        "  classifier_name = trial.suggest_categorical('classifier', ['SVC', 'RandomForest', 'DecisionTree'])\n",
        "\n",
        "  if classifier_name == 'SVC':\n",
        "    # hyperarameters\n",
        "    c = trial.suggest_float('c', 1e-10, 1e10, log=True)\n",
        "    kernel = trial.suggest_categorical('kernel', ['linear', 'poly', 'rbf', 'sigmoid'])\n",
        "    gamma = trial.suggest_categorical('gamma', ['scale', 'auto'])\n",
        "\n",
        "    # create the model\n",
        "    model = SVC(C=c, kernel=kernel, gamma=gamma, random_state=42)\n",
        "\n",
        "  elif classifier_name=='RandomForest':\n",
        "    n_estimators=trial.suggest_int('n_estimators', 2, 150)\n",
        "    max_depth=trial.suggest_int('max_depth', 1, 32, log=True)\n",
        "    min_samples_split= trial.suggest_float('min_samples_split', 0.1, 1)\n",
        "    min_samples_leaf=trial.suggest_float('min_samples_leaf', 0.1, 0.5)\n",
        "    max_features=trial.suggest_categorical('max_features', ['sqrt', 'log2'])\n",
        "    bootstrap=trial.suggest_categorical('bootstrap', [True, False])\n",
        "\n",
        "    # create the model\n",
        "    model = RandomForestClassifier(\n",
        "        n_estimators=n_estimators,\n",
        "        max_depth=max_depth,\n",
        "        min_samples_split=min_samples_split,\n",
        "        min_samples_leaf=min_samples_leaf,\n",
        "        max_features=max_features,\n",
        "        bootstrap=bootstrap\n",
        "    )\n",
        "\n",
        "    #you can use the 3rd one as well\n",
        "    score = cross_val_score(model, X, y, cv=3, scoring='accuracy').mean()\n",
        "    return score"
      ],
      "metadata": {
        "id": "ywD41dU-SAif"
      },
      "execution_count": 22,
      "outputs": []
    },
    {
      "cell_type": "code",
      "source": [
        "from re import VERBOSE\n",
        "# create a study\n",
        "study = optuna.create_study(direction='maximize')\n",
        "\n",
        "study.optimize(objf, n_trials=50)"
      ],
      "metadata": {
        "id": "f_Rh2VWDT6qB"
      },
      "execution_count": null,
      "outputs": []
    },
    {
      "cell_type": "code",
      "source": [
        "# print the best trial\n",
        "best_trial = study.best_trial\n",
        "print(\"Best trial parameters:\", best_trial.params)\n",
        "print(\"Best accuracy:\", best_trial.value)"
      ],
      "metadata": {
        "colab": {
          "base_uri": "https://localhost:8080/"
        },
        "id": "aqhQcUQsUJao",
        "outputId": "0b00a8a6-be07-4313-bae4-b9301dcc141e"
      },
      "execution_count": 31,
      "outputs": [
        {
          "output_type": "stream",
          "name": "stdout",
          "text": [
            "Best trial parameters: {'classifier': 'RandomForest', 'n_estimators': 84, 'max_depth': 12, 'min_samples_split': 0.24117885530298538, 'min_samples_leaf': 0.10417796450866255, 'max_features': 'log2', 'bootstrap': True}\n",
            "Best accuracy: 0.9466666666666667\n"
          ]
        }
      ]
    },
    {
      "cell_type": "markdown",
      "source": [
        "The above code only tested RandomForest and SVC and found RandomForest giving best results."
      ],
      "metadata": {
        "id": "KUVksEoGU98E"
      }
    },
    {
      "cell_type": "code",
      "source": [
        "study.trials_dataframe().groupby('params_classifier')['value'].mean()"
      ],
      "metadata": {
        "colab": {
          "base_uri": "https://localhost:8080/",
          "height": 209
        },
        "id": "5UAsqlqEUvHT",
        "outputId": "d9b675da-b564-42e1-9123-25005987eebe"
      },
      "execution_count": 30,
      "outputs": [
        {
          "output_type": "execute_result",
          "data": {
            "text/plain": [
              "params_classifier\n",
              "DecisionTree      NaN\n",
              "RandomForest    0.702\n",
              "SVC               NaN\n",
              "Name: value, dtype: float64"
            ],
            "text/html": [
              "<div>\n",
              "<style scoped>\n",
              "    .dataframe tbody tr th:only-of-type {\n",
              "        vertical-align: middle;\n",
              "    }\n",
              "\n",
              "    .dataframe tbody tr th {\n",
              "        vertical-align: top;\n",
              "    }\n",
              "\n",
              "    .dataframe thead th {\n",
              "        text-align: right;\n",
              "    }\n",
              "</style>\n",
              "<table border=\"1\" class=\"dataframe\">\n",
              "  <thead>\n",
              "    <tr style=\"text-align: right;\">\n",
              "      <th></th>\n",
              "      <th>value</th>\n",
              "    </tr>\n",
              "    <tr>\n",
              "      <th>params_classifier</th>\n",
              "      <th></th>\n",
              "    </tr>\n",
              "  </thead>\n",
              "  <tbody>\n",
              "    <tr>\n",
              "      <th>DecisionTree</th>\n",
              "      <td>NaN</td>\n",
              "    </tr>\n",
              "    <tr>\n",
              "      <th>RandomForest</th>\n",
              "      <td>0.702</td>\n",
              "    </tr>\n",
              "    <tr>\n",
              "      <th>SVC</th>\n",
              "      <td>NaN</td>\n",
              "    </tr>\n",
              "  </tbody>\n",
              "</table>\n",
              "</div><br><label><b>dtype:</b> float64</label>"
            ]
          },
          "metadata": {},
          "execution_count": 30
        }
      ]
    },
    {
      "cell_type": "markdown",
      "source": [
        "You can observe that out of 50 trials, Optuna was smart enought to realise that the potential is somewhere between the SVC and Deci"
      ],
      "metadata": {
        "id": "z_O_683MVol5"
      }
    },
    {
      "cell_type": "code",
      "source": [],
      "metadata": {
        "id": "oslKEMQvVlFE"
      },
      "execution_count": null,
      "outputs": []
    }
  ],
  "metadata": {
    "colab": {
      "provenance": []
    },
    "kernelspec": {
      "display_name": "Python 3",
      "name": "python3"
    }
  },
  "nbformat": 4,
  "nbformat_minor": 0
}